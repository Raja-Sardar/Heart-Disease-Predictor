{
 "cells": [
  {
   "cell_type": "code",
   "execution_count": 1,
   "id": "6e5bc2d2",
   "metadata": {},
   "outputs": [],
   "source": [
    "import pandas as pd\n",
    "import numpy as np\n",
    "import matplotlib.pyplot as plt\n",
    "%matplotlib inline\n",
    "from pylab import rcParams\n",
    "rcParams['figure.figsize']=20,10"
   ]
  },
  {
   "cell_type": "code",
   "execution_count": 2,
   "id": "e52b5704",
   "metadata": {},
   "outputs": [],
   "source": [
    "data=pd.read_csv(\"heart.csv\")"
   ]
  },
  {
   "cell_type": "code",
   "execution_count": 3,
   "id": "fed78f92",
   "metadata": {},
   "outputs": [
    {
     "data": {
      "text/html": [
       "<div>\n",
       "<style scoped>\n",
       "    .dataframe tbody tr th:only-of-type {\n",
       "        vertical-align: middle;\n",
       "    }\n",
       "\n",
       "    .dataframe tbody tr th {\n",
       "        vertical-align: top;\n",
       "    }\n",
       "\n",
       "    .dataframe thead th {\n",
       "        text-align: right;\n",
       "    }\n",
       "</style>\n",
       "<table border=\"1\" class=\"dataframe\">\n",
       "  <thead>\n",
       "    <tr style=\"text-align: right;\">\n",
       "      <th></th>\n",
       "      <th>age</th>\n",
       "      <th>sex</th>\n",
       "      <th>chest_pain_type</th>\n",
       "      <th>resting_bp</th>\n",
       "      <th>cholestoral</th>\n",
       "      <th>fasting_blood_sugar</th>\n",
       "      <th>restecg</th>\n",
       "      <th>max_hr</th>\n",
       "      <th>exang</th>\n",
       "      <th>oldpeak</th>\n",
       "      <th>slope</th>\n",
       "      <th>num_major_vessels</th>\n",
       "      <th>thal</th>\n",
       "      <th>target</th>\n",
       "    </tr>\n",
       "  </thead>\n",
       "  <tbody>\n",
       "    <tr>\n",
       "      <th>0</th>\n",
       "      <td>63</td>\n",
       "      <td>1</td>\n",
       "      <td>3</td>\n",
       "      <td>145</td>\n",
       "      <td>233</td>\n",
       "      <td>1</td>\n",
       "      <td>0</td>\n",
       "      <td>150</td>\n",
       "      <td>0</td>\n",
       "      <td>2.3</td>\n",
       "      <td>0</td>\n",
       "      <td>0</td>\n",
       "      <td>1</td>\n",
       "      <td>1</td>\n",
       "    </tr>\n",
       "    <tr>\n",
       "      <th>1</th>\n",
       "      <td>37</td>\n",
       "      <td>1</td>\n",
       "      <td>2</td>\n",
       "      <td>130</td>\n",
       "      <td>250</td>\n",
       "      <td>0</td>\n",
       "      <td>1</td>\n",
       "      <td>187</td>\n",
       "      <td>0</td>\n",
       "      <td>3.5</td>\n",
       "      <td>0</td>\n",
       "      <td>0</td>\n",
       "      <td>2</td>\n",
       "      <td>1</td>\n",
       "    </tr>\n",
       "    <tr>\n",
       "      <th>2</th>\n",
       "      <td>41</td>\n",
       "      <td>0</td>\n",
       "      <td>1</td>\n",
       "      <td>130</td>\n",
       "      <td>204</td>\n",
       "      <td>0</td>\n",
       "      <td>0</td>\n",
       "      <td>172</td>\n",
       "      <td>0</td>\n",
       "      <td>1.4</td>\n",
       "      <td>2</td>\n",
       "      <td>0</td>\n",
       "      <td>2</td>\n",
       "      <td>1</td>\n",
       "    </tr>\n",
       "    <tr>\n",
       "      <th>3</th>\n",
       "      <td>56</td>\n",
       "      <td>1</td>\n",
       "      <td>1</td>\n",
       "      <td>120</td>\n",
       "      <td>236</td>\n",
       "      <td>0</td>\n",
       "      <td>1</td>\n",
       "      <td>178</td>\n",
       "      <td>0</td>\n",
       "      <td>0.8</td>\n",
       "      <td>2</td>\n",
       "      <td>0</td>\n",
       "      <td>2</td>\n",
       "      <td>1</td>\n",
       "    </tr>\n",
       "    <tr>\n",
       "      <th>4</th>\n",
       "      <td>57</td>\n",
       "      <td>0</td>\n",
       "      <td>0</td>\n",
       "      <td>120</td>\n",
       "      <td>354</td>\n",
       "      <td>0</td>\n",
       "      <td>1</td>\n",
       "      <td>163</td>\n",
       "      <td>1</td>\n",
       "      <td>0.6</td>\n",
       "      <td>2</td>\n",
       "      <td>0</td>\n",
       "      <td>2</td>\n",
       "      <td>1</td>\n",
       "    </tr>\n",
       "    <tr>\n",
       "      <th>...</th>\n",
       "      <td>...</td>\n",
       "      <td>...</td>\n",
       "      <td>...</td>\n",
       "      <td>...</td>\n",
       "      <td>...</td>\n",
       "      <td>...</td>\n",
       "      <td>...</td>\n",
       "      <td>...</td>\n",
       "      <td>...</td>\n",
       "      <td>...</td>\n",
       "      <td>...</td>\n",
       "      <td>...</td>\n",
       "      <td>...</td>\n",
       "      <td>...</td>\n",
       "    </tr>\n",
       "    <tr>\n",
       "      <th>298</th>\n",
       "      <td>57</td>\n",
       "      <td>0</td>\n",
       "      <td>0</td>\n",
       "      <td>140</td>\n",
       "      <td>241</td>\n",
       "      <td>0</td>\n",
       "      <td>1</td>\n",
       "      <td>123</td>\n",
       "      <td>1</td>\n",
       "      <td>0.2</td>\n",
       "      <td>1</td>\n",
       "      <td>0</td>\n",
       "      <td>3</td>\n",
       "      <td>0</td>\n",
       "    </tr>\n",
       "    <tr>\n",
       "      <th>299</th>\n",
       "      <td>45</td>\n",
       "      <td>1</td>\n",
       "      <td>3</td>\n",
       "      <td>110</td>\n",
       "      <td>264</td>\n",
       "      <td>0</td>\n",
       "      <td>1</td>\n",
       "      <td>132</td>\n",
       "      <td>0</td>\n",
       "      <td>1.2</td>\n",
       "      <td>1</td>\n",
       "      <td>0</td>\n",
       "      <td>3</td>\n",
       "      <td>0</td>\n",
       "    </tr>\n",
       "    <tr>\n",
       "      <th>300</th>\n",
       "      <td>68</td>\n",
       "      <td>1</td>\n",
       "      <td>0</td>\n",
       "      <td>144</td>\n",
       "      <td>193</td>\n",
       "      <td>1</td>\n",
       "      <td>1</td>\n",
       "      <td>141</td>\n",
       "      <td>0</td>\n",
       "      <td>3.4</td>\n",
       "      <td>1</td>\n",
       "      <td>2</td>\n",
       "      <td>3</td>\n",
       "      <td>0</td>\n",
       "    </tr>\n",
       "    <tr>\n",
       "      <th>301</th>\n",
       "      <td>57</td>\n",
       "      <td>1</td>\n",
       "      <td>0</td>\n",
       "      <td>130</td>\n",
       "      <td>131</td>\n",
       "      <td>0</td>\n",
       "      <td>1</td>\n",
       "      <td>115</td>\n",
       "      <td>1</td>\n",
       "      <td>1.2</td>\n",
       "      <td>1</td>\n",
       "      <td>1</td>\n",
       "      <td>3</td>\n",
       "      <td>0</td>\n",
       "    </tr>\n",
       "    <tr>\n",
       "      <th>302</th>\n",
       "      <td>57</td>\n",
       "      <td>0</td>\n",
       "      <td>1</td>\n",
       "      <td>130</td>\n",
       "      <td>236</td>\n",
       "      <td>0</td>\n",
       "      <td>0</td>\n",
       "      <td>174</td>\n",
       "      <td>0</td>\n",
       "      <td>0.0</td>\n",
       "      <td>1</td>\n",
       "      <td>1</td>\n",
       "      <td>2</td>\n",
       "      <td>0</td>\n",
       "    </tr>\n",
       "  </tbody>\n",
       "</table>\n",
       "<p>303 rows × 14 columns</p>\n",
       "</div>"
      ],
      "text/plain": [
       "     age  sex  chest_pain_type  resting_bp  cholestoral  fasting_blood_sugar  \\\n",
       "0     63    1                3         145          233                    1   \n",
       "1     37    1                2         130          250                    0   \n",
       "2     41    0                1         130          204                    0   \n",
       "3     56    1                1         120          236                    0   \n",
       "4     57    0                0         120          354                    0   \n",
       "..   ...  ...              ...         ...          ...                  ...   \n",
       "298   57    0                0         140          241                    0   \n",
       "299   45    1                3         110          264                    0   \n",
       "300   68    1                0         144          193                    1   \n",
       "301   57    1                0         130          131                    0   \n",
       "302   57    0                1         130          236                    0   \n",
       "\n",
       "     restecg  max_hr  exang  oldpeak  slope  num_major_vessels  thal  target  \n",
       "0          0     150      0      2.3      0                  0     1       1  \n",
       "1          1     187      0      3.5      0                  0     2       1  \n",
       "2          0     172      0      1.4      2                  0     2       1  \n",
       "3          1     178      0      0.8      2                  0     2       1  \n",
       "4          1     163      1      0.6      2                  0     2       1  \n",
       "..       ...     ...    ...      ...    ...                ...   ...     ...  \n",
       "298        1     123      1      0.2      1                  0     3       0  \n",
       "299        1     132      0      1.2      1                  0     3       0  \n",
       "300        1     141      0      3.4      1                  2     3       0  \n",
       "301        1     115      1      1.2      1                  1     3       0  \n",
       "302        0     174      0      0.0      1                  1     2       0  \n",
       "\n",
       "[303 rows x 14 columns]"
      ]
     },
     "execution_count": 3,
     "metadata": {},
     "output_type": "execute_result"
    }
   ],
   "source": [
    "data"
   ]
  },
  {
   "cell_type": "code",
   "execution_count": 4,
   "id": "5c1c344e",
   "metadata": {},
   "outputs": [
    {
     "data": {
      "text/plain": [
       "Index(['age', 'sex', 'chest_pain_type', 'resting_bp', 'cholestoral',\n",
       "       'fasting_blood_sugar', 'restecg', 'max_hr', 'exang', 'oldpeak', 'slope',\n",
       "       'num_major_vessels', 'thal', 'target'],\n",
       "      dtype='object')"
      ]
     },
     "execution_count": 4,
     "metadata": {},
     "output_type": "execute_result"
    }
   ],
   "source": [
    "data.columns"
   ]
  },
  {
   "cell_type": "code",
   "execution_count": 5,
   "id": "b9057ea3",
   "metadata": {},
   "outputs": [
    {
     "data": {
      "text/plain": [
       "age                    0\n",
       "sex                    0\n",
       "chest_pain_type        0\n",
       "resting_bp             0\n",
       "cholestoral            0\n",
       "fasting_blood_sugar    0\n",
       "restecg                0\n",
       "max_hr                 0\n",
       "exang                  0\n",
       "oldpeak                0\n",
       "slope                  0\n",
       "num_major_vessels      0\n",
       "thal                   0\n",
       "target                 0\n",
       "dtype: int64"
      ]
     },
     "execution_count": 5,
     "metadata": {},
     "output_type": "execute_result"
    }
   ],
   "source": [
    "data.isnull().sum()"
   ]
  },
  {
   "cell_type": "code",
   "execution_count": 6,
   "id": "4f1c6d97",
   "metadata": {},
   "outputs": [],
   "source": [
    "import seaborn as sns"
   ]
  },
  {
   "cell_type": "code",
   "execution_count": 7,
   "id": "ad70c504",
   "metadata": {
    "scrolled": true
   },
   "outputs": [
    {
     "data": {
      "text/plain": [
       "<AxesSubplot:>"
      ]
     },
     "execution_count": 7,
     "metadata": {},
     "output_type": "execute_result"
    },
    {
     "data": {
      "image/png": "[encoded data removed]",
      "text/plain": [
       "<Figure size 1440x720 with 1 Axes>"
      ]
     },
     "metadata": {
      "needs_background": "light"
     },
     "output_type": "display_data"
    }
   ],
   "source": [
    "sns.boxplot(data=data)"
   ]
  },
  {
   "cell_type": "code",
   "execution_count": 8,
   "id": "12052584",
   "metadata": {},
   "outputs": [
    {
     "data": {
      "text/html": [
       "<div>\n",
       "<style scoped>\n",
       "    .dataframe tbody tr th:only-of-type {\n",
       "        vertical-align: middle;\n",
       "    }\n",
       "\n",
       "    .dataframe tbody tr th {\n",
       "        vertical-align: top;\n",
       "    }\n",
       "\n",
       "    .dataframe thead th {\n",
       "        text-align: right;\n",
       "    }\n",
       "</style>\n",
       "<table border=\"1\" class=\"dataframe\">\n",
       "  <thead>\n",
       "    <tr style=\"text-align: right;\">\n",
       "      <th></th>\n",
       "      <th>age</th>\n",
       "      <th>sex</th>\n",
       "      <th>chest_pain_type</th>\n",
       "      <th>resting_bp</th>\n",
       "      <th>cholestoral</th>\n",
       "      <th>fasting_blood_sugar</th>\n",
       "      <th>restecg</th>\n",
       "      <th>max_hr</th>\n",
       "      <th>exang</th>\n",
       "      <th>oldpeak</th>\n",
       "      <th>slope</th>\n",
       "      <th>num_major_vessels</th>\n",
       "      <th>thal</th>\n",
       "      <th>target</th>\n",
       "    </tr>\n",
       "  </thead>\n",
       "  <tbody>\n",
       "    <tr>\n",
       "      <th>count</th>\n",
       "      <td>303.000000</td>\n",
       "      <td>303.000000</td>\n",
       "      <td>303.000000</td>\n",
       "      <td>303.000000</td>\n",
       "      <td>303.000000</td>\n",
       "      <td>303.000000</td>\n",
       "      <td>303.000000</td>\n",
       "      <td>303.000000</td>\n",
       "      <td>303.000000</td>\n",
       "      <td>303.000000</td>\n",
       "      <td>303.000000</td>\n",
       "      <td>303.000000</td>\n",
       "      <td>303.000000</td>\n",
       "      <td>303.000000</td>\n",
       "    </tr>\n",
       "    <tr>\n",
       "      <th>mean</th>\n",
       "      <td>54.366337</td>\n",
       "      <td>0.683168</td>\n",
       "      <td>0.966997</td>\n",
       "      <td>131.623762</td>\n",
       "      <td>246.264026</td>\n",
       "      <td>0.148515</td>\n",
       "      <td>0.528053</td>\n",
       "      <td>149.646865</td>\n",
       "      <td>0.326733</td>\n",
       "      <td>1.039604</td>\n",
       "      <td>1.399340</td>\n",
       "      <td>0.729373</td>\n",
       "      <td>2.313531</td>\n",
       "      <td>0.544554</td>\n",
       "    </tr>\n",
       "    <tr>\n",
       "      <th>std</th>\n",
       "      <td>9.082101</td>\n",
       "      <td>0.466011</td>\n",
       "      <td>1.032052</td>\n",
       "      <td>17.538143</td>\n",
       "      <td>51.830751</td>\n",
       "      <td>0.356198</td>\n",
       "      <td>0.525860</td>\n",
       "      <td>22.905161</td>\n",
       "      <td>0.469794</td>\n",
       "      <td>1.161075</td>\n",
       "      <td>0.616226</td>\n",
       "      <td>1.022606</td>\n",
       "      <td>0.612277</td>\n",
       "      <td>0.498835</td>\n",
       "    </tr>\n",
       "    <tr>\n",
       "      <th>min</th>\n",
       "      <td>29.000000</td>\n",
       "      <td>0.000000</td>\n",
       "      <td>0.000000</td>\n",
       "      <td>94.000000</td>\n",
       "      <td>126.000000</td>\n",
       "      <td>0.000000</td>\n",
       "      <td>0.000000</td>\n",
       "      <td>71.000000</td>\n",
       "      <td>0.000000</td>\n",
       "      <td>0.000000</td>\n",
       "      <td>0.000000</td>\n",
       "      <td>0.000000</td>\n",
       "      <td>0.000000</td>\n",
       "      <td>0.000000</td>\n",
       "    </tr>\n",
       "    <tr>\n",
       "      <th>25%</th>\n",
       "      <td>47.500000</td>\n",
       "      <td>0.000000</td>\n",
       "      <td>0.000000</td>\n",
       "      <td>120.000000</td>\n",
       "      <td>211.000000</td>\n",
       "      <td>0.000000</td>\n",
       "      <td>0.000000</td>\n",
       "      <td>133.500000</td>\n",
       "      <td>0.000000</td>\n",
       "      <td>0.000000</td>\n",
       "      <td>1.000000</td>\n",
       "      <td>0.000000</td>\n",
       "      <td>2.000000</td>\n",
       "      <td>0.000000</td>\n",
       "    </tr>\n",
       "    <tr>\n",
       "      <th>50%</th>\n",
       "      <td>55.000000</td>\n",
       "      <td>1.000000</td>\n",
       "      <td>1.000000</td>\n",
       "      <td>130.000000</td>\n",
       "      <td>240.000000</td>\n",
       "      <td>0.000000</td>\n",
       "      <td>1.000000</td>\n",
       "      <td>153.000000</td>\n",
       "      <td>0.000000</td>\n",
       "      <td>0.800000</td>\n",
       "      <td>1.000000</td>\n",
       "      <td>0.000000</td>\n",
       "      <td>2.000000</td>\n",
       "      <td>1.000000</td>\n",
       "    </tr>\n",
       "    <tr>\n",
       "      <th>75%</th>\n",
       "      <td>61.000000</td>\n",
       "      <td>1.000000</td>\n",
       "      <td>2.000000</td>\n",
       "      <td>140.000000</td>\n",
       "      <td>274.500000</td>\n",
       "      <td>0.000000</td>\n",
       "      <td>1.000000</td>\n",
       "      <td>166.000000</td>\n",
       "      <td>1.000000</td>\n",
       "      <td>1.600000</td>\n",
       "      <td>2.000000</td>\n",
       "      <td>1.000000</td>\n",
       "      <td>3.000000</td>\n",
       "      <td>1.000000</td>\n",
       "    </tr>\n",
       "    <tr>\n",
       "      <th>max</th>\n",
       "      <td>77.000000</td>\n",
       "      <td>1.000000</td>\n",
       "      <td>3.000000</td>\n",
       "      <td>200.000000</td>\n",
       "      <td>564.000000</td>\n",
       "      <td>1.000000</td>\n",
       "      <td>2.000000</td>\n",
       "      <td>202.000000</td>\n",
       "      <td>1.000000</td>\n",
       "      <td>6.200000</td>\n",
       "      <td>2.000000</td>\n",
       "      <td>4.000000</td>\n",
       "      <td>3.000000</td>\n",
       "      <td>1.000000</td>\n",
       "    </tr>\n",
       "  </tbody>\n",
       "</table>\n",
       "</div>"
      ],
      "text/plain": [
       "              age         sex  chest_pain_type  resting_bp  cholestoral  \\\n",
       "count  303.000000  303.000000       303.000000  303.000000   303.000000   \n",
       "mean    54.366337    0.683168         0.966997  131.623762   246.264026   \n",
       "std      9.082101    0.466011         1.032052   17.538143    51.830751   \n",
       "min     29.000000    0.000000         0.000000   94.000000   126.000000   \n",
       "25%     47.500000    0.000000         0.000000  120.000000   211.000000   \n",
       "50%     55.000000    1.000000         1.000000  130.000000   240.000000   \n",
       "75%     61.000000    1.000000         2.000000  140.000000   274.500000   \n",
       "max     77.000000    1.000000         3.000000  200.000000   564.000000   \n",
       "\n",
       "       fasting_blood_sugar     restecg      max_hr       exang     oldpeak  \\\n",
       "count           303.000000  303.000000  303.000000  303.000000  303.000000   \n",
       "mean              0.148515    0.528053  149.646865    0.326733    1.039604   \n",
       "std               0.356198    0.525860   22.905161    0.469794    1.161075   \n",
       "min               0.000000    0.000000   71.000000    0.000000    0.000000   \n",
       "25%               0.000000    0.000000  133.500000    0.000000    0.000000   \n",
       "50%               0.000000    1.000000  153.000000    0.000000    0.800000   \n",
       "75%               0.000000    1.000000  166.000000    1.000000    1.600000   \n",
       "max               1.000000    2.000000  202.000000    1.000000    6.200000   \n",
       "\n",
       "            slope  num_major_vessels        thal      target  \n",
       "count  303.000000         303.000000  303.000000  303.000000  \n",
       "mean     1.399340           0.729373    2.313531    0.544554  \n",
       "std      0.616226           1.022606    0.612277    0.498835  \n",
       "min      0.000000           0.000000    0.000000    0.000000  \n",
       "25%      1.000000           0.000000    2.000000    0.000000  \n",
       "50%      1.000000           0.000000    2.000000    1.000000  \n",
       "75%      2.000000           1.000000    3.000000    1.000000  \n",
       "max      2.000000           4.000000    3.000000    1.000000  "
      ]
     },
     "execution_count": 8,
     "metadata": {},
     "output_type": "execute_result"
    }
   ],
   "source": [
    "data.describe()"
   ]
  },
  {
   "cell_type": "markdown",
   "id": "421f5399",
   "metadata": {},
   "source": [
    "# Outliers are present in resting_bp , cholestoral , max_hr"
   ]
  },
  {
   "cell_type": "markdown",
   "id": "13322879",
   "metadata": {},
   "source": [
    "# Resting_bp"
   ]
  },
  {
   "cell_type": "code",
   "execution_count": 9,
   "id": "953dd194",
   "metadata": {},
   "outputs": [
    {
     "data": {
      "text/plain": [
       "<AxesSubplot:>"
      ]
     },
     "execution_count": 9,
     "metadata": {},
     "output_type": "execute_result"
    },
    {
     "data": {
      "image/png": "[encoded data removed]",
      "text/plain": [
       "<Figure size 1440x720 with 1 Axes>"
      ]
     },
     "metadata": {
      "needs_background": "light"
     },
     "output_type": "display_data"
    }
   ],
   "source": [
    "data.boxplot('resting_bp')"
   ]
  },
  {
   "cell_type": "code",
   "execution_count": 10,
   "id": "4a5e87bc",
   "metadata": {
    "scrolled": false
   },
   "outputs": [
    {
     "name": "stderr",
     "output_type": "stream",
     "text": [
      "C:\\Users\\user\\anaconda3\\lib\\site-packages\\seaborn\\distributions.py:2619: FutureWarning: `distplot` is a deprecated function and will be removed in a future version. Please adapt your code to use either `displot` (a figure-level function with similar flexibility) or `histplot` (an axes-level function for histograms).\n",
      "  warnings.warn(msg, FutureWarning)\n"
     ]
    },
    {
     "data": {
      "text/plain": [
       "<AxesSubplot:xlabel='resting_bp', ylabel='Density'>"
      ]
     },
     "execution_count": 10,
     "metadata": {},
     "output_type": "execute_result"
    },
    {
     "data": {
      "image/png": "[encoded data removed]",
      "text/plain": [
       "<Figure size 1440x720 with 1 Axes>"
      ]
     },
     "metadata": {
      "needs_background": "light"
     },
     "output_type": "display_data"
    }
   ],
   "source": [
    "sns.distplot(data['resting_bp'])"
   ]
  },
  {
   "cell_type": "markdown",
   "id": "b8473e44",
   "metadata": {},
   "source": [
    "gausian type distribution"
   ]
  },
  {
   "cell_type": "code",
   "execution_count": 11,
   "id": "bb4a29b8",
   "metadata": {},
   "outputs": [
    {
     "data": {
      "text/plain": [
       "count    303.000000\n",
       "mean     131.623762\n",
       "std       17.538143\n",
       "min       94.000000\n",
       "25%      120.000000\n",
       "50%      130.000000\n",
       "75%      140.000000\n",
       "max      200.000000\n",
       "Name: resting_bp, dtype: float64"
      ]
     },
     "execution_count": 11,
     "metadata": {},
     "output_type": "execute_result"
    }
   ],
   "source": [
    "data.resting_bp.describe()"
   ]
  },
  {
   "cell_type": "code",
   "execution_count": 12,
   "id": "6d204e1b",
   "metadata": {},
   "outputs": [],
   "source": [
    "upper_limit_1=data.resting_bp.mean() + 3*data.resting_bp.std()"
   ]
  },
  {
   "cell_type": "code",
   "execution_count": 13,
   "id": "0e3e5763",
   "metadata": {},
   "outputs": [
    {
     "data": {
      "text/plain": [
       "184.23819081678892"
      ]
     },
     "execution_count": 13,
     "metadata": {},
     "output_type": "execute_result"
    }
   ],
   "source": [
    "upper_limit_1"
   ]
  },
  {
   "cell_type": "code",
   "execution_count": 14,
   "id": "9aea2296",
   "metadata": {},
   "outputs": [],
   "source": [
    "lower_limit_1=data.resting_bp.mean() - 3*data.resting_bp.std()"
   ]
  },
  {
   "cell_type": "code",
   "execution_count": 15,
   "id": "ef13843c",
   "metadata": {},
   "outputs": [
    {
     "data": {
      "text/plain": [
       "79.00933393568636"
      ]
     },
     "execution_count": 15,
     "metadata": {},
     "output_type": "execute_result"
    }
   ],
   "source": [
    "lower_limit_1"
   ]
  },
  {
   "cell_type": "code",
   "execution_count": 16,
   "id": "e24370fb",
   "metadata": {},
   "outputs": [],
   "source": [
    "data.loc[data.resting_bp>upper_limit_1]=data.resting_bp.mean()\n",
    "data.loc[data.resting_bp<lower_limit_1]=data.resting_bp.mean()"
   ]
  },
  {
   "cell_type": "code",
   "execution_count": 17,
   "id": "0070f0af",
   "metadata": {},
   "outputs": [
    {
     "data": {
      "text/plain": [
       "count    303.000000\n",
       "mean     131.198837\n",
       "std       16.728827\n",
       "min       94.000000\n",
       "25%      120.000000\n",
       "50%      130.000000\n",
       "75%      140.000000\n",
       "max      180.000000\n",
       "Name: resting_bp, dtype: float64"
      ]
     },
     "execution_count": 17,
     "metadata": {},
     "output_type": "execute_result"
    }
   ],
   "source": [
    "data.resting_bp.describe()"
   ]
  },
  {
   "cell_type": "code",
   "execution_count": 18,
   "id": "4d9be5e5",
   "metadata": {},
   "outputs": [
    {
     "data": {
      "text/plain": [
       "<AxesSubplot:>"
      ]
     },
     "execution_count": 18,
     "metadata": {},
     "output_type": "execute_result"
    },
    {
     "data": {
      "image/png": "[encoded data removed]",
      "text/plain": [
       "<Figure size 1440x720 with 1 Axes>"
      ]
     },
     "metadata": {
      "needs_background": "light"
     },
     "output_type": "display_data"
    }
   ],
   "source": [
    "data.boxplot('resting_bp')"
   ]
  },
  {
   "cell_type": "markdown",
   "id": "e8b38507",
   "metadata": {},
   "source": [
    "# Cholestoral"
   ]
  },
  {
   "cell_type": "code",
   "execution_count": 19,
   "id": "e72b43fb",
   "metadata": {},
   "outputs": [
    {
     "data": {
      "text/plain": [
       "<AxesSubplot:>"
      ]
     },
     "execution_count": 19,
     "metadata": {},
     "output_type": "execute_result"
    },
    {
     "data": {
      "image/png": "[encoded data removed]",
      "text/plain": [
       "<Figure size 1440x720 with 1 Axes>"
      ]
     },
     "metadata": {
      "needs_background": "light"
     },
     "output_type": "display_data"
    }
   ],
   "source": [
    "data.boxplot('cholestoral')"
   ]
  },
  {
   "cell_type": "code",
   "execution_count": 20,
   "id": "e3e36f62",
   "metadata": {},
   "outputs": [
    {
     "name": "stderr",
     "output_type": "stream",
     "text": [
      "C:\\Users\\user\\anaconda3\\lib\\site-packages\\seaborn\\distributions.py:2619: FutureWarning: `distplot` is a deprecated function and will be removed in a future version. Please adapt your code to use either `displot` (a figure-level function with similar flexibility) or `histplot` (an axes-level function for histograms).\n",
      "  warnings.warn(msg, FutureWarning)\n"
     ]
    },
    {
     "data": {
      "text/plain": [
       "<AxesSubplot:xlabel='cholestoral', ylabel='Density'>"
      ]
     },
     "execution_count": 20,
     "metadata": {},
     "output_type": "execute_result"
    },
    {
     "data": {
      "image/png": "[encoded data removed]",
      "text/plain": [
       "<Figure size 1440x720 with 1 Axes>"
      ]
     },
     "metadata": {
      "needs_background": "light"
     },
     "output_type": "display_data"
    }
   ],
   "source": [
    "sns.distplot(data.cholestoral)"
   ]
  },
  {
   "cell_type": "markdown",
   "id": "9a20020b",
   "metadata": {},
   "source": [
    "Gausian Distribution Type"
   ]
  },
  {
   "cell_type": "code",
   "execution_count": 21,
   "id": "7f5c72ba",
   "metadata": {},
   "outputs": [
    {
     "data": {
      "text/plain": [
       "count    303.000000\n",
       "mean     245.248342\n",
       "std       52.556550\n",
       "min      126.000000\n",
       "25%      210.500000\n",
       "50%      240.000000\n",
       "75%      274.000000\n",
       "max      564.000000\n",
       "Name: cholestoral, dtype: float64"
      ]
     },
     "execution_count": 21,
     "metadata": {},
     "output_type": "execute_result"
    }
   ],
   "source": [
    "data.cholestoral.describe()"
   ]
  },
  {
   "cell_type": "code",
   "execution_count": 22,
   "id": "16b992d1",
   "metadata": {},
   "outputs": [],
   "source": [
    "upper_limit_2=data.cholestoral.mean() + 3*data.cholestoral.std()\n",
    "lower_limit_2=data.cholestoral.mean() - 3*data.cholestoral.std()"
   ]
  },
  {
   "cell_type": "code",
   "execution_count": 23,
   "id": "f19099fd",
   "metadata": {},
   "outputs": [
    {
     "data": {
      "text/plain": [
       "402.91799064077003"
      ]
     },
     "execution_count": 23,
     "metadata": {},
     "output_type": "execute_result"
    }
   ],
   "source": [
    "upper_limit_2"
   ]
  },
  {
   "cell_type": "code",
   "execution_count": 24,
   "id": "aa805b86",
   "metadata": {},
   "outputs": [
    {
     "data": {
      "text/plain": [
       "87.57869269092947"
      ]
     },
     "execution_count": 24,
     "metadata": {},
     "output_type": "execute_result"
    }
   ],
   "source": [
    "lower_limit_2"
   ]
  },
  {
   "cell_type": "code",
   "execution_count": 25,
   "id": "be357449",
   "metadata": {},
   "outputs": [],
   "source": [
    "data.loc[data.cholestoral>upper_limit_2]=data.cholestoral.mean()\n",
    "data.loc[data.cholestoral<lower_limit_2]=data.cholestoral.mean()"
   ]
  },
  {
   "cell_type": "code",
   "execution_count": 26,
   "id": "1c15806a",
   "metadata": {},
   "outputs": [
    {
     "data": {
      "text/plain": [
       "count    303.000000\n",
       "mean     242.555250\n",
       "std       46.318242\n",
       "min      126.000000\n",
       "25%      210.500000\n",
       "50%      240.000000\n",
       "75%      271.000000\n",
       "max      394.000000\n",
       "Name: cholestoral, dtype: float64"
      ]
     },
     "execution_count": 26,
     "metadata": {},
     "output_type": "execute_result"
    }
   ],
   "source": [
    "data.cholestoral.describe()"
   ]
  },
  {
   "cell_type": "code",
   "execution_count": 27,
   "id": "de45005e",
   "metadata": {},
   "outputs": [
    {
     "data": {
      "text/plain": [
       "<AxesSubplot:>"
      ]
     },
     "execution_count": 27,
     "metadata": {},
     "output_type": "execute_result"
    },
    {
     "data": {
      "image/png": "[encoded data removed]",
      "text/plain": [
       "<Figure size 1440x720 with 1 Axes>"
      ]
     },
     "metadata": {
      "needs_background": "light"
     },
     "output_type": "display_data"
    }
   ],
   "source": [
    "data.boxplot('cholestoral')"
   ]
  },
  {
   "cell_type": "markdown",
   "id": "75db64b5",
   "metadata": {},
   "source": [
    "# Max_hr"
   ]
  },
  {
   "cell_type": "code",
   "execution_count": 28,
   "id": "8ea76ffc",
   "metadata": {},
   "outputs": [
    {
     "data": {
      "text/plain": [
       "<AxesSubplot:>"
      ]
     },
     "execution_count": 28,
     "metadata": {},
     "output_type": "execute_result"
    },
    {
     "data": {
      "image/png": "[encoded data removed]",
      "text/plain": [
       "<Figure size 1440x720 with 1 Axes>"
      ]
     },
     "metadata": {
      "needs_background": "light"
     },
     "output_type": "display_data"
    }
   ],
   "source": [
    "data.boxplot('max_hr')"
   ]
  },
  {
   "cell_type": "code",
   "execution_count": 29,
   "id": "57161ab3",
   "metadata": {},
   "outputs": [
    {
     "name": "stderr",
     "output_type": "stream",
     "text": [
      "C:\\Users\\user\\anaconda3\\lib\\site-packages\\seaborn\\distributions.py:2619: FutureWarning: `distplot` is a deprecated function and will be removed in a future version. Please adapt your code to use either `displot` (a figure-level function with similar flexibility) or `histplot` (an axes-level function for histograms).\n",
      "  warnings.warn(msg, FutureWarning)\n"
     ]
    },
    {
     "data": {
      "text/plain": [
       "<AxesSubplot:xlabel='max_hr', ylabel='Density'>"
      ]
     },
     "execution_count": 29,
     "metadata": {},
     "output_type": "execute_result"
    },
    {
     "data": {
      "image/png": "[encoded data removed]",
      "text/plain": [
       "<Figure size 1440x720 with 1 Axes>"
      ]
     },
     "metadata": {
      "needs_background": "light"
     },
     "output_type": "display_data"
    }
   ],
   "source": [
    "sns.distplot(data.max_hr)"
   ]
  },
  {
   "cell_type": "markdown",
   "id": "0b9dac99",
   "metadata": {},
   "source": [
    "Left Skewed Distribution"
   ]
  },
  {
   "cell_type": "code",
   "execution_count": 30,
   "id": "610b3f21",
   "metadata": {
    "scrolled": true
   },
   "outputs": [
    {
     "data": {
      "text/plain": [
       "count    303.000000\n",
       "mean     150.621257\n",
       "std       25.270026\n",
       "min       71.000000\n",
       "25%      132.500000\n",
       "50%      153.000000\n",
       "75%      168.000000\n",
       "max      245.248342\n",
       "Name: max_hr, dtype: float64"
      ]
     },
     "execution_count": 30,
     "metadata": {},
     "output_type": "execute_result"
    }
   ],
   "source": [
    "data.max_hr.describe()"
   ]
  },
  {
   "cell_type": "code",
   "execution_count": 31,
   "id": "63f08745",
   "metadata": {},
   "outputs": [],
   "source": [
    "iqr=data.max_hr.quantile(0.75) - data.max_hr.quantile(0.25)"
   ]
  },
  {
   "cell_type": "code",
   "execution_count": 32,
   "id": "ec537bca",
   "metadata": {},
   "outputs": [
    {
     "data": {
      "text/plain": [
       "35.5"
      ]
     },
     "execution_count": 32,
     "metadata": {},
     "output_type": "execute_result"
    }
   ],
   "source": [
    "iqr"
   ]
  },
  {
   "cell_type": "code",
   "execution_count": 33,
   "id": "8c18f06e",
   "metadata": {},
   "outputs": [],
   "source": [
    "upper_limit_3=data.max_hr.quantile(0.75) + 3*iqr\n",
    "lower_limit_3=data.max_hr.quantile(0.25) - 3*iqr"
   ]
  },
  {
   "cell_type": "code",
   "execution_count": 34,
   "id": "780a266c",
   "metadata": {},
   "outputs": [
    {
     "data": {
      "text/plain": [
       "274.5"
      ]
     },
     "execution_count": 34,
     "metadata": {},
     "output_type": "execute_result"
    }
   ],
   "source": [
    "upper_limit_3"
   ]
  },
  {
   "cell_type": "code",
   "execution_count": 35,
   "id": "10daba05",
   "metadata": {},
   "outputs": [
    {
     "data": {
      "text/plain": [
       "26.0"
      ]
     },
     "execution_count": 35,
     "metadata": {},
     "output_type": "execute_result"
    }
   ],
   "source": [
    "lower_limit_3"
   ]
  },
  {
   "cell_type": "code",
   "execution_count": 36,
   "id": "768572b1",
   "metadata": {},
   "outputs": [],
   "source": [
    "data.loc[data.max_hr>upper_limit_3]=data.max_hr.mean()\n",
    "data.loc[data.max_hr<31]=30"
   ]
  },
  {
   "cell_type": "code",
   "execution_count": 37,
   "id": "7d7afd89",
   "metadata": {},
   "outputs": [
    {
     "data": {
      "text/plain": [
       "count    303.000000\n",
       "mean     150.621257\n",
       "std       25.270026\n",
       "min       71.000000\n",
       "25%      132.500000\n",
       "50%      153.000000\n",
       "75%      168.000000\n",
       "max      245.248342\n",
       "Name: max_hr, dtype: float64"
      ]
     },
     "execution_count": 37,
     "metadata": {},
     "output_type": "execute_result"
    }
   ],
   "source": [
    "data.max_hr.describe()"
   ]
  },
  {
   "cell_type": "code",
   "execution_count": 38,
   "id": "75dae366",
   "metadata": {},
   "outputs": [
    {
     "data": {
      "text/plain": [
       "<AxesSubplot:>"
      ]
     },
     "execution_count": 38,
     "metadata": {},
     "output_type": "execute_result"
    },
    {
     "data": {
      "image/png": "[encoded data removed]",
      "text/plain": [
       "<Figure size 1440x720 with 1 Axes>"
      ]
     },
     "metadata": {
      "needs_background": "light"
     },
     "output_type": "display_data"
    }
   ],
   "source": [
    "data.boxplot()"
   ]
  },
  {
   "cell_type": "code",
   "execution_count": 39,
   "id": "93bf8c5c",
   "metadata": {},
   "outputs": [
    {
     "data": {
      "text/plain": [
       "1.000000      163\n",
       "0.000000      134\n",
       "245.248342      4\n",
       "131.623762      2\n",
       "Name: target, dtype: int64"
      ]
     },
     "execution_count": 39,
     "metadata": {},
     "output_type": "execute_result"
    }
   ],
   "source": [
    "data.target.value_counts()"
   ]
  },
  {
   "cell_type": "code",
   "execution_count": 40,
   "id": "fd98b9b9",
   "metadata": {},
   "outputs": [],
   "source": [
    "data.target.loc[data.target>1]=1"
   ]
  },
  {
   "cell_type": "code",
   "execution_count": 41,
   "id": "e3639ec2",
   "metadata": {},
   "outputs": [
    {
     "data": {
      "text/plain": [
       "1.0    169\n",
       "0.0    134\n",
       "Name: target, dtype: int64"
      ]
     },
     "execution_count": 41,
     "metadata": {},
     "output_type": "execute_result"
    }
   ],
   "source": [
    "data.target.value_counts()"
   ]
  },
  {
   "cell_type": "markdown",
   "id": "9b5641e4",
   "metadata": {},
   "source": [
    "# data is balanced"
   ]
  },
  {
   "cell_type": "code",
   "execution_count": 42,
   "id": "a0cda125",
   "metadata": {
    "scrolled": true
   },
   "outputs": [
    {
     "data": {
      "text/html": [
       "<div>\n",
       "<style scoped>\n",
       "    .dataframe tbody tr th:only-of-type {\n",
       "        vertical-align: middle;\n",
       "    }\n",
       "\n",
       "    .dataframe tbody tr th {\n",
       "        vertical-align: top;\n",
       "    }\n",
       "\n",
       "    .dataframe thead th {\n",
       "        text-align: right;\n",
       "    }\n",
       "</style>\n",
       "<table border=\"1\" class=\"dataframe\">\n",
       "  <thead>\n",
       "    <tr style=\"text-align: right;\">\n",
       "      <th></th>\n",
       "      <th>age</th>\n",
       "      <th>sex</th>\n",
       "      <th>chest_pain_type</th>\n",
       "      <th>resting_bp</th>\n",
       "      <th>cholestoral</th>\n",
       "      <th>fasting_blood_sugar</th>\n",
       "      <th>restecg</th>\n",
       "      <th>max_hr</th>\n",
       "      <th>exang</th>\n",
       "      <th>oldpeak</th>\n",
       "      <th>slope</th>\n",
       "      <th>num_major_vessels</th>\n",
       "      <th>thal</th>\n",
       "      <th>target</th>\n",
       "    </tr>\n",
       "  </thead>\n",
       "  <tbody>\n",
       "    <tr>\n",
       "      <th>0</th>\n",
       "      <td>63.0</td>\n",
       "      <td>1.0</td>\n",
       "      <td>3.0</td>\n",
       "      <td>145.0</td>\n",
       "      <td>233.0</td>\n",
       "      <td>1.0</td>\n",
       "      <td>0.0</td>\n",
       "      <td>150.0</td>\n",
       "      <td>0.0</td>\n",
       "      <td>2.3</td>\n",
       "      <td>0.0</td>\n",
       "      <td>0.0</td>\n",
       "      <td>1.0</td>\n",
       "      <td>1.0</td>\n",
       "    </tr>\n",
       "    <tr>\n",
       "      <th>1</th>\n",
       "      <td>37.0</td>\n",
       "      <td>1.0</td>\n",
       "      <td>2.0</td>\n",
       "      <td>130.0</td>\n",
       "      <td>250.0</td>\n",
       "      <td>0.0</td>\n",
       "      <td>1.0</td>\n",
       "      <td>187.0</td>\n",
       "      <td>0.0</td>\n",
       "      <td>3.5</td>\n",
       "      <td>0.0</td>\n",
       "      <td>0.0</td>\n",
       "      <td>2.0</td>\n",
       "      <td>1.0</td>\n",
       "    </tr>\n",
       "    <tr>\n",
       "      <th>2</th>\n",
       "      <td>41.0</td>\n",
       "      <td>0.0</td>\n",
       "      <td>1.0</td>\n",
       "      <td>130.0</td>\n",
       "      <td>204.0</td>\n",
       "      <td>0.0</td>\n",
       "      <td>0.0</td>\n",
       "      <td>172.0</td>\n",
       "      <td>0.0</td>\n",
       "      <td>1.4</td>\n",
       "      <td>2.0</td>\n",
       "      <td>0.0</td>\n",
       "      <td>2.0</td>\n",
       "      <td>1.0</td>\n",
       "    </tr>\n",
       "    <tr>\n",
       "      <th>3</th>\n",
       "      <td>56.0</td>\n",
       "      <td>1.0</td>\n",
       "      <td>1.0</td>\n",
       "      <td>120.0</td>\n",
       "      <td>236.0</td>\n",
       "      <td>0.0</td>\n",
       "      <td>1.0</td>\n",
       "      <td>178.0</td>\n",
       "      <td>0.0</td>\n",
       "      <td>0.8</td>\n",
       "      <td>2.0</td>\n",
       "      <td>0.0</td>\n",
       "      <td>2.0</td>\n",
       "      <td>1.0</td>\n",
       "    </tr>\n",
       "    <tr>\n",
       "      <th>4</th>\n",
       "      <td>57.0</td>\n",
       "      <td>0.0</td>\n",
       "      <td>0.0</td>\n",
       "      <td>120.0</td>\n",
       "      <td>354.0</td>\n",
       "      <td>0.0</td>\n",
       "      <td>1.0</td>\n",
       "      <td>163.0</td>\n",
       "      <td>1.0</td>\n",
       "      <td>0.6</td>\n",
       "      <td>2.0</td>\n",
       "      <td>0.0</td>\n",
       "      <td>2.0</td>\n",
       "      <td>1.0</td>\n",
       "    </tr>\n",
       "    <tr>\n",
       "      <th>...</th>\n",
       "      <td>...</td>\n",
       "      <td>...</td>\n",
       "      <td>...</td>\n",
       "      <td>...</td>\n",
       "      <td>...</td>\n",
       "      <td>...</td>\n",
       "      <td>...</td>\n",
       "      <td>...</td>\n",
       "      <td>...</td>\n",
       "      <td>...</td>\n",
       "      <td>...</td>\n",
       "      <td>...</td>\n",
       "      <td>...</td>\n",
       "      <td>...</td>\n",
       "    </tr>\n",
       "    <tr>\n",
       "      <th>298</th>\n",
       "      <td>57.0</td>\n",
       "      <td>0.0</td>\n",
       "      <td>0.0</td>\n",
       "      <td>140.0</td>\n",
       "      <td>241.0</td>\n",
       "      <td>0.0</td>\n",
       "      <td>1.0</td>\n",
       "      <td>123.0</td>\n",
       "      <td>1.0</td>\n",
       "      <td>0.2</td>\n",
       "      <td>1.0</td>\n",
       "      <td>0.0</td>\n",
       "      <td>3.0</td>\n",
       "      <td>0.0</td>\n",
       "    </tr>\n",
       "    <tr>\n",
       "      <th>299</th>\n",
       "      <td>45.0</td>\n",
       "      <td>1.0</td>\n",
       "      <td>3.0</td>\n",
       "      <td>110.0</td>\n",
       "      <td>264.0</td>\n",
       "      <td>0.0</td>\n",
       "      <td>1.0</td>\n",
       "      <td>132.0</td>\n",
       "      <td>0.0</td>\n",
       "      <td>1.2</td>\n",
       "      <td>1.0</td>\n",
       "      <td>0.0</td>\n",
       "      <td>3.0</td>\n",
       "      <td>0.0</td>\n",
       "    </tr>\n",
       "    <tr>\n",
       "      <th>300</th>\n",
       "      <td>68.0</td>\n",
       "      <td>1.0</td>\n",
       "      <td>0.0</td>\n",
       "      <td>144.0</td>\n",
       "      <td>193.0</td>\n",
       "      <td>1.0</td>\n",
       "      <td>1.0</td>\n",
       "      <td>141.0</td>\n",
       "      <td>0.0</td>\n",
       "      <td>3.4</td>\n",
       "      <td>1.0</td>\n",
       "      <td>2.0</td>\n",
       "      <td>3.0</td>\n",
       "      <td>0.0</td>\n",
       "    </tr>\n",
       "    <tr>\n",
       "      <th>301</th>\n",
       "      <td>57.0</td>\n",
       "      <td>1.0</td>\n",
       "      <td>0.0</td>\n",
       "      <td>130.0</td>\n",
       "      <td>131.0</td>\n",
       "      <td>0.0</td>\n",
       "      <td>1.0</td>\n",
       "      <td>115.0</td>\n",
       "      <td>1.0</td>\n",
       "      <td>1.2</td>\n",
       "      <td>1.0</td>\n",
       "      <td>1.0</td>\n",
       "      <td>3.0</td>\n",
       "      <td>0.0</td>\n",
       "    </tr>\n",
       "    <tr>\n",
       "      <th>302</th>\n",
       "      <td>57.0</td>\n",
       "      <td>0.0</td>\n",
       "      <td>1.0</td>\n",
       "      <td>130.0</td>\n",
       "      <td>236.0</td>\n",
       "      <td>0.0</td>\n",
       "      <td>0.0</td>\n",
       "      <td>174.0</td>\n",
       "      <td>0.0</td>\n",
       "      <td>0.0</td>\n",
       "      <td>1.0</td>\n",
       "      <td>1.0</td>\n",
       "      <td>2.0</td>\n",
       "      <td>0.0</td>\n",
       "    </tr>\n",
       "  </tbody>\n",
       "</table>\n",
       "<p>303 rows × 14 columns</p>\n",
       "</div>"
      ],
      "text/plain": [
       "      age  sex  chest_pain_type  resting_bp  cholestoral  fasting_blood_sugar  \\\n",
       "0    63.0  1.0              3.0       145.0        233.0                  1.0   \n",
       "1    37.0  1.0              2.0       130.0        250.0                  0.0   \n",
       "2    41.0  0.0              1.0       130.0        204.0                  0.0   \n",
       "3    56.0  1.0              1.0       120.0        236.0                  0.0   \n",
       "4    57.0  0.0              0.0       120.0        354.0                  0.0   \n",
       "..    ...  ...              ...         ...          ...                  ...   \n",
       "298  57.0  0.0              0.0       140.0        241.0                  0.0   \n",
       "299  45.0  1.0              3.0       110.0        264.0                  0.0   \n",
       "300  68.0  1.0              0.0       144.0        193.0                  1.0   \n",
       "301  57.0  1.0              0.0       130.0        131.0                  0.0   \n",
       "302  57.0  0.0              1.0       130.0        236.0                  0.0   \n",
       "\n",
       "     restecg  max_hr  exang  oldpeak  slope  num_major_vessels  thal  target  \n",
       "0        0.0   150.0    0.0      2.3    0.0                0.0   1.0     1.0  \n",
       "1        1.0   187.0    0.0      3.5    0.0                0.0   2.0     1.0  \n",
       "2        0.0   172.0    0.0      1.4    2.0                0.0   2.0     1.0  \n",
       "3        1.0   178.0    0.0      0.8    2.0                0.0   2.0     1.0  \n",
       "4        1.0   163.0    1.0      0.6    2.0                0.0   2.0     1.0  \n",
       "..       ...     ...    ...      ...    ...                ...   ...     ...  \n",
       "298      1.0   123.0    1.0      0.2    1.0                0.0   3.0     0.0  \n",
       "299      1.0   132.0    0.0      1.2    1.0                0.0   3.0     0.0  \n",
       "300      1.0   141.0    0.0      3.4    1.0                2.0   3.0     0.0  \n",
       "301      1.0   115.0    1.0      1.2    1.0                1.0   3.0     0.0  \n",
       "302      0.0   174.0    0.0      0.0    1.0                1.0   2.0     0.0  \n",
       "\n",
       "[303 rows x 14 columns]"
      ]
     },
     "execution_count": 42,
     "metadata": {},
     "output_type": "execute_result"
    }
   ],
   "source": [
    "data"
   ]
  },
  {
   "cell_type": "code",
   "execution_count": 43,
   "id": "69239bcd",
   "metadata": {},
   "outputs": [],
   "source": [
    "from sklearn.preprocessing import StandardScaler"
   ]
  },
  {
   "cell_type": "code",
   "execution_count": 44,
   "id": "191fd51c",
   "metadata": {},
   "outputs": [],
   "source": [
    "sc=StandardScaler()"
   ]
  },
  {
   "cell_type": "code",
   "execution_count": 45,
   "id": "2db7976d",
   "metadata": {},
   "outputs": [],
   "source": [
    "data=pd.DataFrame(sc.fit_transform(data),columns=data.columns)"
   ]
  },
  {
   "cell_type": "code",
   "execution_count": 46,
   "id": "a4419494",
   "metadata": {},
   "outputs": [
    {
     "data": {
      "text/html": [
       "<div>\n",
       "<style scoped>\n",
       "    .dataframe tbody tr th:only-of-type {\n",
       "        vertical-align: middle;\n",
       "    }\n",
       "\n",
       "    .dataframe tbody tr th {\n",
       "        vertical-align: top;\n",
       "    }\n",
       "\n",
       "    .dataframe thead th {\n",
       "        text-align: right;\n",
       "    }\n",
       "</style>\n",
       "<table border=\"1\" class=\"dataframe\">\n",
       "  <thead>\n",
       "    <tr style=\"text-align: right;\">\n",
       "      <th></th>\n",
       "      <th>age</th>\n",
       "      <th>sex</th>\n",
       "      <th>chest_pain_type</th>\n",
       "      <th>resting_bp</th>\n",
       "      <th>cholestoral</th>\n",
       "      <th>fasting_blood_sugar</th>\n",
       "      <th>restecg</th>\n",
       "      <th>max_hr</th>\n",
       "      <th>exang</th>\n",
       "      <th>oldpeak</th>\n",
       "      <th>slope</th>\n",
       "      <th>num_major_vessels</th>\n",
       "      <th>thal</th>\n",
       "      <th>target</th>\n",
       "    </tr>\n",
       "  </thead>\n",
       "  <tbody>\n",
       "    <tr>\n",
       "      <th>0</th>\n",
       "      <td>0.234848</td>\n",
       "      <td>-0.127192</td>\n",
       "      <td>-0.069151</td>\n",
       "      <td>0.584300</td>\n",
       "      <td>-0.206637</td>\n",
       "      <td>-0.108855</td>\n",
       "      <td>-0.155571</td>\n",
       "      <td>-0.024625</td>\n",
       "      <td>-0.148453</td>\n",
       "      <td>-0.094324</td>\n",
       "      <td>-0.184756</td>\n",
       "      <td>-0.161392</td>\n",
       "      <td>-0.181493</td>\n",
       "      <td>0.890449</td>\n",
       "    </tr>\n",
       "    <tr>\n",
       "      <th>1</th>\n",
       "      <td>-0.832888</td>\n",
       "      <td>-0.127192</td>\n",
       "      <td>-0.102770</td>\n",
       "      <td>-0.125811</td>\n",
       "      <td>0.160996</td>\n",
       "      <td>-0.142367</td>\n",
       "      <td>-0.122002</td>\n",
       "      <td>1.441982</td>\n",
       "      <td>-0.148453</td>\n",
       "      <td>-0.053978</td>\n",
       "      <td>-0.184756</td>\n",
       "      <td>-0.161392</td>\n",
       "      <td>-0.147656</td>\n",
       "      <td>0.890449</td>\n",
       "    </tr>\n",
       "    <tr>\n",
       "      <th>2</th>\n",
       "      <td>-0.668621</td>\n",
       "      <td>-0.160785</td>\n",
       "      <td>-0.136389</td>\n",
       "      <td>-0.125811</td>\n",
       "      <td>-0.833776</td>\n",
       "      <td>-0.142367</td>\n",
       "      <td>-0.155571</td>\n",
       "      <td>0.847411</td>\n",
       "      <td>-0.148453</td>\n",
       "      <td>-0.124584</td>\n",
       "      <td>-0.117359</td>\n",
       "      <td>-0.161392</td>\n",
       "      <td>-0.147656</td>\n",
       "      <td>0.890449</td>\n",
       "    </tr>\n",
       "    <tr>\n",
       "      <th>3</th>\n",
       "      <td>-0.052620</td>\n",
       "      <td>-0.127192</td>\n",
       "      <td>-0.136389</td>\n",
       "      <td>-0.599218</td>\n",
       "      <td>-0.141760</td>\n",
       "      <td>-0.142367</td>\n",
       "      <td>-0.122002</td>\n",
       "      <td>1.085240</td>\n",
       "      <td>-0.148453</td>\n",
       "      <td>-0.144757</td>\n",
       "      <td>-0.117359</td>\n",
       "      <td>-0.161392</td>\n",
       "      <td>-0.147656</td>\n",
       "      <td>0.890449</td>\n",
       "    </tr>\n",
       "    <tr>\n",
       "      <th>4</th>\n",
       "      <td>-0.011553</td>\n",
       "      <td>-0.160785</td>\n",
       "      <td>-0.170008</td>\n",
       "      <td>-0.599218</td>\n",
       "      <td>2.410046</td>\n",
       "      <td>-0.142367</td>\n",
       "      <td>-0.122002</td>\n",
       "      <td>0.490669</td>\n",
       "      <td>-0.114916</td>\n",
       "      <td>-0.151482</td>\n",
       "      <td>-0.117359</td>\n",
       "      <td>-0.161392</td>\n",
       "      <td>-0.147656</td>\n",
       "      <td>0.890449</td>\n",
       "    </tr>\n",
       "    <tr>\n",
       "      <th>...</th>\n",
       "      <td>...</td>\n",
       "      <td>...</td>\n",
       "      <td>...</td>\n",
       "      <td>...</td>\n",
       "      <td>...</td>\n",
       "      <td>...</td>\n",
       "      <td>...</td>\n",
       "      <td>...</td>\n",
       "      <td>...</td>\n",
       "      <td>...</td>\n",
       "      <td>...</td>\n",
       "      <td>...</td>\n",
       "      <td>...</td>\n",
       "      <td>...</td>\n",
       "    </tr>\n",
       "    <tr>\n",
       "      <th>298</th>\n",
       "      <td>-0.011553</td>\n",
       "      <td>-0.160785</td>\n",
       "      <td>-0.170008</td>\n",
       "      <td>0.347596</td>\n",
       "      <td>-0.033633</td>\n",
       "      <td>-0.142367</td>\n",
       "      <td>-0.122002</td>\n",
       "      <td>-1.094852</td>\n",
       "      <td>-0.114916</td>\n",
       "      <td>-0.164931</td>\n",
       "      <td>-0.151057</td>\n",
       "      <td>-0.161392</td>\n",
       "      <td>-0.113820</td>\n",
       "      <td>-1.123029</td>\n",
       "    </tr>\n",
       "    <tr>\n",
       "      <th>299</th>\n",
       "      <td>-0.504354</td>\n",
       "      <td>-0.127192</td>\n",
       "      <td>-0.069151</td>\n",
       "      <td>-1.072624</td>\n",
       "      <td>0.463753</td>\n",
       "      <td>-0.142367</td>\n",
       "      <td>-0.122002</td>\n",
       "      <td>-0.738110</td>\n",
       "      <td>-0.148453</td>\n",
       "      <td>-0.131309</td>\n",
       "      <td>-0.151057</td>\n",
       "      <td>-0.161392</td>\n",
       "      <td>-0.113820</td>\n",
       "      <td>-1.123029</td>\n",
       "    </tr>\n",
       "    <tr>\n",
       "      <th>300</th>\n",
       "      <td>0.440181</td>\n",
       "      <td>-0.127192</td>\n",
       "      <td>-0.170008</td>\n",
       "      <td>0.536959</td>\n",
       "      <td>-1.071656</td>\n",
       "      <td>-0.108855</td>\n",
       "      <td>-0.122002</td>\n",
       "      <td>-0.381368</td>\n",
       "      <td>-0.148453</td>\n",
       "      <td>-0.057340</td>\n",
       "      <td>-0.151057</td>\n",
       "      <td>-0.094230</td>\n",
       "      <td>-0.113820</td>\n",
       "      <td>-1.123029</td>\n",
       "    </tr>\n",
       "    <tr>\n",
       "      <th>301</th>\n",
       "      <td>-0.011553</td>\n",
       "      <td>-0.127192</td>\n",
       "      <td>-0.170008</td>\n",
       "      <td>-0.125811</td>\n",
       "      <td>-2.412436</td>\n",
       "      <td>-0.142367</td>\n",
       "      <td>-0.122002</td>\n",
       "      <td>-1.411957</td>\n",
       "      <td>-0.114916</td>\n",
       "      <td>-0.131309</td>\n",
       "      <td>-0.151057</td>\n",
       "      <td>-0.127811</td>\n",
       "      <td>-0.113820</td>\n",
       "      <td>-1.123029</td>\n",
       "    </tr>\n",
       "    <tr>\n",
       "      <th>302</th>\n",
       "      <td>-0.011553</td>\n",
       "      <td>-0.160785</td>\n",
       "      <td>-0.136389</td>\n",
       "      <td>-0.125811</td>\n",
       "      <td>-0.141760</td>\n",
       "      <td>-0.142367</td>\n",
       "      <td>-0.155571</td>\n",
       "      <td>0.926688</td>\n",
       "      <td>-0.148453</td>\n",
       "      <td>-0.171655</td>\n",
       "      <td>-0.151057</td>\n",
       "      <td>-0.127811</td>\n",
       "      <td>-0.147656</td>\n",
       "      <td>-1.123029</td>\n",
       "    </tr>\n",
       "  </tbody>\n",
       "</table>\n",
       "<p>303 rows × 14 columns</p>\n",
       "</div>"
      ],
      "text/plain": [
       "          age       sex  chest_pain_type  resting_bp  cholestoral  \\\n",
       "0    0.234848 -0.127192        -0.069151    0.584300    -0.206637   \n",
       "1   -0.832888 -0.127192        -0.102770   -0.125811     0.160996   \n",
       "2   -0.668621 -0.160785        -0.136389   -0.125811    -0.833776   \n",
       "3   -0.052620 -0.127192        -0.136389   -0.599218    -0.141760   \n",
       "4   -0.011553 -0.160785        -0.170008   -0.599218     2.410046   \n",
       "..        ...       ...              ...         ...          ...   \n",
       "298 -0.011553 -0.160785        -0.170008    0.347596    -0.033633   \n",
       "299 -0.504354 -0.127192        -0.069151   -1.072624     0.463753   \n",
       "300  0.440181 -0.127192        -0.170008    0.536959    -1.071656   \n",
       "301 -0.011553 -0.127192        -0.170008   -0.125811    -2.412436   \n",
       "302 -0.011553 -0.160785        -0.136389   -0.125811    -0.141760   \n",
       "\n",
       "     fasting_blood_sugar   restecg    max_hr     exang   oldpeak     slope  \\\n",
       "0              -0.108855 -0.155571 -0.024625 -0.148453 -0.094324 -0.184756   \n",
       "1              -0.142367 -0.122002  1.441982 -0.148453 -0.053978 -0.184756   \n",
       "2              -0.142367 -0.155571  0.847411 -0.148453 -0.124584 -0.117359   \n",
       "3              -0.142367 -0.122002  1.085240 -0.148453 -0.144757 -0.117359   \n",
       "4              -0.142367 -0.122002  0.490669 -0.114916 -0.151482 -0.117359   \n",
       "..                   ...       ...       ...       ...       ...       ...   \n",
       "298            -0.142367 -0.122002 -1.094852 -0.114916 -0.164931 -0.151057   \n",
       "299            -0.142367 -0.122002 -0.738110 -0.148453 -0.131309 -0.151057   \n",
       "300            -0.108855 -0.122002 -0.381368 -0.148453 -0.057340 -0.151057   \n",
       "301            -0.142367 -0.122002 -1.411957 -0.114916 -0.131309 -0.151057   \n",
       "302            -0.142367 -0.155571  0.926688 -0.148453 -0.171655 -0.151057   \n",
       "\n",
       "     num_major_vessels      thal    target  \n",
       "0            -0.161392 -0.181493  0.890449  \n",
       "1            -0.161392 -0.147656  0.890449  \n",
       "2            -0.161392 -0.147656  0.890449  \n",
       "3            -0.161392 -0.147656  0.890449  \n",
       "4            -0.161392 -0.147656  0.890449  \n",
       "..                 ...       ...       ...  \n",
       "298          -0.161392 -0.113820 -1.123029  \n",
       "299          -0.161392 -0.113820 -1.123029  \n",
       "300          -0.094230 -0.113820 -1.123029  \n",
       "301          -0.127811 -0.113820 -1.123029  \n",
       "302          -0.127811 -0.147656 -1.123029  \n",
       "\n",
       "[303 rows x 14 columns]"
      ]
     },
     "execution_count": 46,
     "metadata": {},
     "output_type": "execute_result"
    }
   ],
   "source": [
    "data"
   ]
  },
  {
   "cell_type": "code",
   "execution_count": 47,
   "id": "0136b28b",
   "metadata": {},
   "outputs": [],
   "source": [
    "x=data.iloc[:,:-1]"
   ]
  },
  {
   "cell_type": "code",
   "execution_count": 48,
   "id": "f93db37d",
   "metadata": {},
   "outputs": [
    {
     "data": {
      "text/html": [
       "<div>\n",
       "<style scoped>\n",
       "    .dataframe tbody tr th:only-of-type {\n",
       "        vertical-align: middle;\n",
       "    }\n",
       "\n",
       "    .dataframe tbody tr th {\n",
       "        vertical-align: top;\n",
       "    }\n",
       "\n",
       "    .dataframe thead th {\n",
       "        text-align: right;\n",
       "    }\n",
       "</style>\n",
       "<table border=\"1\" class=\"dataframe\">\n",
       "  <thead>\n",
       "    <tr style=\"text-align: right;\">\n",
       "      <th></th>\n",
       "      <th>age</th>\n",
       "      <th>sex</th>\n",
       "      <th>chest_pain_type</th>\n",
       "      <th>resting_bp</th>\n",
       "      <th>cholestoral</th>\n",
       "      <th>fasting_blood_sugar</th>\n",
       "      <th>restecg</th>\n",
       "      <th>max_hr</th>\n",
       "      <th>exang</th>\n",
       "      <th>oldpeak</th>\n",
       "      <th>slope</th>\n",
       "      <th>num_major_vessels</th>\n",
       "      <th>thal</th>\n",
       "    </tr>\n",
       "  </thead>\n",
       "  <tbody>\n",
       "    <tr>\n",
       "      <th>0</th>\n",
       "      <td>0.234848</td>\n",
       "      <td>-0.127192</td>\n",
       "      <td>-0.069151</td>\n",
       "      <td>0.584300</td>\n",
       "      <td>-0.206637</td>\n",
       "      <td>-0.108855</td>\n",
       "      <td>-0.155571</td>\n",
       "      <td>-0.024625</td>\n",
       "      <td>-0.148453</td>\n",
       "      <td>-0.094324</td>\n",
       "      <td>-0.184756</td>\n",
       "      <td>-0.161392</td>\n",
       "      <td>-0.181493</td>\n",
       "    </tr>\n",
       "    <tr>\n",
       "      <th>1</th>\n",
       "      <td>-0.832888</td>\n",
       "      <td>-0.127192</td>\n",
       "      <td>-0.102770</td>\n",
       "      <td>-0.125811</td>\n",
       "      <td>0.160996</td>\n",
       "      <td>-0.142367</td>\n",
       "      <td>-0.122002</td>\n",
       "      <td>1.441982</td>\n",
       "      <td>-0.148453</td>\n",
       "      <td>-0.053978</td>\n",
       "      <td>-0.184756</td>\n",
       "      <td>-0.161392</td>\n",
       "      <td>-0.147656</td>\n",
       "    </tr>\n",
       "    <tr>\n",
       "      <th>2</th>\n",
       "      <td>-0.668621</td>\n",
       "      <td>-0.160785</td>\n",
       "      <td>-0.136389</td>\n",
       "      <td>-0.125811</td>\n",
       "      <td>-0.833776</td>\n",
       "      <td>-0.142367</td>\n",
       "      <td>-0.155571</td>\n",
       "      <td>0.847411</td>\n",
       "      <td>-0.148453</td>\n",
       "      <td>-0.124584</td>\n",
       "      <td>-0.117359</td>\n",
       "      <td>-0.161392</td>\n",
       "      <td>-0.147656</td>\n",
       "    </tr>\n",
       "    <tr>\n",
       "      <th>3</th>\n",
       "      <td>-0.052620</td>\n",
       "      <td>-0.127192</td>\n",
       "      <td>-0.136389</td>\n",
       "      <td>-0.599218</td>\n",
       "      <td>-0.141760</td>\n",
       "      <td>-0.142367</td>\n",
       "      <td>-0.122002</td>\n",
       "      <td>1.085240</td>\n",
       "      <td>-0.148453</td>\n",
       "      <td>-0.144757</td>\n",
       "      <td>-0.117359</td>\n",
       "      <td>-0.161392</td>\n",
       "      <td>-0.147656</td>\n",
       "    </tr>\n",
       "    <tr>\n",
       "      <th>4</th>\n",
       "      <td>-0.011553</td>\n",
       "      <td>-0.160785</td>\n",
       "      <td>-0.170008</td>\n",
       "      <td>-0.599218</td>\n",
       "      <td>2.410046</td>\n",
       "      <td>-0.142367</td>\n",
       "      <td>-0.122002</td>\n",
       "      <td>0.490669</td>\n",
       "      <td>-0.114916</td>\n",
       "      <td>-0.151482</td>\n",
       "      <td>-0.117359</td>\n",
       "      <td>-0.161392</td>\n",
       "      <td>-0.147656</td>\n",
       "    </tr>\n",
       "    <tr>\n",
       "      <th>...</th>\n",
       "      <td>...</td>\n",
       "      <td>...</td>\n",
       "      <td>...</td>\n",
       "      <td>...</td>\n",
       "      <td>...</td>\n",
       "      <td>...</td>\n",
       "      <td>...</td>\n",
       "      <td>...</td>\n",
       "      <td>...</td>\n",
       "      <td>...</td>\n",
       "      <td>...</td>\n",
       "      <td>...</td>\n",
       "      <td>...</td>\n",
       "    </tr>\n",
       "    <tr>\n",
       "      <th>298</th>\n",
       "      <td>-0.011553</td>\n",
       "      <td>-0.160785</td>\n",
       "      <td>-0.170008</td>\n",
       "      <td>0.347596</td>\n",
       "      <td>-0.033633</td>\n",
       "      <td>-0.142367</td>\n",
       "      <td>-0.122002</td>\n",
       "      <td>-1.094852</td>\n",
       "      <td>-0.114916</td>\n",
       "      <td>-0.164931</td>\n",
       "      <td>-0.151057</td>\n",
       "      <td>-0.161392</td>\n",
       "      <td>-0.113820</td>\n",
       "    </tr>\n",
       "    <tr>\n",
       "      <th>299</th>\n",
       "      <td>-0.504354</td>\n",
       "      <td>-0.127192</td>\n",
       "      <td>-0.069151</td>\n",
       "      <td>-1.072624</td>\n",
       "      <td>0.463753</td>\n",
       "      <td>-0.142367</td>\n",
       "      <td>-0.122002</td>\n",
       "      <td>-0.738110</td>\n",
       "      <td>-0.148453</td>\n",
       "      <td>-0.131309</td>\n",
       "      <td>-0.151057</td>\n",
       "      <td>-0.161392</td>\n",
       "      <td>-0.113820</td>\n",
       "    </tr>\n",
       "    <tr>\n",
       "      <th>300</th>\n",
       "      <td>0.440181</td>\n",
       "      <td>-0.127192</td>\n",
       "      <td>-0.170008</td>\n",
       "      <td>0.536959</td>\n",
       "      <td>-1.071656</td>\n",
       "      <td>-0.108855</td>\n",
       "      <td>-0.122002</td>\n",
       "      <td>-0.381368</td>\n",
       "      <td>-0.148453</td>\n",
       "      <td>-0.057340</td>\n",
       "      <td>-0.151057</td>\n",
       "      <td>-0.094230</td>\n",
       "      <td>-0.113820</td>\n",
       "    </tr>\n",
       "    <tr>\n",
       "      <th>301</th>\n",
       "      <td>-0.011553</td>\n",
       "      <td>-0.127192</td>\n",
       "      <td>-0.170008</td>\n",
       "      <td>-0.125811</td>\n",
       "      <td>-2.412436</td>\n",
       "      <td>-0.142367</td>\n",
       "      <td>-0.122002</td>\n",
       "      <td>-1.411957</td>\n",
       "      <td>-0.114916</td>\n",
       "      <td>-0.131309</td>\n",
       "      <td>-0.151057</td>\n",
       "      <td>-0.127811</td>\n",
       "      <td>-0.113820</td>\n",
       "    </tr>\n",
       "    <tr>\n",
       "      <th>302</th>\n",
       "      <td>-0.011553</td>\n",
       "      <td>-0.160785</td>\n",
       "      <td>-0.136389</td>\n",
       "      <td>-0.125811</td>\n",
       "      <td>-0.141760</td>\n",
       "      <td>-0.142367</td>\n",
       "      <td>-0.155571</td>\n",
       "      <td>0.926688</td>\n",
       "      <td>-0.148453</td>\n",
       "      <td>-0.171655</td>\n",
       "      <td>-0.151057</td>\n",
       "      <td>-0.127811</td>\n",
       "      <td>-0.147656</td>\n",
       "    </tr>\n",
       "  </tbody>\n",
       "</table>\n",
       "<p>303 rows × 13 columns</p>\n",
       "</div>"
      ],
      "text/plain": [
       "          age       sex  chest_pain_type  resting_bp  cholestoral  \\\n",
       "0    0.234848 -0.127192        -0.069151    0.584300    -0.206637   \n",
       "1   -0.832888 -0.127192        -0.102770   -0.125811     0.160996   \n",
       "2   -0.668621 -0.160785        -0.136389   -0.125811    -0.833776   \n",
       "3   -0.052620 -0.127192        -0.136389   -0.599218    -0.141760   \n",
       "4   -0.011553 -0.160785        -0.170008   -0.599218     2.410046   \n",
       "..        ...       ...              ...         ...          ...   \n",
       "298 -0.011553 -0.160785        -0.170008    0.347596    -0.033633   \n",
       "299 -0.504354 -0.127192        -0.069151   -1.072624     0.463753   \n",
       "300  0.440181 -0.127192        -0.170008    0.536959    -1.071656   \n",
       "301 -0.011553 -0.127192        -0.170008   -0.125811    -2.412436   \n",
       "302 -0.011553 -0.160785        -0.136389   -0.125811    -0.141760   \n",
       "\n",
       "     fasting_blood_sugar   restecg    max_hr     exang   oldpeak     slope  \\\n",
       "0              -0.108855 -0.155571 -0.024625 -0.148453 -0.094324 -0.184756   \n",
       "1              -0.142367 -0.122002  1.441982 -0.148453 -0.053978 -0.184756   \n",
       "2              -0.142367 -0.155571  0.847411 -0.148453 -0.124584 -0.117359   \n",
       "3              -0.142367 -0.122002  1.085240 -0.148453 -0.144757 -0.117359   \n",
       "4              -0.142367 -0.122002  0.490669 -0.114916 -0.151482 -0.117359   \n",
       "..                   ...       ...       ...       ...       ...       ...   \n",
       "298            -0.142367 -0.122002 -1.094852 -0.114916 -0.164931 -0.151057   \n",
       "299            -0.142367 -0.122002 -0.738110 -0.148453 -0.131309 -0.151057   \n",
       "300            -0.108855 -0.122002 -0.381368 -0.148453 -0.057340 -0.151057   \n",
       "301            -0.142367 -0.122002 -1.411957 -0.114916 -0.131309 -0.151057   \n",
       "302            -0.142367 -0.155571  0.926688 -0.148453 -0.171655 -0.151057   \n",
       "\n",
       "     num_major_vessels      thal  \n",
       "0            -0.161392 -0.181493  \n",
       "1            -0.161392 -0.147656  \n",
       "2            -0.161392 -0.147656  \n",
       "3            -0.161392 -0.147656  \n",
       "4            -0.161392 -0.147656  \n",
       "..                 ...       ...  \n",
       "298          -0.161392 -0.113820  \n",
       "299          -0.161392 -0.113820  \n",
       "300          -0.094230 -0.113820  \n",
       "301          -0.127811 -0.113820  \n",
       "302          -0.127811 -0.147656  \n",
       "\n",
       "[303 rows x 13 columns]"
      ]
     },
     "execution_count": 48,
     "metadata": {},
     "output_type": "execute_result"
    }
   ],
   "source": [
    "x"
   ]
  },
  {
   "cell_type": "code",
   "execution_count": 49,
   "id": "2dcefcbd",
   "metadata": {},
   "outputs": [],
   "source": [
    "y=data.iloc[:,-1]"
   ]
  },
  {
   "cell_type": "code",
   "execution_count": 50,
   "id": "4b42addb",
   "metadata": {},
   "outputs": [
    {
     "data": {
      "text/plain": [
       "0      0.890449\n",
       "1      0.890449\n",
       "2      0.890449\n",
       "3      0.890449\n",
       "4      0.890449\n",
       "         ...   \n",
       "298   -1.123029\n",
       "299   -1.123029\n",
       "300   -1.123029\n",
       "301   -1.123029\n",
       "302   -1.123029\n",
       "Name: target, Length: 303, dtype: float64"
      ]
     },
     "execution_count": 50,
     "metadata": {},
     "output_type": "execute_result"
    }
   ],
   "source": [
    "y"
   ]
  },
  {
   "cell_type": "markdown",
   "id": "77cb13c7",
   "metadata": {},
   "source": [
    "# Splitting Data"
   ]
  },
  {
   "cell_type": "code",
   "execution_count": 51,
   "id": "77643503",
   "metadata": {},
   "outputs": [],
   "source": [
    "from sklearn.model_selection import train_test_split"
   ]
  },
  {
   "cell_type": "code",
   "execution_count": 52,
   "id": "1ec9c5c2",
   "metadata": {},
   "outputs": [],
   "source": [
    "x_train,x_test,y_train,y_test=train_test_split(x,y,test_size=0.2,random_state=42)"
   ]
  },
  {
   "cell_type": "code",
   "execution_count": 53,
   "id": "2380b530",
   "metadata": {},
   "outputs": [
    {
     "data": {
      "text/html": [
       "<div>\n",
       "<style scoped>\n",
       "    .dataframe tbody tr th:only-of-type {\n",
       "        vertical-align: middle;\n",
       "    }\n",
       "\n",
       "    .dataframe tbody tr th {\n",
       "        vertical-align: top;\n",
       "    }\n",
       "\n",
       "    .dataframe thead th {\n",
       "        text-align: right;\n",
       "    }\n",
       "</style>\n",
       "<table border=\"1\" class=\"dataframe\">\n",
       "  <thead>\n",
       "    <tr style=\"text-align: right;\">\n",
       "      <th></th>\n",
       "      <th>age</th>\n",
       "      <th>sex</th>\n",
       "      <th>chest_pain_type</th>\n",
       "      <th>resting_bp</th>\n",
       "      <th>cholestoral</th>\n",
       "      <th>fasting_blood_sugar</th>\n",
       "      <th>restecg</th>\n",
       "      <th>max_hr</th>\n",
       "      <th>exang</th>\n",
       "      <th>oldpeak</th>\n",
       "      <th>slope</th>\n",
       "      <th>num_major_vessels</th>\n",
       "      <th>thal</th>\n",
       "    </tr>\n",
       "  </thead>\n",
       "  <tbody>\n",
       "    <tr>\n",
       "      <th>132</th>\n",
       "      <td>-0.627555</td>\n",
       "      <td>-0.127192</td>\n",
       "      <td>-0.136389</td>\n",
       "      <td>-0.599218</td>\n",
       "      <td>1.134143</td>\n",
       "      <td>-0.142367</td>\n",
       "      <td>-0.122002</td>\n",
       "      <td>0.451031</td>\n",
       "      <td>-0.148453</td>\n",
       "      <td>-0.171655</td>\n",
       "      <td>-0.117359</td>\n",
       "      <td>-0.161392</td>\n",
       "      <td>-0.147656</td>\n",
       "    </tr>\n",
       "    <tr>\n",
       "      <th>202</th>\n",
       "      <td>0.029514</td>\n",
       "      <td>-0.127192</td>\n",
       "      <td>-0.170008</td>\n",
       "      <td>0.821003</td>\n",
       "      <td>0.593506</td>\n",
       "      <td>-0.142367</td>\n",
       "      <td>-0.155571</td>\n",
       "      <td>-1.570509</td>\n",
       "      <td>-0.114916</td>\n",
       "      <td>-0.144757</td>\n",
       "      <td>-0.117359</td>\n",
       "      <td>-0.161392</td>\n",
       "      <td>-0.113820</td>\n",
       "    </tr>\n",
       "    <tr>\n",
       "      <th>196</th>\n",
       "      <td>-0.463288</td>\n",
       "      <td>-0.127192</td>\n",
       "      <td>-0.102770</td>\n",
       "      <td>0.821003</td>\n",
       "      <td>-0.249888</td>\n",
       "      <td>-0.142367</td>\n",
       "      <td>-0.122002</td>\n",
       "      <td>-0.143540</td>\n",
       "      <td>-0.148453</td>\n",
       "      <td>-0.050615</td>\n",
       "      <td>-0.151057</td>\n",
       "      <td>-0.161392</td>\n",
       "      <td>-0.147656</td>\n",
       "    </tr>\n",
       "    <tr>\n",
       "      <th>75</th>\n",
       "      <td>-0.093687</td>\n",
       "      <td>-0.160785</td>\n",
       "      <td>-0.136389</td>\n",
       "      <td>0.110893</td>\n",
       "      <td>0.160996</td>\n",
       "      <td>-0.142367</td>\n",
       "      <td>-0.155571</td>\n",
       "      <td>0.411393</td>\n",
       "      <td>-0.148453</td>\n",
       "      <td>-0.124584</td>\n",
       "      <td>-0.151057</td>\n",
       "      <td>-0.161392</td>\n",
       "      <td>-0.147656</td>\n",
       "    </tr>\n",
       "    <tr>\n",
       "      <th>176</th>\n",
       "      <td>0.111647</td>\n",
       "      <td>-0.127192</td>\n",
       "      <td>-0.170008</td>\n",
       "      <td>-0.741240</td>\n",
       "      <td>-0.271513</td>\n",
       "      <td>-0.108855</td>\n",
       "      <td>-0.122002</td>\n",
       "      <td>0.371755</td>\n",
       "      <td>-0.114916</td>\n",
       "      <td>-0.124584</td>\n",
       "      <td>-0.117359</td>\n",
       "      <td>-0.094230</td>\n",
       "      <td>-0.113820</td>\n",
       "    </tr>\n",
       "    <tr>\n",
       "      <th>...</th>\n",
       "      <td>...</td>\n",
       "      <td>...</td>\n",
       "      <td>...</td>\n",
       "      <td>...</td>\n",
       "      <td>...</td>\n",
       "      <td>...</td>\n",
       "      <td>...</td>\n",
       "      <td>...</td>\n",
       "      <td>...</td>\n",
       "      <td>...</td>\n",
       "      <td>...</td>\n",
       "      <td>...</td>\n",
       "      <td>...</td>\n",
       "    </tr>\n",
       "    <tr>\n",
       "      <th>188</th>\n",
       "      <td>-0.299020</td>\n",
       "      <td>-0.127192</td>\n",
       "      <td>-0.102770</td>\n",
       "      <td>0.347596</td>\n",
       "      <td>-0.206637</td>\n",
       "      <td>-0.142367</td>\n",
       "      <td>-0.122002</td>\n",
       "      <td>0.490669</td>\n",
       "      <td>-0.148453</td>\n",
       "      <td>-0.151482</td>\n",
       "      <td>-0.151057</td>\n",
       "      <td>-0.127811</td>\n",
       "      <td>-0.113820</td>\n",
       "    </tr>\n",
       "    <tr>\n",
       "      <th>71</th>\n",
       "      <td>-0.257954</td>\n",
       "      <td>-0.127192</td>\n",
       "      <td>-0.102770</td>\n",
       "      <td>-1.830075</td>\n",
       "      <td>-0.336390</td>\n",
       "      <td>-0.142367</td>\n",
       "      <td>-0.122002</td>\n",
       "      <td>0.133927</td>\n",
       "      <td>-0.114916</td>\n",
       "      <td>-0.171655</td>\n",
       "      <td>-0.117359</td>\n",
       "      <td>-0.127811</td>\n",
       "      <td>-0.113820</td>\n",
       "    </tr>\n",
       "    <tr>\n",
       "      <th>106</th>\n",
       "      <td>0.481248</td>\n",
       "      <td>-0.127192</td>\n",
       "      <td>-0.069151</td>\n",
       "      <td>1.294410</td>\n",
       "      <td>-0.185011</td>\n",
       "      <td>-0.108855</td>\n",
       "      <td>-0.155571</td>\n",
       "      <td>-0.777748</td>\n",
       "      <td>-0.148453</td>\n",
       "      <td>-0.168293</td>\n",
       "      <td>-0.151057</td>\n",
       "      <td>-0.127811</td>\n",
       "      <td>-0.147656</td>\n",
       "    </tr>\n",
       "    <tr>\n",
       "      <th>270</th>\n",
       "      <td>-0.463288</td>\n",
       "      <td>-0.127192</td>\n",
       "      <td>-0.170008</td>\n",
       "      <td>-0.599218</td>\n",
       "      <td>0.139371</td>\n",
       "      <td>-0.142367</td>\n",
       "      <td>-0.155571</td>\n",
       "      <td>-0.262454</td>\n",
       "      <td>-0.148453</td>\n",
       "      <td>-0.144757</td>\n",
       "      <td>-0.117359</td>\n",
       "      <td>-0.161392</td>\n",
       "      <td>-0.113820</td>\n",
       "    </tr>\n",
       "    <tr>\n",
       "      <th>102</th>\n",
       "      <td>0.234848</td>\n",
       "      <td>-0.160785</td>\n",
       "      <td>-0.136389</td>\n",
       "      <td>0.347596</td>\n",
       "      <td>-1.028405</td>\n",
       "      <td>-0.142367</td>\n",
       "      <td>-0.122002</td>\n",
       "      <td>1.124878</td>\n",
       "      <td>-0.148453</td>\n",
       "      <td>-0.171655</td>\n",
       "      <td>-0.117359</td>\n",
       "      <td>-0.094230</td>\n",
       "      <td>-0.147656</td>\n",
       "    </tr>\n",
       "  </tbody>\n",
       "</table>\n",
       "<p>242 rows × 13 columns</p>\n",
       "</div>"
      ],
      "text/plain": [
       "          age       sex  chest_pain_type  resting_bp  cholestoral  \\\n",
       "132 -0.627555 -0.127192        -0.136389   -0.599218     1.134143   \n",
       "202  0.029514 -0.127192        -0.170008    0.821003     0.593506   \n",
       "196 -0.463288 -0.127192        -0.102770    0.821003    -0.249888   \n",
       "75  -0.093687 -0.160785        -0.136389    0.110893     0.160996   \n",
       "176  0.111647 -0.127192        -0.170008   -0.741240    -0.271513   \n",
       "..        ...       ...              ...         ...          ...   \n",
       "188 -0.299020 -0.127192        -0.102770    0.347596    -0.206637   \n",
       "71  -0.257954 -0.127192        -0.102770   -1.830075    -0.336390   \n",
       "106  0.481248 -0.127192        -0.069151    1.294410    -0.185011   \n",
       "270 -0.463288 -0.127192        -0.170008   -0.599218     0.139371   \n",
       "102  0.234848 -0.160785        -0.136389    0.347596    -1.028405   \n",
       "\n",
       "     fasting_blood_sugar   restecg    max_hr     exang   oldpeak     slope  \\\n",
       "132            -0.142367 -0.122002  0.451031 -0.148453 -0.171655 -0.117359   \n",
       "202            -0.142367 -0.155571 -1.570509 -0.114916 -0.144757 -0.117359   \n",
       "196            -0.142367 -0.122002 -0.143540 -0.148453 -0.050615 -0.151057   \n",
       "75             -0.142367 -0.155571  0.411393 -0.148453 -0.124584 -0.151057   \n",
       "176            -0.108855 -0.122002  0.371755 -0.114916 -0.124584 -0.117359   \n",
       "..                   ...       ...       ...       ...       ...       ...   \n",
       "188            -0.142367 -0.122002  0.490669 -0.148453 -0.151482 -0.151057   \n",
       "71             -0.142367 -0.122002  0.133927 -0.114916 -0.171655 -0.117359   \n",
       "106            -0.108855 -0.155571 -0.777748 -0.148453 -0.168293 -0.151057   \n",
       "270            -0.142367 -0.155571 -0.262454 -0.148453 -0.144757 -0.117359   \n",
       "102            -0.142367 -0.122002  1.124878 -0.148453 -0.171655 -0.117359   \n",
       "\n",
       "     num_major_vessels      thal  \n",
       "132          -0.161392 -0.147656  \n",
       "202          -0.161392 -0.113820  \n",
       "196          -0.161392 -0.147656  \n",
       "75           -0.161392 -0.147656  \n",
       "176          -0.094230 -0.113820  \n",
       "..                 ...       ...  \n",
       "188          -0.127811 -0.113820  \n",
       "71           -0.127811 -0.113820  \n",
       "106          -0.127811 -0.147656  \n",
       "270          -0.161392 -0.113820  \n",
       "102          -0.094230 -0.147656  \n",
       "\n",
       "[242 rows x 13 columns]"
      ]
     },
     "execution_count": 53,
     "metadata": {},
     "output_type": "execute_result"
    }
   ],
   "source": [
    "x_train"
   ]
  },
  {
   "cell_type": "code",
   "execution_count": 54,
   "id": "1d15dadb",
   "metadata": {},
   "outputs": [
    {
     "data": {
      "text/html": [
       "<div>\n",
       "<style scoped>\n",
       "    .dataframe tbody tr th:only-of-type {\n",
       "        vertical-align: middle;\n",
       "    }\n",
       "\n",
       "    .dataframe tbody tr th {\n",
       "        vertical-align: top;\n",
       "    }\n",
       "\n",
       "    .dataframe thead th {\n",
       "        text-align: right;\n",
       "    }\n",
       "</style>\n",
       "<table border=\"1\" class=\"dataframe\">\n",
       "  <thead>\n",
       "    <tr style=\"text-align: right;\">\n",
       "      <th></th>\n",
       "      <th>age</th>\n",
       "      <th>sex</th>\n",
       "      <th>chest_pain_type</th>\n",
       "      <th>resting_bp</th>\n",
       "      <th>cholestoral</th>\n",
       "      <th>fasting_blood_sugar</th>\n",
       "      <th>restecg</th>\n",
       "      <th>max_hr</th>\n",
       "      <th>exang</th>\n",
       "      <th>oldpeak</th>\n",
       "      <th>slope</th>\n",
       "      <th>num_major_vessels</th>\n",
       "      <th>thal</th>\n",
       "    </tr>\n",
       "  </thead>\n",
       "  <tbody>\n",
       "    <tr>\n",
       "      <th>179</th>\n",
       "      <td>-0.011553</td>\n",
       "      <td>-0.127192</td>\n",
       "      <td>-0.170008</td>\n",
       "      <td>0.821003</td>\n",
       "      <td>0.723259</td>\n",
       "      <td>-0.142367</td>\n",
       "      <td>-0.155571</td>\n",
       "      <td>-1.530871</td>\n",
       "      <td>-0.114916</td>\n",
       "      <td>-0.151482</td>\n",
       "      <td>-0.151057</td>\n",
       "      <td>-0.127811</td>\n",
       "      <td>-0.181493</td>\n",
       "    </tr>\n",
       "    <tr>\n",
       "      <th>228</th>\n",
       "      <td>0.070581</td>\n",
       "      <td>-0.127192</td>\n",
       "      <td>-0.069151</td>\n",
       "      <td>1.767817</td>\n",
       "      <td>0.982765</td>\n",
       "      <td>-0.142367</td>\n",
       "      <td>-0.155571</td>\n",
       "      <td>0.332117</td>\n",
       "      <td>-0.148453</td>\n",
       "      <td>-0.164931</td>\n",
       "      <td>-0.151057</td>\n",
       "      <td>-0.161392</td>\n",
       "      <td>-0.113820</td>\n",
       "    </tr>\n",
       "    <tr>\n",
       "      <th>111</th>\n",
       "      <td>-0.011553</td>\n",
       "      <td>-0.127192</td>\n",
       "      <td>-0.102770</td>\n",
       "      <td>0.821003</td>\n",
       "      <td>-2.520563</td>\n",
       "      <td>-0.108855</td>\n",
       "      <td>-0.122002</td>\n",
       "      <td>0.887049</td>\n",
       "      <td>-0.148453</td>\n",
       "      <td>-0.164931</td>\n",
       "      <td>-0.117359</td>\n",
       "      <td>-0.127811</td>\n",
       "      <td>-0.113820</td>\n",
       "    </tr>\n",
       "    <tr>\n",
       "      <th>246</th>\n",
       "      <td>7.719199</td>\n",
       "      <td>8.077829</td>\n",
       "      <td>8.075013</td>\n",
       "      <td>5.330125</td>\n",
       "      <td>0.058239</td>\n",
       "      <td>8.076228</td>\n",
       "      <td>8.076984</td>\n",
       "      <td>3.750832</td>\n",
       "      <td>8.076461</td>\n",
       "      <td>8.074128</td>\n",
       "      <td>8.079688</td>\n",
       "      <td>8.074240</td>\n",
       "      <td>8.082990</td>\n",
       "    </tr>\n",
       "    <tr>\n",
       "      <th>60</th>\n",
       "      <td>0.563382</td>\n",
       "      <td>-0.160785</td>\n",
       "      <td>-0.102770</td>\n",
       "      <td>-1.072624</td>\n",
       "      <td>0.485379</td>\n",
       "      <td>-0.108855</td>\n",
       "      <td>-0.155571</td>\n",
       "      <td>-0.817386</td>\n",
       "      <td>-0.148453</td>\n",
       "      <td>-0.171655</td>\n",
       "      <td>-0.117359</td>\n",
       "      <td>-0.127811</td>\n",
       "      <td>-0.147656</td>\n",
       "    </tr>\n",
       "    <tr>\n",
       "      <th>...</th>\n",
       "      <td>...</td>\n",
       "      <td>...</td>\n",
       "      <td>...</td>\n",
       "      <td>...</td>\n",
       "      <td>...</td>\n",
       "      <td>...</td>\n",
       "      <td>...</td>\n",
       "      <td>...</td>\n",
       "      <td>...</td>\n",
       "      <td>...</td>\n",
       "      <td>...</td>\n",
       "      <td>...</td>\n",
       "      <td>...</td>\n",
       "    </tr>\n",
       "    <tr>\n",
       "      <th>249</th>\n",
       "      <td>0.481248</td>\n",
       "      <td>-0.127192</td>\n",
       "      <td>-0.102770</td>\n",
       "      <td>0.347596</td>\n",
       "      <td>0.247498</td>\n",
       "      <td>-0.142367</td>\n",
       "      <td>-0.155571</td>\n",
       "      <td>-0.183178</td>\n",
       "      <td>-0.148453</td>\n",
       "      <td>-0.104411</td>\n",
       "      <td>-0.151057</td>\n",
       "      <td>-0.060649</td>\n",
       "      <td>-0.113820</td>\n",
       "    </tr>\n",
       "    <tr>\n",
       "      <th>104</th>\n",
       "      <td>-0.299020</td>\n",
       "      <td>-0.127192</td>\n",
       "      <td>-0.102770</td>\n",
       "      <td>-0.173151</td>\n",
       "      <td>-1.006780</td>\n",
       "      <td>-0.142367</td>\n",
       "      <td>-0.122002</td>\n",
       "      <td>0.490669</td>\n",
       "      <td>-0.148453</td>\n",
       "      <td>-0.171655</td>\n",
       "      <td>-0.117359</td>\n",
       "      <td>-0.161392</td>\n",
       "      <td>-0.147656</td>\n",
       "    </tr>\n",
       "    <tr>\n",
       "      <th>300</th>\n",
       "      <td>0.440181</td>\n",
       "      <td>-0.127192</td>\n",
       "      <td>-0.170008</td>\n",
       "      <td>0.536959</td>\n",
       "      <td>-1.071656</td>\n",
       "      <td>-0.108855</td>\n",
       "      <td>-0.122002</td>\n",
       "      <td>-0.381368</td>\n",
       "      <td>-0.148453</td>\n",
       "      <td>-0.057340</td>\n",
       "      <td>-0.151057</td>\n",
       "      <td>-0.094230</td>\n",
       "      <td>-0.113820</td>\n",
       "    </tr>\n",
       "    <tr>\n",
       "      <th>193</th>\n",
       "      <td>0.111647</td>\n",
       "      <td>-0.127192</td>\n",
       "      <td>-0.170008</td>\n",
       "      <td>0.584300</td>\n",
       "      <td>0.853012</td>\n",
       "      <td>-0.142367</td>\n",
       "      <td>-0.155571</td>\n",
       "      <td>-0.341730</td>\n",
       "      <td>-0.114916</td>\n",
       "      <td>-0.077513</td>\n",
       "      <td>-0.151057</td>\n",
       "      <td>-0.094230</td>\n",
       "      <td>-0.113820</td>\n",
       "    </tr>\n",
       "    <tr>\n",
       "      <th>184</th>\n",
       "      <td>-0.299020</td>\n",
       "      <td>-0.127192</td>\n",
       "      <td>-0.170008</td>\n",
       "      <td>0.821003</td>\n",
       "      <td>0.009618</td>\n",
       "      <td>-0.142367</td>\n",
       "      <td>-0.155571</td>\n",
       "      <td>-0.896662</td>\n",
       "      <td>-0.148453</td>\n",
       "      <td>-0.084238</td>\n",
       "      <td>-0.151057</td>\n",
       "      <td>-0.161392</td>\n",
       "      <td>-0.113820</td>\n",
       "    </tr>\n",
       "  </tbody>\n",
       "</table>\n",
       "<p>61 rows × 13 columns</p>\n",
       "</div>"
      ],
      "text/plain": [
       "          age       sex  chest_pain_type  resting_bp  cholestoral  \\\n",
       "179 -0.011553 -0.127192        -0.170008    0.821003     0.723259   \n",
       "228  0.070581 -0.127192        -0.069151    1.767817     0.982765   \n",
       "111 -0.011553 -0.127192        -0.102770    0.821003    -2.520563   \n",
       "246  7.719199  8.077829         8.075013    5.330125     0.058239   \n",
       "60   0.563382 -0.160785        -0.102770   -1.072624     0.485379   \n",
       "..        ...       ...              ...         ...          ...   \n",
       "249  0.481248 -0.127192        -0.102770    0.347596     0.247498   \n",
       "104 -0.299020 -0.127192        -0.102770   -0.173151    -1.006780   \n",
       "300  0.440181 -0.127192        -0.170008    0.536959    -1.071656   \n",
       "193  0.111647 -0.127192        -0.170008    0.584300     0.853012   \n",
       "184 -0.299020 -0.127192        -0.170008    0.821003     0.009618   \n",
       "\n",
       "     fasting_blood_sugar   restecg    max_hr     exang   oldpeak     slope  \\\n",
       "179            -0.142367 -0.155571 -1.530871 -0.114916 -0.151482 -0.151057   \n",
       "228            -0.142367 -0.155571  0.332117 -0.148453 -0.164931 -0.151057   \n",
       "111            -0.108855 -0.122002  0.887049 -0.148453 -0.164931 -0.117359   \n",
       "246             8.076228  8.076984  3.750832  8.076461  8.074128  8.079688   \n",
       "60             -0.108855 -0.155571 -0.817386 -0.148453 -0.171655 -0.117359   \n",
       "..                   ...       ...       ...       ...       ...       ...   \n",
       "249            -0.142367 -0.155571 -0.183178 -0.148453 -0.104411 -0.151057   \n",
       "104            -0.142367 -0.122002  0.490669 -0.148453 -0.171655 -0.117359   \n",
       "300            -0.108855 -0.122002 -0.381368 -0.148453 -0.057340 -0.151057   \n",
       "193            -0.142367 -0.155571 -0.341730 -0.114916 -0.077513 -0.151057   \n",
       "184            -0.142367 -0.155571 -0.896662 -0.148453 -0.084238 -0.151057   \n",
       "\n",
       "     num_major_vessels      thal  \n",
       "179          -0.127811 -0.181493  \n",
       "228          -0.161392 -0.113820  \n",
       "111          -0.127811 -0.113820  \n",
       "246           8.074240  8.082990  \n",
       "60           -0.127811 -0.147656  \n",
       "..                 ...       ...  \n",
       "249          -0.060649 -0.113820  \n",
       "104          -0.161392 -0.147656  \n",
       "300          -0.094230 -0.113820  \n",
       "193          -0.094230 -0.113820  \n",
       "184          -0.161392 -0.113820  \n",
       "\n",
       "[61 rows x 13 columns]"
      ]
     },
     "execution_count": 54,
     "metadata": {},
     "output_type": "execute_result"
    }
   ],
   "source": [
    "x_test"
   ]
  },
  {
   "cell_type": "code",
   "execution_count": 55,
   "id": "a123c7c6",
   "metadata": {},
   "outputs": [
    {
     "data": {
      "text/plain": [
       "132    0.890449\n",
       "202   -1.123029\n",
       "196   -1.123029\n",
       "75     0.890449\n",
       "176   -1.123029\n",
       "         ...   \n",
       "188   -1.123029\n",
       "71     0.890449\n",
       "106    0.890449\n",
       "270   -1.123029\n",
       "102    0.890449\n",
       "Name: target, Length: 242, dtype: float64"
      ]
     },
     "execution_count": 55,
     "metadata": {},
     "output_type": "execute_result"
    }
   ],
   "source": [
    "y_train"
   ]
  },
  {
   "cell_type": "code",
   "execution_count": 56,
   "id": "0cca24be",
   "metadata": {},
   "outputs": [
    {
     "data": {
      "text/plain": [
       "179   -1.123029\n",
       "228   -1.123029\n",
       "111    0.890449\n",
       "246    0.890449\n",
       "60     0.890449\n",
       "         ...   \n",
       "249   -1.123029\n",
       "104    0.890449\n",
       "300   -1.123029\n",
       "193   -1.123029\n",
       "184   -1.123029\n",
       "Name: target, Length: 61, dtype: float64"
      ]
     },
     "execution_count": 56,
     "metadata": {},
     "output_type": "execute_result"
    }
   ],
   "source": [
    "y_test"
   ]
  },
  {
   "cell_type": "code",
   "execution_count": 57,
   "id": "e91a26c7",
   "metadata": {},
   "outputs": [],
   "source": [
    "from sklearn.preprocessing import LabelEncoder"
   ]
  },
  {
   "cell_type": "code",
   "execution_count": 58,
   "id": "60d15fc9",
   "metadata": {},
   "outputs": [],
   "source": [
    "le=LabelEncoder()"
   ]
  },
  {
   "cell_type": "code",
   "execution_count": 59,
   "id": "19ad0ee2",
   "metadata": {},
   "outputs": [],
   "source": [
    "y_train=le.fit_transform(y_train)"
   ]
  },
  {
   "cell_type": "code",
   "execution_count": 60,
   "id": "eaf5fb1e",
   "metadata": {},
   "outputs": [],
   "source": [
    "y_test=le.fit_transform(y_test)"
   ]
  },
  {
   "cell_type": "code",
   "execution_count": 61,
   "id": "e6311c6f",
   "metadata": {},
   "outputs": [
    {
     "data": {
      "text/plain": [
       "array([ 0.89044899, -1.12302895])"
      ]
     },
     "execution_count": 61,
     "metadata": {},
     "output_type": "execute_result"
    }
   ],
   "source": [
    "data.target.unique()"
   ]
  },
  {
   "cell_type": "markdown",
   "id": "4c23f28c",
   "metadata": {},
   "source": [
    "# Logistic Regression"
   ]
  },
  {
   "cell_type": "code",
   "execution_count": 62,
   "id": "0e6cc9ed",
   "metadata": {},
   "outputs": [],
   "source": [
    "from sklearn.linear_model import LogisticRegression"
   ]
  },
  {
   "cell_type": "code",
   "execution_count": 63,
   "id": "4c04b4d7",
   "metadata": {},
   "outputs": [],
   "source": [
    "lr=LogisticRegression()"
   ]
  },
  {
   "cell_type": "code",
   "execution_count": 64,
   "id": "27688ace",
   "metadata": {},
   "outputs": [
    {
     "data": {
      "text/html": [
       "<style>#sk-container-id-1 {color: black;background-color: white;}#sk-container-id-1 pre{padding: 0;}#sk-container-id-1 div.sk-toggleable {background-color: white;}#sk-container-id-1 label.sk-toggleable__label {cursor: pointer;display: block;width: 100%;margin-bottom: 0;padding: 0.3em;box-sizing: border-box;text-align: center;}#sk-container-id-1 label.sk-toggleable__label-arrow:before {content: \"▸\";float: left;margin-right: 0.25em;color: #696969;}#sk-container-id-1 label.sk-toggleable__label-arrow:hover:before {color: black;}#sk-container-id-1 div.sk-estimator:hover label.sk-toggleable__label-arrow:before {color: black;}#sk-container-id-1 div.sk-toggleable__content {max-height: 0;max-width: 0;overflow: hidden;text-align: left;background-color: #f0f8ff;}#sk-container-id-1 div.sk-toggleable__content pre {margin: 0.2em;color: black;border-radius: 0.25em;background-color: #f0f8ff;}#sk-container-id-1 input.sk-toggleable__control:checked~div.sk-toggleable__content {max-height: 200px;max-width: 100%;overflow: auto;}#sk-container-id-1 input.sk-toggleable__control:checked~label.sk-toggleable__label-arrow:before {content: \"▾\";}#sk-container-id-1 div.sk-estimator input.sk-toggleable__control:checked~label.sk-toggleable__label {background-color: #d4ebff;}#sk-container-id-1 div.sk-label input.sk-toggleable__control:checked~label.sk-toggleable__label {background-color: #d4ebff;}#sk-container-id-1 input.sk-hidden--visually {border: 0;clip: rect(1px 1px 1px 1px);clip: rect(1px, 1px, 1px, 1px);height: 1px;margin: -1px;overflow: hidden;padding: 0;position: absolute;width: 1px;}#sk-container-id-1 div.sk-estimator {font-family: monospace;background-color: #f0f8ff;border: 1px dotted black;border-radius: 0.25em;box-sizing: border-box;margin-bottom: 0.5em;}#sk-container-id-1 div.sk-estimator:hover {background-color: #d4ebff;}#sk-container-id-1 div.sk-parallel-item::after {content: \"\";width: 100%;border-bottom: 1px solid gray;flex-grow: 1;}#sk-container-id-1 div.sk-label:hover label.sk-toggleable__label {background-color: #d4ebff;}#sk-container-id-1 div.sk-serial::before {content: \"\";position: absolute;border-left: 1px solid gray;box-sizing: border-box;top: 0;bottom: 0;left: 50%;z-index: 0;}#sk-container-id-1 div.sk-serial {display: flex;flex-direction: column;align-items: center;background-color: white;padding-right: 0.2em;padding-left: 0.2em;position: relative;}#sk-container-id-1 div.sk-item {position: relative;z-index: 1;}#sk-container-id-1 div.sk-parallel {display: flex;align-items: stretch;justify-content: center;background-color: white;position: relative;}#sk-container-id-1 div.sk-item::before, #sk-container-id-1 div.sk-parallel-item::before {content: \"\";position: absolute;border-left: 1px solid gray;box-sizing: border-box;top: 0;bottom: 0;left: 50%;z-index: -1;}#sk-container-id-1 div.sk-parallel-item {display: flex;flex-direction: column;z-index: 1;position: relative;background-color: white;}#sk-container-id-1 div.sk-parallel-item:first-child::after {align-self: flex-end;width: 50%;}#sk-container-id-1 div.sk-parallel-item:last-child::after {align-self: flex-start;width: 50%;}#sk-container-id-1 div.sk-parallel-item:only-child::after {width: 0;}#sk-container-id-1 div.sk-dashed-wrapped {border: 1px dashed gray;margin: 0 0.4em 0.5em 0.4em;box-sizing: border-box;padding-bottom: 0.4em;background-color: white;}#sk-container-id-1 div.sk-label label {font-family: monospace;font-weight: bold;display: inline-block;line-height: 1.2em;}#sk-container-id-1 div.sk-label-container {text-align: center;}#sk-container-id-1 div.sk-container {/* jupyter's `normalize.less` sets `[hidden] { display: none; }` but bootstrap.min.css set `[hidden] { display: none !important; }` so we also need the `!important` here to be able to override the default hidden behavior on the sphinx rendered scikit-learn.org. See: https://github.com/scikit-learn/scikit-learn/issues/21755 */display: inline-block !important;position: relative;}#sk-container-id-1 div.sk-text-repr-fallback {display: none;}</style><div id=\"sk-container-id-1\" class=\"sk-top-container\"><div class=\"sk-text-repr-fallback\"><pre>LogisticRegression()</pre><b>In a Jupyter environment, please rerun this cell to show the HTML representation or trust the notebook. <br />On GitHub, the HTML representation is unable to render, please try loading this page with nbviewer.org.</b></div><div class=\"sk-container\" hidden><div class=\"sk-item\"><div class=\"sk-estimator sk-toggleable\"><input class=\"sk-toggleable__control sk-hidden--visually\" id=\"sk-estimator-id-1\" type=\"checkbox\" checked><label for=\"sk-estimator-id-1\" class=\"sk-toggleable__label sk-toggleable__label-arrow\">LogisticRegression</label><div class=\"sk-toggleable__content\"><pre>LogisticRegression()</pre></div></div></div></div></div>"
      ],
      "text/plain": [
       "LogisticRegression()"
      ]
     },
     "execution_count": 64,
     "metadata": {},
     "output_type": "execute_result"
    }
   ],
   "source": [
    "lr.fit(x_train,y_train)"
   ]
  },
  {
   "cell_type": "code",
   "execution_count": 65,
   "id": "3fa221e3",
   "metadata": {},
   "outputs": [],
   "source": [
    "y_pred_logistic_regression=lr.predict(x_test)"
   ]
  },
  {
   "cell_type": "code",
   "execution_count": 66,
   "id": "37b8a476",
   "metadata": {},
   "outputs": [
    {
     "data": {
      "text/plain": [
       "array([0, 1, 1, 1, 0, 1, 1, 1, 0, 1, 1, 0, 1, 0, 1, 1, 1, 0, 0, 0, 1, 0,\n",
       "       0, 1, 1, 1, 0, 1, 0, 1, 0, 0, 0, 1, 0, 0, 1, 1, 1, 1, 1, 1, 0, 1,\n",
       "       1, 0, 1, 1, 0, 0, 1, 0, 0, 1, 1, 0, 0, 1, 0, 0, 0], dtype=int64)"
      ]
     },
     "execution_count": 66,
     "metadata": {},
     "output_type": "execute_result"
    }
   ],
   "source": [
    "y_pred_logistic_regression"
   ]
  },
  {
   "cell_type": "code",
   "execution_count": 67,
   "id": "d148d32e",
   "metadata": {},
   "outputs": [],
   "source": [
    "from sklearn.metrics import accuracy_score,confusion_matrix"
   ]
  },
  {
   "cell_type": "code",
   "execution_count": 68,
   "id": "6f62960b",
   "metadata": {},
   "outputs": [
    {
     "data": {
      "text/plain": [
       "0.819672131147541"
      ]
     },
     "execution_count": 68,
     "metadata": {},
     "output_type": "execute_result"
    }
   ],
   "source": [
    "accuracy_score(y_pred_logistic_regression,y_test)"
   ]
  },
  {
   "cell_type": "code",
   "execution_count": 69,
   "id": "a19bf905",
   "metadata": {},
   "outputs": [
    {
     "data": {
      "text/plain": [
       "array([[22,  6],\n",
       "       [ 5, 28]], dtype=int64)"
      ]
     },
     "execution_count": 69,
     "metadata": {},
     "output_type": "execute_result"
    }
   ],
   "source": [
    "confusion_matrix(y_pred_logistic_regression,y_test)"
   ]
  },
  {
   "cell_type": "markdown",
   "id": "4accf766",
   "metadata": {},
   "source": [
    "# Random Forest Classifier"
   ]
  },
  {
   "cell_type": "code",
   "execution_count": 70,
   "id": "85d2fa25",
   "metadata": {},
   "outputs": [],
   "source": [
    "from sklearn.ensemble import RandomForestClassifier"
   ]
  },
  {
   "cell_type": "code",
   "execution_count": 71,
   "id": "31e70643",
   "metadata": {},
   "outputs": [],
   "source": [
    "rfc=RandomForestClassifier()"
   ]
  },
  {
   "cell_type": "code",
   "execution_count": 72,
   "id": "eb5faa89",
   "metadata": {},
   "outputs": [
    {
     "data": {
      "text/html": [
       "<style>#sk-container-id-2 {color: black;background-color: white;}#sk-container-id-2 pre{padding: 0;}#sk-container-id-2 div.sk-toggleable {background-color: white;}#sk-container-id-2 label.sk-toggleable__label {cursor: pointer;display: block;width: 100%;margin-bottom: 0;padding: 0.3em;box-sizing: border-box;text-align: center;}#sk-container-id-2 label.sk-toggleable__label-arrow:before {content: \"▸\";float: left;margin-right: 0.25em;color: #696969;}#sk-container-id-2 label.sk-toggleable__label-arrow:hover:before {color: black;}#sk-container-id-2 div.sk-estimator:hover label.sk-toggleable__label-arrow:before {color: black;}#sk-container-id-2 div.sk-toggleable__content {max-height: 0;max-width: 0;overflow: hidden;text-align: left;background-color: #f0f8ff;}#sk-container-id-2 div.sk-toggleable__content pre {margin: 0.2em;color: black;border-radius: 0.25em;background-color: #f0f8ff;}#sk-container-id-2 input.sk-toggleable__control:checked~div.sk-toggleable__content {max-height: 200px;max-width: 100%;overflow: auto;}#sk-container-id-2 input.sk-toggleable__control:checked~label.sk-toggleable__label-arrow:before {content: \"▾\";}#sk-container-id-2 div.sk-estimator input.sk-toggleable__control:checked~label.sk-toggleable__label {background-color: #d4ebff;}#sk-container-id-2 div.sk-label input.sk-toggleable__control:checked~label.sk-toggleable__label {background-color: #d4ebff;}#sk-container-id-2 input.sk-hidden--visually {border: 0;clip: rect(1px 1px 1px 1px);clip: rect(1px, 1px, 1px, 1px);height: 1px;margin: -1px;overflow: hidden;padding: 0;position: absolute;width: 1px;}#sk-container-id-2 div.sk-estimator {font-family: monospace;background-color: #f0f8ff;border: 1px dotted black;border-radius: 0.25em;box-sizing: border-box;margin-bottom: 0.5em;}#sk-container-id-2 div.sk-estimator:hover {background-color: #d4ebff;}#sk-container-id-2 div.sk-parallel-item::after {content: \"\";width: 100%;border-bottom: 1px solid gray;flex-grow: 1;}#sk-container-id-2 div.sk-label:hover label.sk-toggleable__label {background-color: #d4ebff;}#sk-container-id-2 div.sk-serial::before {content: \"\";position: absolute;border-left: 1px solid gray;box-sizing: border-box;top: 0;bottom: 0;left: 50%;z-index: 0;}#sk-container-id-2 div.sk-serial {display: flex;flex-direction: column;align-items: center;background-color: white;padding-right: 0.2em;padding-left: 0.2em;position: relative;}#sk-container-id-2 div.sk-item {position: relative;z-index: 1;}#sk-container-id-2 div.sk-parallel {display: flex;align-items: stretch;justify-content: center;background-color: white;position: relative;}#sk-container-id-2 div.sk-item::before, #sk-container-id-2 div.sk-parallel-item::before {content: \"\";position: absolute;border-left: 1px solid gray;box-sizing: border-box;top: 0;bottom: 0;left: 50%;z-index: -1;}#sk-container-id-2 div.sk-parallel-item {display: flex;flex-direction: column;z-index: 1;position: relative;background-color: white;}#sk-container-id-2 div.sk-parallel-item:first-child::after {align-self: flex-end;width: 50%;}#sk-container-id-2 div.sk-parallel-item:last-child::after {align-self: flex-start;width: 50%;}#sk-container-id-2 div.sk-parallel-item:only-child::after {width: 0;}#sk-container-id-2 div.sk-dashed-wrapped {border: 1px dashed gray;margin: 0 0.4em 0.5em 0.4em;box-sizing: border-box;padding-bottom: 0.4em;background-color: white;}#sk-container-id-2 div.sk-label label {font-family: monospace;font-weight: bold;display: inline-block;line-height: 1.2em;}#sk-container-id-2 div.sk-label-container {text-align: center;}#sk-container-id-2 div.sk-container {/* jupyter's `normalize.less` sets `[hidden] { display: none; }` but bootstrap.min.css set `[hidden] { display: none !important; }` so we also need the `!important` here to be able to override the default hidden behavior on the sphinx rendered scikit-learn.org. See: https://github.com/scikit-learn/scikit-learn/issues/21755 */display: inline-block !important;position: relative;}#sk-container-id-2 div.sk-text-repr-fallback {display: none;}</style><div id=\"sk-container-id-2\" class=\"sk-top-container\"><div class=\"sk-text-repr-fallback\"><pre>RandomForestClassifier()</pre><b>In a Jupyter environment, please rerun this cell to show the HTML representation or trust the notebook. <br />On GitHub, the HTML representation is unable to render, please try loading this page with nbviewer.org.</b></div><div class=\"sk-container\" hidden><div class=\"sk-item\"><div class=\"sk-estimator sk-toggleable\"><input class=\"sk-toggleable__control sk-hidden--visually\" id=\"sk-estimator-id-2\" type=\"checkbox\" checked><label for=\"sk-estimator-id-2\" class=\"sk-toggleable__label sk-toggleable__label-arrow\">RandomForestClassifier</label><div class=\"sk-toggleable__content\"><pre>RandomForestClassifier()</pre></div></div></div></div></div>"
      ],
      "text/plain": [
       "RandomForestClassifier()"
      ]
     },
     "execution_count": 72,
     "metadata": {},
     "output_type": "execute_result"
    }
   ],
   "source": [
    "rfc.fit(x_train,y_train)"
   ]
  },
  {
   "cell_type": "code",
   "execution_count": 73,
   "id": "8cbc6b61",
   "metadata": {},
   "outputs": [],
   "source": [
    "y_pred_rfc=rfc.predict(x_test)"
   ]
  },
  {
   "cell_type": "code",
   "execution_count": 74,
   "id": "84c231fe",
   "metadata": {},
   "outputs": [
    {
     "data": {
      "text/plain": [
       "array([0, 1, 1, 1, 1, 1, 1, 1, 0, 0, 1, 0, 1, 0, 1, 1, 1, 0, 0, 0, 1, 0,\n",
       "       1, 1, 1, 1, 1, 1, 0, 1, 0, 0, 0, 0, 1, 0, 1, 1, 1, 1, 1, 1, 1, 1,\n",
       "       1, 0, 0, 1, 0, 0, 0, 0, 1, 1, 0, 0, 0, 1, 0, 0, 0], dtype=int64)"
      ]
     },
     "execution_count": 74,
     "metadata": {},
     "output_type": "execute_result"
    }
   ],
   "source": [
    "y_pred_rfc"
   ]
  },
  {
   "cell_type": "code",
   "execution_count": 75,
   "id": "42185c8e",
   "metadata": {},
   "outputs": [
    {
     "data": {
      "text/plain": [
       "0.8688524590163934"
      ]
     },
     "execution_count": 75,
     "metadata": {},
     "output_type": "execute_result"
    }
   ],
   "source": [
    "accuracy_score(y_pred_rfc,y_test)"
   ]
  },
  {
   "cell_type": "code",
   "execution_count": 76,
   "id": "82a921f4",
   "metadata": {},
   "outputs": [
    {
     "data": {
      "text/plain": [
       "array([[23,  4],\n",
       "       [ 4, 30]], dtype=int64)"
      ]
     },
     "execution_count": 76,
     "metadata": {},
     "output_type": "execute_result"
    }
   ],
   "source": [
    "confusion_matrix(y_pred_rfc,y_test)"
   ]
  },
  {
   "cell_type": "markdown",
   "id": "5cb2c30e",
   "metadata": {},
   "source": [
    "# Decision Tree Classifier"
   ]
  },
  {
   "cell_type": "code",
   "execution_count": 77,
   "id": "39a1d90f",
   "metadata": {},
   "outputs": [],
   "source": [
    "from sklearn.tree import DecisionTreeClassifier"
   ]
  },
  {
   "cell_type": "code",
   "execution_count": 78,
   "id": "28b114e8",
   "metadata": {},
   "outputs": [],
   "source": [
    "dt=DecisionTreeClassifier()"
   ]
  },
  {
   "cell_type": "code",
   "execution_count": 79,
   "id": "c12a8155",
   "metadata": {},
   "outputs": [
    {
     "data": {
      "text/html": [
       "<style>#sk-container-id-3 {color: black;background-color: white;}#sk-container-id-3 pre{padding: 0;}#sk-container-id-3 div.sk-toggleable {background-color: white;}#sk-container-id-3 label.sk-toggleable__label {cursor: pointer;display: block;width: 100%;margin-bottom: 0;padding: 0.3em;box-sizing: border-box;text-align: center;}#sk-container-id-3 label.sk-toggleable__label-arrow:before {content: \"▸\";float: left;margin-right: 0.25em;color: #696969;}#sk-container-id-3 label.sk-toggleable__label-arrow:hover:before {color: black;}#sk-container-id-3 div.sk-estimator:hover label.sk-toggleable__label-arrow:before {color: black;}#sk-container-id-3 div.sk-toggleable__content {max-height: 0;max-width: 0;overflow: hidden;text-align: left;background-color: #f0f8ff;}#sk-container-id-3 div.sk-toggleable__content pre {margin: 0.2em;color: black;border-radius: 0.25em;background-color: #f0f8ff;}#sk-container-id-3 input.sk-toggleable__control:checked~div.sk-toggleable__content {max-height: 200px;max-width: 100%;overflow: auto;}#sk-container-id-3 input.sk-toggleable__control:checked~label.sk-toggleable__label-arrow:before {content: \"▾\";}#sk-container-id-3 div.sk-estimator input.sk-toggleable__control:checked~label.sk-toggleable__label {background-color: #d4ebff;}#sk-container-id-3 div.sk-label input.sk-toggleable__control:checked~label.sk-toggleable__label {background-color: #d4ebff;}#sk-container-id-3 input.sk-hidden--visually {border: 0;clip: rect(1px 1px 1px 1px);clip: rect(1px, 1px, 1px, 1px);height: 1px;margin: -1px;overflow: hidden;padding: 0;position: absolute;width: 1px;}#sk-container-id-3 div.sk-estimator {font-family: monospace;background-color: #f0f8ff;border: 1px dotted black;border-radius: 0.25em;box-sizing: border-box;margin-bottom: 0.5em;}#sk-container-id-3 div.sk-estimator:hover {background-color: #d4ebff;}#sk-container-id-3 div.sk-parallel-item::after {content: \"\";width: 100%;border-bottom: 1px solid gray;flex-grow: 1;}#sk-container-id-3 div.sk-label:hover label.sk-toggleable__label {background-color: #d4ebff;}#sk-container-id-3 div.sk-serial::before {content: \"\";position: absolute;border-left: 1px solid gray;box-sizing: border-box;top: 0;bottom: 0;left: 50%;z-index: 0;}#sk-container-id-3 div.sk-serial {display: flex;flex-direction: column;align-items: center;background-color: white;padding-right: 0.2em;padding-left: 0.2em;position: relative;}#sk-container-id-3 div.sk-item {position: relative;z-index: 1;}#sk-container-id-3 div.sk-parallel {display: flex;align-items: stretch;justify-content: center;background-color: white;position: relative;}#sk-container-id-3 div.sk-item::before, #sk-container-id-3 div.sk-parallel-item::before {content: \"\";position: absolute;border-left: 1px solid gray;box-sizing: border-box;top: 0;bottom: 0;left: 50%;z-index: -1;}#sk-container-id-3 div.sk-parallel-item {display: flex;flex-direction: column;z-index: 1;position: relative;background-color: white;}#sk-container-id-3 div.sk-parallel-item:first-child::after {align-self: flex-end;width: 50%;}#sk-container-id-3 div.sk-parallel-item:last-child::after {align-self: flex-start;width: 50%;}#sk-container-id-3 div.sk-parallel-item:only-child::after {width: 0;}#sk-container-id-3 div.sk-dashed-wrapped {border: 1px dashed gray;margin: 0 0.4em 0.5em 0.4em;box-sizing: border-box;padding-bottom: 0.4em;background-color: white;}#sk-container-id-3 div.sk-label label {font-family: monospace;font-weight: bold;display: inline-block;line-height: 1.2em;}#sk-container-id-3 div.sk-label-container {text-align: center;}#sk-container-id-3 div.sk-container {/* jupyter's `normalize.less` sets `[hidden] { display: none; }` but bootstrap.min.css set `[hidden] { display: none !important; }` so we also need the `!important` here to be able to override the default hidden behavior on the sphinx rendered scikit-learn.org. See: https://github.com/scikit-learn/scikit-learn/issues/21755 */display: inline-block !important;position: relative;}#sk-container-id-3 div.sk-text-repr-fallback {display: none;}</style><div id=\"sk-container-id-3\" class=\"sk-top-container\"><div class=\"sk-text-repr-fallback\"><pre>DecisionTreeClassifier()</pre><b>In a Jupyter environment, please rerun this cell to show the HTML representation or trust the notebook. <br />On GitHub, the HTML representation is unable to render, please try loading this page with nbviewer.org.</b></div><div class=\"sk-container\" hidden><div class=\"sk-item\"><div class=\"sk-estimator sk-toggleable\"><input class=\"sk-toggleable__control sk-hidden--visually\" id=\"sk-estimator-id-3\" type=\"checkbox\" checked><label for=\"sk-estimator-id-3\" class=\"sk-toggleable__label sk-toggleable__label-arrow\">DecisionTreeClassifier</label><div class=\"sk-toggleable__content\"><pre>DecisionTreeClassifier()</pre></div></div></div></div></div>"
      ],
      "text/plain": [
       "DecisionTreeClassifier()"
      ]
     },
     "execution_count": 79,
     "metadata": {},
     "output_type": "execute_result"
    }
   ],
   "source": [
    "dt.fit(x_train,y_train)"
   ]
  },
  {
   "cell_type": "code",
   "execution_count": 80,
   "id": "2bc4d9f6",
   "metadata": {},
   "outputs": [],
   "source": [
    "y_pred_decision_tree=dt.predict(x_test)"
   ]
  },
  {
   "cell_type": "code",
   "execution_count": 81,
   "id": "18669a2e",
   "metadata": {},
   "outputs": [
    {
     "data": {
      "text/plain": [
       "array([0, 0, 0, 1, 1, 0, 1, 1, 0, 1, 1, 0, 1, 1, 1, 1, 1, 0, 0, 0, 1, 0,\n",
       "       1, 1, 1, 0, 1, 1, 0, 1, 0, 0, 0, 1, 0, 0, 0, 1, 1, 1, 1, 1, 1, 0,\n",
       "       1, 0, 0, 1, 0, 0, 0, 0, 0, 1, 0, 0, 0, 1, 0, 0, 0], dtype=int64)"
      ]
     },
     "execution_count": 81,
     "metadata": {},
     "output_type": "execute_result"
    }
   ],
   "source": [
    "y_pred_decision_tree"
   ]
  },
  {
   "cell_type": "code",
   "execution_count": 82,
   "id": "c00ed460",
   "metadata": {},
   "outputs": [
    {
     "data": {
      "text/plain": [
       "0.819672131147541"
      ]
     },
     "execution_count": 82,
     "metadata": {},
     "output_type": "execute_result"
    }
   ],
   "source": [
    "accuracy_score(y_pred_decision_tree,y_test)"
   ]
  },
  {
   "cell_type": "code",
   "execution_count": 83,
   "id": "babe416b",
   "metadata": {},
   "outputs": [
    {
     "data": {
      "text/plain": [
       "array([[24,  8],\n",
       "       [ 3, 26]], dtype=int64)"
      ]
     },
     "execution_count": 83,
     "metadata": {},
     "output_type": "execute_result"
    }
   ],
   "source": [
    "confusion_matrix(y_pred_decision_tree,y_test)"
   ]
  },
  {
   "cell_type": "markdown",
   "id": "ab59c852",
   "metadata": {},
   "source": [
    "# Ridge Clasifier"
   ]
  },
  {
   "cell_type": "code",
   "execution_count": 84,
   "id": "037fe4b9",
   "metadata": {},
   "outputs": [],
   "source": [
    "from sklearn.linear_model import RidgeClassifier"
   ]
  },
  {
   "cell_type": "code",
   "execution_count": 85,
   "id": "e40b7258",
   "metadata": {},
   "outputs": [],
   "source": [
    "rc=RidgeClassifier()"
   ]
  },
  {
   "cell_type": "code",
   "execution_count": 86,
   "id": "9b72c1bf",
   "metadata": {},
   "outputs": [
    {
     "data": {
      "text/html": [
       "<style>#sk-container-id-4 {color: black;background-color: white;}#sk-container-id-4 pre{padding: 0;}#sk-container-id-4 div.sk-toggleable {background-color: white;}#sk-container-id-4 label.sk-toggleable__label {cursor: pointer;display: block;width: 100%;margin-bottom: 0;padding: 0.3em;box-sizing: border-box;text-align: center;}#sk-container-id-4 label.sk-toggleable__label-arrow:before {content: \"▸\";float: left;margin-right: 0.25em;color: #696969;}#sk-container-id-4 label.sk-toggleable__label-arrow:hover:before {color: black;}#sk-container-id-4 div.sk-estimator:hover label.sk-toggleable__label-arrow:before {color: black;}#sk-container-id-4 div.sk-toggleable__content {max-height: 0;max-width: 0;overflow: hidden;text-align: left;background-color: #f0f8ff;}#sk-container-id-4 div.sk-toggleable__content pre {margin: 0.2em;color: black;border-radius: 0.25em;background-color: #f0f8ff;}#sk-container-id-4 input.sk-toggleable__control:checked~div.sk-toggleable__content {max-height: 200px;max-width: 100%;overflow: auto;}#sk-container-id-4 input.sk-toggleable__control:checked~label.sk-toggleable__label-arrow:before {content: \"▾\";}#sk-container-id-4 div.sk-estimator input.sk-toggleable__control:checked~label.sk-toggleable__label {background-color: #d4ebff;}#sk-container-id-4 div.sk-label input.sk-toggleable__control:checked~label.sk-toggleable__label {background-color: #d4ebff;}#sk-container-id-4 input.sk-hidden--visually {border: 0;clip: rect(1px 1px 1px 1px);clip: rect(1px, 1px, 1px, 1px);height: 1px;margin: -1px;overflow: hidden;padding: 0;position: absolute;width: 1px;}#sk-container-id-4 div.sk-estimator {font-family: monospace;background-color: #f0f8ff;border: 1px dotted black;border-radius: 0.25em;box-sizing: border-box;margin-bottom: 0.5em;}#sk-container-id-4 div.sk-estimator:hover {background-color: #d4ebff;}#sk-container-id-4 div.sk-parallel-item::after {content: \"\";width: 100%;border-bottom: 1px solid gray;flex-grow: 1;}#sk-container-id-4 div.sk-label:hover label.sk-toggleable__label {background-color: #d4ebff;}#sk-container-id-4 div.sk-serial::before {content: \"\";position: absolute;border-left: 1px solid gray;box-sizing: border-box;top: 0;bottom: 0;left: 50%;z-index: 0;}#sk-container-id-4 div.sk-serial {display: flex;flex-direction: column;align-items: center;background-color: white;padding-right: 0.2em;padding-left: 0.2em;position: relative;}#sk-container-id-4 div.sk-item {position: relative;z-index: 1;}#sk-container-id-4 div.sk-parallel {display: flex;align-items: stretch;justify-content: center;background-color: white;position: relative;}#sk-container-id-4 div.sk-item::before, #sk-container-id-4 div.sk-parallel-item::before {content: \"\";position: absolute;border-left: 1px solid gray;box-sizing: border-box;top: 0;bottom: 0;left: 50%;z-index: -1;}#sk-container-id-4 div.sk-parallel-item {display: flex;flex-direction: column;z-index: 1;position: relative;background-color: white;}#sk-container-id-4 div.sk-parallel-item:first-child::after {align-self: flex-end;width: 50%;}#sk-container-id-4 div.sk-parallel-item:last-child::after {align-self: flex-start;width: 50%;}#sk-container-id-4 div.sk-parallel-item:only-child::after {width: 0;}#sk-container-id-4 div.sk-dashed-wrapped {border: 1px dashed gray;margin: 0 0.4em 0.5em 0.4em;box-sizing: border-box;padding-bottom: 0.4em;background-color: white;}#sk-container-id-4 div.sk-label label {font-family: monospace;font-weight: bold;display: inline-block;line-height: 1.2em;}#sk-container-id-4 div.sk-label-container {text-align: center;}#sk-container-id-4 div.sk-container {/* jupyter's `normalize.less` sets `[hidden] { display: none; }` but bootstrap.min.css set `[hidden] { display: none !important; }` so we also need the `!important` here to be able to override the default hidden behavior on the sphinx rendered scikit-learn.org. See: https://github.com/scikit-learn/scikit-learn/issues/21755 */display: inline-block !important;position: relative;}#sk-container-id-4 div.sk-text-repr-fallback {display: none;}</style><div id=\"sk-container-id-4\" class=\"sk-top-container\"><div class=\"sk-text-repr-fallback\"><pre>RidgeClassifier()</pre><b>In a Jupyter environment, please rerun this cell to show the HTML representation or trust the notebook. <br />On GitHub, the HTML representation is unable to render, please try loading this page with nbviewer.org.</b></div><div class=\"sk-container\" hidden><div class=\"sk-item\"><div class=\"sk-estimator sk-toggleable\"><input class=\"sk-toggleable__control sk-hidden--visually\" id=\"sk-estimator-id-4\" type=\"checkbox\" checked><label for=\"sk-estimator-id-4\" class=\"sk-toggleable__label sk-toggleable__label-arrow\">RidgeClassifier</label><div class=\"sk-toggleable__content\"><pre>RidgeClassifier()</pre></div></div></div></div></div>"
      ],
      "text/plain": [
       "RidgeClassifier()"
      ]
     },
     "execution_count": 86,
     "metadata": {},
     "output_type": "execute_result"
    }
   ],
   "source": [
    "rc.fit(x_train,y_train)"
   ]
  },
  {
   "cell_type": "code",
   "execution_count": 87,
   "id": "c02930ec",
   "metadata": {},
   "outputs": [],
   "source": [
    "y_pred_rc=rc.predict(x_test)"
   ]
  },
  {
   "cell_type": "code",
   "execution_count": 88,
   "id": "63256f09",
   "metadata": {},
   "outputs": [
    {
     "data": {
      "text/plain": [
       "array([0, 1, 1, 1, 0, 1, 1, 1, 0, 1, 1, 0, 1, 0, 1, 1, 1, 0, 0, 0, 1, 0,\n",
       "       0, 1, 1, 1, 0, 1, 0, 1, 0, 0, 0, 1, 0, 0, 1, 1, 1, 1, 1, 1, 1, 1,\n",
       "       1, 0, 1, 1, 0, 0, 1, 0, 1, 1, 1, 0, 0, 1, 0, 0, 0], dtype=int64)"
      ]
     },
     "execution_count": 88,
     "metadata": {},
     "output_type": "execute_result"
    }
   ],
   "source": [
    "y_pred_rc"
   ]
  },
  {
   "cell_type": "code",
   "execution_count": 89,
   "id": "5784edd3",
   "metadata": {},
   "outputs": [
    {
     "data": {
      "text/plain": [
       "0.8524590163934426"
      ]
     },
     "execution_count": 89,
     "metadata": {},
     "output_type": "execute_result"
    }
   ],
   "source": [
    "accuracy_score(y_pred_rc,y_test)"
   ]
  },
  {
   "cell_type": "markdown",
   "id": "707af237",
   "metadata": {},
   "source": [
    "# Catboost Classifier"
   ]
  },
  {
   "cell_type": "code",
   "execution_count": 90,
   "id": "d264dd58",
   "metadata": {},
   "outputs": [],
   "source": [
    "from catboost import CatBoostClassifier"
   ]
  },
  {
   "cell_type": "code",
   "execution_count": 91,
   "id": "44ac59ee",
   "metadata": {},
   "outputs": [],
   "source": [
    "cat=CatBoostClassifier()"
   ]
  },
  {
   "cell_type": "code",
   "execution_count": 92,
   "id": "2ed6ac13",
   "metadata": {
    "scrolled": true
   },
   "outputs": [
    {
     "name": "stdout",
     "output_type": "stream",
     "text": [
      "Learning rate set to 0.005621\n",
      "0:\tlearn: 0.6887650\ttotal: 139ms\tremaining: 2m 18s\n",
      "1:\tlearn: 0.6856992\ttotal: 140ms\tremaining: 1m 9s\n",
      "2:\tlearn: 0.6816510\ttotal: 141ms\tremaining: 46.9s\n",
      "3:\tlearn: 0.6780056\ttotal: 142ms\tremaining: 35.5s\n",
      "4:\tlearn: 0.6743399\ttotal: 144ms\tremaining: 28.6s\n",
      "5:\tlearn: 0.6701691\ttotal: 145ms\tremaining: 24s\n",
      "6:\tlearn: 0.6664693\ttotal: 146ms\tremaining: 20.7s\n",
      "7:\tlearn: 0.6616497\ttotal: 147ms\tremaining: 18.3s\n",
      "8:\tlearn: 0.6577071\ttotal: 148ms\tremaining: 16.3s\n",
      "9:\tlearn: 0.6532465\ttotal: 150ms\tremaining: 14.8s\n",
      "10:\tlearn: 0.6495756\ttotal: 151ms\tremaining: 13.6s\n",
      "11:\tlearn: 0.6471634\ttotal: 152ms\tremaining: 12.5s\n",
      "12:\tlearn: 0.6438743\ttotal: 153ms\tremaining: 11.6s\n",
      "13:\tlearn: 0.6408486\ttotal: 154ms\tremaining: 10.8s\n",
      "14:\tlearn: 0.6395313\ttotal: 155ms\tremaining: 10.2s\n",
      "15:\tlearn: 0.6353464\ttotal: 156ms\tremaining: 9.59s\n",
      "16:\tlearn: 0.6326454\ttotal: 157ms\tremaining: 9.09s\n",
      "17:\tlearn: 0.6292583\ttotal: 158ms\tremaining: 8.63s\n",
      "18:\tlearn: 0.6251411\ttotal: 160ms\tremaining: 8.23s\n",
      "19:\tlearn: 0.6220324\ttotal: 161ms\tremaining: 7.87s\n",
      "20:\tlearn: 0.6187643\ttotal: 162ms\tremaining: 7.54s\n",
      "21:\tlearn: 0.6160176\ttotal: 163ms\tremaining: 7.25s\n",
      "22:\tlearn: 0.6130073\ttotal: 164ms\tremaining: 6.98s\n",
      "23:\tlearn: 0.6102333\ttotal: 165ms\tremaining: 6.73s\n",
      "24:\tlearn: 0.6071890\ttotal: 167ms\tremaining: 6.5s\n",
      "25:\tlearn: 0.6038984\ttotal: 168ms\tremaining: 6.28s\n",
      "26:\tlearn: 0.6019530\ttotal: 169ms\tremaining: 6.08s\n",
      "27:\tlearn: 0.5988446\ttotal: 170ms\tremaining: 5.89s\n",
      "28:\tlearn: 0.5958359\ttotal: 171ms\tremaining: 5.72s\n",
      "29:\tlearn: 0.5923567\ttotal: 172ms\tremaining: 5.56s\n",
      "30:\tlearn: 0.5888402\ttotal: 173ms\tremaining: 5.41s\n",
      "31:\tlearn: 0.5866028\ttotal: 174ms\tremaining: 5.27s\n",
      "32:\tlearn: 0.5843215\ttotal: 175ms\tremaining: 5.13s\n",
      "33:\tlearn: 0.5815105\ttotal: 176ms\tremaining: 5.01s\n",
      "34:\tlearn: 0.5793776\ttotal: 178ms\tremaining: 4.89s\n",
      "35:\tlearn: 0.5767677\ttotal: 179ms\tremaining: 4.79s\n",
      "36:\tlearn: 0.5737064\ttotal: 181ms\tremaining: 4.71s\n",
      "37:\tlearn: 0.5716926\ttotal: 182ms\tremaining: 4.62s\n",
      "38:\tlearn: 0.5690717\ttotal: 184ms\tremaining: 4.53s\n",
      "39:\tlearn: 0.5659527\ttotal: 185ms\tremaining: 4.45s\n",
      "40:\tlearn: 0.5629087\ttotal: 187ms\tremaining: 4.37s\n",
      "41:\tlearn: 0.5605017\ttotal: 188ms\tremaining: 4.29s\n",
      "42:\tlearn: 0.5582096\ttotal: 189ms\tremaining: 4.21s\n",
      "43:\tlearn: 0.5551792\ttotal: 191ms\tremaining: 4.16s\n",
      "44:\tlearn: 0.5524797\ttotal: 193ms\tremaining: 4.09s\n",
      "45:\tlearn: 0.5494017\ttotal: 194ms\tremaining: 4.03s\n",
      "46:\tlearn: 0.5465347\ttotal: 196ms\tremaining: 3.97s\n",
      "47:\tlearn: 0.5451686\ttotal: 197ms\tremaining: 3.91s\n",
      "48:\tlearn: 0.5425135\ttotal: 198ms\tremaining: 3.85s\n",
      "49:\tlearn: 0.5399088\ttotal: 200ms\tremaining: 3.8s\n",
      "50:\tlearn: 0.5383708\ttotal: 202ms\tremaining: 3.75s\n",
      "51:\tlearn: 0.5359150\ttotal: 203ms\tremaining: 3.71s\n",
      "52:\tlearn: 0.5331088\ttotal: 205ms\tremaining: 3.66s\n",
      "53:\tlearn: 0.5311919\ttotal: 207ms\tremaining: 3.63s\n",
      "54:\tlearn: 0.5284907\ttotal: 209ms\tremaining: 3.59s\n",
      "55:\tlearn: 0.5266205\ttotal: 210ms\tremaining: 3.54s\n",
      "56:\tlearn: 0.5243991\ttotal: 212ms\tremaining: 3.5s\n",
      "57:\tlearn: 0.5231672\ttotal: 213ms\tremaining: 3.45s\n",
      "58:\tlearn: 0.5207166\ttotal: 214ms\tremaining: 3.41s\n",
      "59:\tlearn: 0.5181178\ttotal: 215ms\tremaining: 3.37s\n",
      "60:\tlearn: 0.5152386\ttotal: 216ms\tremaining: 3.33s\n",
      "61:\tlearn: 0.5125735\ttotal: 217ms\tremaining: 3.29s\n",
      "62:\tlearn: 0.5106536\ttotal: 219ms\tremaining: 3.25s\n",
      "63:\tlearn: 0.5082168\ttotal: 220ms\tremaining: 3.21s\n",
      "64:\tlearn: 0.5061947\ttotal: 221ms\tremaining: 3.18s\n",
      "65:\tlearn: 0.5044118\ttotal: 223ms\tremaining: 3.15s\n",
      "66:\tlearn: 0.5021892\ttotal: 224ms\tremaining: 3.12s\n",
      "67:\tlearn: 0.4994492\ttotal: 225ms\tremaining: 3.08s\n",
      "68:\tlearn: 0.4971641\ttotal: 226ms\tremaining: 3.05s\n",
      "69:\tlearn: 0.4950389\ttotal: 227ms\tremaining: 3.02s\n",
      "70:\tlearn: 0.4924483\ttotal: 228ms\tremaining: 2.99s\n",
      "71:\tlearn: 0.4906663\ttotal: 229ms\tremaining: 2.96s\n",
      "72:\tlearn: 0.4882908\ttotal: 231ms\tremaining: 2.93s\n",
      "73:\tlearn: 0.4863967\ttotal: 232ms\tremaining: 2.9s\n",
      "74:\tlearn: 0.4845693\ttotal: 233ms\tremaining: 2.87s\n",
      "75:\tlearn: 0.4827563\ttotal: 234ms\tremaining: 2.85s\n",
      "76:\tlearn: 0.4808126\ttotal: 235ms\tremaining: 2.82s\n",
      "77:\tlearn: 0.4789121\ttotal: 237ms\tremaining: 2.8s\n",
      "78:\tlearn: 0.4768916\ttotal: 238ms\tremaining: 2.77s\n",
      "79:\tlearn: 0.4758991\ttotal: 239ms\tremaining: 2.75s\n",
      "80:\tlearn: 0.4740137\ttotal: 240ms\tremaining: 2.73s\n",
      "81:\tlearn: 0.4720903\ttotal: 241ms\tremaining: 2.7s\n",
      "82:\tlearn: 0.4703345\ttotal: 243ms\tremaining: 2.68s\n",
      "83:\tlearn: 0.4688231\ttotal: 244ms\tremaining: 2.66s\n",
      "84:\tlearn: 0.4669950\ttotal: 245ms\tremaining: 2.63s\n",
      "85:\tlearn: 0.4651552\ttotal: 246ms\tremaining: 2.61s\n",
      "86:\tlearn: 0.4635716\ttotal: 247ms\tremaining: 2.59s\n",
      "87:\tlearn: 0.4626938\ttotal: 248ms\tremaining: 2.57s\n",
      "88:\tlearn: 0.4603408\ttotal: 250ms\tremaining: 2.55s\n",
      "89:\tlearn: 0.4587865\ttotal: 251ms\tremaining: 2.54s\n",
      "90:\tlearn: 0.4572336\ttotal: 252ms\tremaining: 2.52s\n",
      "91:\tlearn: 0.4556650\ttotal: 253ms\tremaining: 2.5s\n",
      "92:\tlearn: 0.4541117\ttotal: 255ms\tremaining: 2.48s\n",
      "93:\tlearn: 0.4520444\ttotal: 256ms\tremaining: 2.46s\n",
      "94:\tlearn: 0.4504967\ttotal: 257ms\tremaining: 2.45s\n",
      "95:\tlearn: 0.4485406\ttotal: 258ms\tremaining: 2.43s\n",
      "96:\tlearn: 0.4470091\ttotal: 259ms\tremaining: 2.41s\n",
      "97:\tlearn: 0.4452274\ttotal: 260ms\tremaining: 2.4s\n",
      "98:\tlearn: 0.4443123\ttotal: 261ms\tremaining: 2.38s\n",
      "99:\tlearn: 0.4427537\ttotal: 263ms\tremaining: 2.36s\n",
      "100:\tlearn: 0.4404478\ttotal: 264ms\tremaining: 2.35s\n",
      "101:\tlearn: 0.4390022\ttotal: 265ms\tremaining: 2.33s\n",
      "102:\tlearn: 0.4375815\ttotal: 266ms\tremaining: 2.32s\n",
      "103:\tlearn: 0.4361517\ttotal: 268ms\tremaining: 2.3s\n",
      "104:\tlearn: 0.4346188\ttotal: 269ms\tremaining: 2.29s\n",
      "105:\tlearn: 0.4327920\ttotal: 270ms\tremaining: 2.28s\n",
      "106:\tlearn: 0.4311662\ttotal: 271ms\tremaining: 2.26s\n",
      "107:\tlearn: 0.4303624\ttotal: 272ms\tremaining: 2.25s\n",
      "108:\tlearn: 0.4293823\ttotal: 273ms\tremaining: 2.23s\n",
      "109:\tlearn: 0.4289831\ttotal: 274ms\tremaining: 2.22s\n",
      "110:\tlearn: 0.4276416\ttotal: 275ms\tremaining: 2.2s\n",
      "111:\tlearn: 0.4256840\ttotal: 276ms\tremaining: 2.19s\n",
      "112:\tlearn: 0.4248064\ttotal: 277ms\tremaining: 2.18s\n",
      "113:\tlearn: 0.4237734\ttotal: 278ms\tremaining: 2.16s\n",
      "114:\tlearn: 0.4221296\ttotal: 280ms\tremaining: 2.15s\n",
      "115:\tlearn: 0.4204187\ttotal: 281ms\tremaining: 2.14s\n",
      "116:\tlearn: 0.4185868\ttotal: 282ms\tremaining: 2.13s\n",
      "117:\tlearn: 0.4169285\ttotal: 283ms\tremaining: 2.12s\n",
      "118:\tlearn: 0.4156870\ttotal: 284ms\tremaining: 2.1s\n",
      "119:\tlearn: 0.4152008\ttotal: 286ms\tremaining: 2.09s\n",
      "120:\tlearn: 0.4135616\ttotal: 287ms\tremaining: 2.08s\n",
      "121:\tlearn: 0.4121837\ttotal: 288ms\tremaining: 2.07s\n",
      "122:\tlearn: 0.4111818\ttotal: 289ms\tremaining: 2.06s\n",
      "123:\tlearn: 0.4100779\ttotal: 290ms\tremaining: 2.05s\n",
      "124:\tlearn: 0.4093055\ttotal: 291ms\tremaining: 2.04s\n",
      "125:\tlearn: 0.4081417\ttotal: 292ms\tremaining: 2.03s\n",
      "126:\tlearn: 0.4065122\ttotal: 294ms\tremaining: 2.02s\n",
      "127:\tlearn: 0.4056880\ttotal: 295ms\tremaining: 2.01s\n",
      "128:\tlearn: 0.4046427\ttotal: 296ms\tremaining: 2s\n",
      "129:\tlearn: 0.4029712\ttotal: 297ms\tremaining: 1.99s\n",
      "130:\tlearn: 0.4013416\ttotal: 298ms\tremaining: 1.98s\n",
      "131:\tlearn: 0.3996502\ttotal: 299ms\tremaining: 1.97s\n",
      "132:\tlearn: 0.3985288\ttotal: 301ms\tremaining: 1.96s\n",
      "133:\tlearn: 0.3970047\ttotal: 302ms\tremaining: 1.95s\n",
      "134:\tlearn: 0.3958748\ttotal: 303ms\tremaining: 1.94s\n",
      "135:\tlearn: 0.3947611\ttotal: 304ms\tremaining: 1.93s\n",
      "136:\tlearn: 0.3931704\ttotal: 305ms\tremaining: 1.92s\n",
      "137:\tlearn: 0.3918989\ttotal: 307ms\tremaining: 1.91s\n",
      "138:\tlearn: 0.3906029\ttotal: 308ms\tremaining: 1.91s\n",
      "139:\tlearn: 0.3887710\ttotal: 309ms\tremaining: 1.9s\n",
      "140:\tlearn: 0.3877529\ttotal: 310ms\tremaining: 1.89s\n",
      "141:\tlearn: 0.3862399\ttotal: 311ms\tremaining: 1.88s\n",
      "142:\tlearn: 0.3852602\ttotal: 313ms\tremaining: 1.87s\n",
      "143:\tlearn: 0.3841159\ttotal: 314ms\tremaining: 1.86s\n",
      "144:\tlearn: 0.3834139\ttotal: 315ms\tremaining: 1.86s\n",
      "145:\tlearn: 0.3821572\ttotal: 316ms\tremaining: 1.85s\n",
      "146:\tlearn: 0.3811985\ttotal: 317ms\tremaining: 1.84s\n",
      "147:\tlearn: 0.3806987\ttotal: 318ms\tremaining: 1.83s\n",
      "148:\tlearn: 0.3797034\ttotal: 319ms\tremaining: 1.82s\n",
      "149:\tlearn: 0.3790011\ttotal: 320ms\tremaining: 1.81s\n",
      "150:\tlearn: 0.3781787\ttotal: 321ms\tremaining: 1.81s\n",
      "151:\tlearn: 0.3770915\ttotal: 323ms\tremaining: 1.8s\n",
      "152:\tlearn: 0.3758280\ttotal: 324ms\tremaining: 1.79s\n",
      "153:\tlearn: 0.3749100\ttotal: 325ms\tremaining: 1.78s\n",
      "154:\tlearn: 0.3741033\ttotal: 326ms\tremaining: 1.78s\n",
      "155:\tlearn: 0.3727266\ttotal: 327ms\tremaining: 1.77s\n",
      "156:\tlearn: 0.3716885\ttotal: 328ms\tremaining: 1.76s\n",
      "157:\tlearn: 0.3706532\ttotal: 329ms\tremaining: 1.75s\n",
      "158:\tlearn: 0.3698144\ttotal: 331ms\tremaining: 1.75s\n",
      "159:\tlearn: 0.3684747\ttotal: 332ms\tremaining: 1.74s\n",
      "160:\tlearn: 0.3675894\ttotal: 333ms\tremaining: 1.73s\n",
      "161:\tlearn: 0.3665914\ttotal: 334ms\tremaining: 1.73s\n",
      "162:\tlearn: 0.3651869\ttotal: 335ms\tremaining: 1.72s\n",
      "163:\tlearn: 0.3647389\ttotal: 336ms\tremaining: 1.71s\n",
      "164:\tlearn: 0.3632083\ttotal: 337ms\tremaining: 1.71s\n",
      "165:\tlearn: 0.3621500\ttotal: 339ms\tremaining: 1.7s\n",
      "166:\tlearn: 0.3610035\ttotal: 340ms\tremaining: 1.7s\n",
      "167:\tlearn: 0.3604420\ttotal: 341ms\tremaining: 1.69s\n",
      "168:\tlearn: 0.3594455\ttotal: 342ms\tremaining: 1.68s\n",
      "169:\tlearn: 0.3588300\ttotal: 343ms\tremaining: 1.68s\n",
      "170:\tlearn: 0.3574252\ttotal: 345ms\tremaining: 1.67s\n",
      "171:\tlearn: 0.3563821\ttotal: 346ms\tremaining: 1.66s\n",
      "172:\tlearn: 0.3555605\ttotal: 347ms\tremaining: 1.66s\n",
      "173:\tlearn: 0.3541887\ttotal: 348ms\tremaining: 1.65s\n",
      "174:\tlearn: 0.3533121\ttotal: 349ms\tremaining: 1.65s\n",
      "175:\tlearn: 0.3530063\ttotal: 350ms\tremaining: 1.64s\n",
      "176:\tlearn: 0.3518751\ttotal: 351ms\tremaining: 1.63s\n"
     ]
    },
    {
     "name": "stdout",
     "output_type": "stream",
     "text": [
      "177:\tlearn: 0.3512263\ttotal: 353ms\tremaining: 1.63s\n",
      "178:\tlearn: 0.3503715\ttotal: 354ms\tremaining: 1.63s\n",
      "179:\tlearn: 0.3493512\ttotal: 356ms\tremaining: 1.62s\n",
      "180:\tlearn: 0.3486165\ttotal: 357ms\tremaining: 1.62s\n",
      "181:\tlearn: 0.3475379\ttotal: 359ms\tremaining: 1.61s\n",
      "182:\tlearn: 0.3468819\ttotal: 360ms\tremaining: 1.61s\n",
      "183:\tlearn: 0.3457247\ttotal: 362ms\tremaining: 1.6s\n",
      "184:\tlearn: 0.3445491\ttotal: 363ms\tremaining: 1.6s\n",
      "185:\tlearn: 0.3438766\ttotal: 365ms\tremaining: 1.6s\n",
      "186:\tlearn: 0.3431949\ttotal: 367ms\tremaining: 1.59s\n",
      "187:\tlearn: 0.3424164\ttotal: 368ms\tremaining: 1.59s\n",
      "188:\tlearn: 0.3412969\ttotal: 369ms\tremaining: 1.58s\n",
      "189:\tlearn: 0.3405385\ttotal: 370ms\tremaining: 1.58s\n",
      "190:\tlearn: 0.3397419\ttotal: 372ms\tremaining: 1.57s\n",
      "191:\tlearn: 0.3388715\ttotal: 373ms\tremaining: 1.57s\n",
      "192:\tlearn: 0.3377723\ttotal: 374ms\tremaining: 1.56s\n",
      "193:\tlearn: 0.3367146\ttotal: 375ms\tremaining: 1.56s\n",
      "194:\tlearn: 0.3356472\ttotal: 377ms\tremaining: 1.55s\n",
      "195:\tlearn: 0.3345934\ttotal: 378ms\tremaining: 1.55s\n",
      "196:\tlearn: 0.3337554\ttotal: 379ms\tremaining: 1.54s\n",
      "197:\tlearn: 0.3334475\ttotal: 380ms\tremaining: 1.54s\n",
      "198:\tlearn: 0.3326043\ttotal: 381ms\tremaining: 1.53s\n",
      "199:\tlearn: 0.3321951\ttotal: 382ms\tremaining: 1.53s\n",
      "200:\tlearn: 0.3313676\ttotal: 383ms\tremaining: 1.52s\n",
      "201:\tlearn: 0.3305230\ttotal: 385ms\tremaining: 1.52s\n",
      "202:\tlearn: 0.3296798\ttotal: 386ms\tremaining: 1.51s\n",
      "203:\tlearn: 0.3288538\ttotal: 387ms\tremaining: 1.51s\n",
      "204:\tlearn: 0.3279856\ttotal: 389ms\tremaining: 1.51s\n",
      "205:\tlearn: 0.3270566\ttotal: 390ms\tremaining: 1.5s\n",
      "206:\tlearn: 0.3260321\ttotal: 391ms\tremaining: 1.5s\n",
      "207:\tlearn: 0.3252229\ttotal: 392ms\tremaining: 1.49s\n",
      "208:\tlearn: 0.3244130\ttotal: 394ms\tremaining: 1.49s\n",
      "209:\tlearn: 0.3231907\ttotal: 395ms\tremaining: 1.49s\n",
      "210:\tlearn: 0.3225247\ttotal: 396ms\tremaining: 1.48s\n",
      "211:\tlearn: 0.3217787\ttotal: 397ms\tremaining: 1.48s\n",
      "212:\tlearn: 0.3209267\ttotal: 398ms\tremaining: 1.47s\n",
      "213:\tlearn: 0.3200350\ttotal: 399ms\tremaining: 1.47s\n",
      "214:\tlearn: 0.3191528\ttotal: 401ms\tremaining: 1.46s\n",
      "215:\tlearn: 0.3184020\ttotal: 402ms\tremaining: 1.46s\n",
      "216:\tlearn: 0.3177642\ttotal: 403ms\tremaining: 1.46s\n",
      "217:\tlearn: 0.3170142\ttotal: 404ms\tremaining: 1.45s\n",
      "218:\tlearn: 0.3165575\ttotal: 406ms\tremaining: 1.45s\n",
      "219:\tlearn: 0.3160721\ttotal: 407ms\tremaining: 1.44s\n",
      "220:\tlearn: 0.3153171\ttotal: 408ms\tremaining: 1.44s\n",
      "221:\tlearn: 0.3147517\ttotal: 409ms\tremaining: 1.43s\n",
      "222:\tlearn: 0.3142130\ttotal: 410ms\tremaining: 1.43s\n",
      "223:\tlearn: 0.3137675\ttotal: 412ms\tremaining: 1.43s\n",
      "224:\tlearn: 0.3130939\ttotal: 413ms\tremaining: 1.42s\n",
      "225:\tlearn: 0.3127804\ttotal: 414ms\tremaining: 1.42s\n",
      "226:\tlearn: 0.3122478\ttotal: 415ms\tremaining: 1.41s\n",
      "227:\tlearn: 0.3116728\ttotal: 416ms\tremaining: 1.41s\n",
      "228:\tlearn: 0.3107766\ttotal: 417ms\tremaining: 1.41s\n",
      "229:\tlearn: 0.3098662\ttotal: 419ms\tremaining: 1.4s\n",
      "230:\tlearn: 0.3091016\ttotal: 420ms\tremaining: 1.4s\n",
      "231:\tlearn: 0.3085094\ttotal: 421ms\tremaining: 1.39s\n",
      "232:\tlearn: 0.3075504\ttotal: 422ms\tremaining: 1.39s\n",
      "233:\tlearn: 0.3067929\ttotal: 423ms\tremaining: 1.39s\n",
      "234:\tlearn: 0.3061600\ttotal: 425ms\tremaining: 1.38s\n",
      "235:\tlearn: 0.3054218\ttotal: 426ms\tremaining: 1.38s\n",
      "236:\tlearn: 0.3051026\ttotal: 427ms\tremaining: 1.37s\n",
      "237:\tlearn: 0.3046257\ttotal: 428ms\tremaining: 1.37s\n",
      "238:\tlearn: 0.3040952\ttotal: 429ms\tremaining: 1.36s\n",
      "239:\tlearn: 0.3036003\ttotal: 430ms\tremaining: 1.36s\n",
      "240:\tlearn: 0.3028294\ttotal: 431ms\tremaining: 1.36s\n",
      "241:\tlearn: 0.3021898\ttotal: 433ms\tremaining: 1.35s\n",
      "242:\tlearn: 0.3014030\ttotal: 434ms\tremaining: 1.35s\n",
      "243:\tlearn: 0.3011655\ttotal: 435ms\tremaining: 1.35s\n",
      "244:\tlearn: 0.3005437\ttotal: 436ms\tremaining: 1.34s\n",
      "245:\tlearn: 0.2999492\ttotal: 437ms\tremaining: 1.34s\n",
      "246:\tlearn: 0.2991398\ttotal: 438ms\tremaining: 1.33s\n",
      "247:\tlearn: 0.2985074\ttotal: 439ms\tremaining: 1.33s\n",
      "248:\tlearn: 0.2976511\ttotal: 440ms\tremaining: 1.33s\n",
      "249:\tlearn: 0.2970588\ttotal: 441ms\tremaining: 1.32s\n",
      "250:\tlearn: 0.2964448\ttotal: 443ms\tremaining: 1.32s\n",
      "251:\tlearn: 0.2959322\ttotal: 444ms\tremaining: 1.32s\n",
      "252:\tlearn: 0.2953363\ttotal: 445ms\tremaining: 1.31s\n",
      "253:\tlearn: 0.2948964\ttotal: 446ms\tremaining: 1.31s\n",
      "254:\tlearn: 0.2945493\ttotal: 448ms\tremaining: 1.31s\n",
      "255:\tlearn: 0.2941067\ttotal: 449ms\tremaining: 1.3s\n",
      "256:\tlearn: 0.2936705\ttotal: 450ms\tremaining: 1.3s\n",
      "257:\tlearn: 0.2930000\ttotal: 451ms\tremaining: 1.3s\n",
      "258:\tlearn: 0.2925785\ttotal: 453ms\tremaining: 1.29s\n",
      "259:\tlearn: 0.2919733\ttotal: 454ms\tremaining: 1.29s\n",
      "260:\tlearn: 0.2914655\ttotal: 455ms\tremaining: 1.29s\n",
      "261:\tlearn: 0.2909995\ttotal: 456ms\tremaining: 1.28s\n",
      "262:\tlearn: 0.2905864\ttotal: 457ms\tremaining: 1.28s\n",
      "263:\tlearn: 0.2901557\ttotal: 458ms\tremaining: 1.28s\n",
      "264:\tlearn: 0.2893652\ttotal: 460ms\tremaining: 1.27s\n",
      "265:\tlearn: 0.2889487\ttotal: 461ms\tremaining: 1.27s\n",
      "266:\tlearn: 0.2885065\ttotal: 462ms\tremaining: 1.27s\n",
      "267:\tlearn: 0.2881383\ttotal: 463ms\tremaining: 1.26s\n",
      "268:\tlearn: 0.2876676\ttotal: 464ms\tremaining: 1.26s\n",
      "269:\tlearn: 0.2870977\ttotal: 465ms\tremaining: 1.26s\n",
      "270:\tlearn: 0.2865892\ttotal: 467ms\tremaining: 1.25s\n",
      "271:\tlearn: 0.2861532\ttotal: 468ms\tremaining: 1.25s\n",
      "272:\tlearn: 0.2854992\ttotal: 469ms\tremaining: 1.25s\n",
      "273:\tlearn: 0.2850093\ttotal: 470ms\tremaining: 1.25s\n",
      "274:\tlearn: 0.2845531\ttotal: 471ms\tremaining: 1.24s\n",
      "275:\tlearn: 0.2841353\ttotal: 472ms\tremaining: 1.24s\n",
      "276:\tlearn: 0.2835850\ttotal: 474ms\tremaining: 1.24s\n",
      "277:\tlearn: 0.2832530\ttotal: 475ms\tremaining: 1.23s\n",
      "278:\tlearn: 0.2828256\ttotal: 476ms\tremaining: 1.23s\n",
      "279:\tlearn: 0.2825341\ttotal: 477ms\tremaining: 1.23s\n",
      "280:\tlearn: 0.2817895\ttotal: 478ms\tremaining: 1.22s\n",
      "281:\tlearn: 0.2809926\ttotal: 479ms\tremaining: 1.22s\n",
      "282:\tlearn: 0.2805750\ttotal: 480ms\tremaining: 1.22s\n",
      "283:\tlearn: 0.2798869\ttotal: 481ms\tremaining: 1.21s\n",
      "284:\tlearn: 0.2794436\ttotal: 482ms\tremaining: 1.21s\n",
      "285:\tlearn: 0.2789006\ttotal: 484ms\tremaining: 1.21s\n",
      "286:\tlearn: 0.2783054\ttotal: 485ms\tremaining: 1.2s\n",
      "287:\tlearn: 0.2778896\ttotal: 486ms\tremaining: 1.2s\n",
      "288:\tlearn: 0.2773460\ttotal: 487ms\tremaining: 1.2s\n",
      "289:\tlearn: 0.2768760\ttotal: 488ms\tremaining: 1.2s\n",
      "290:\tlearn: 0.2764914\ttotal: 489ms\tremaining: 1.19s\n",
      "291:\tlearn: 0.2757879\ttotal: 491ms\tremaining: 1.19s\n",
      "292:\tlearn: 0.2750448\ttotal: 492ms\tremaining: 1.19s\n",
      "293:\tlearn: 0.2747266\ttotal: 493ms\tremaining: 1.18s\n",
      "294:\tlearn: 0.2742069\ttotal: 494ms\tremaining: 1.18s\n",
      "295:\tlearn: 0.2737800\ttotal: 495ms\tremaining: 1.18s\n",
      "296:\tlearn: 0.2732762\ttotal: 496ms\tremaining: 1.17s\n",
      "297:\tlearn: 0.2730850\ttotal: 497ms\tremaining: 1.17s\n",
      "298:\tlearn: 0.2725802\ttotal: 498ms\tremaining: 1.17s\n",
      "299:\tlearn: 0.2720223\ttotal: 500ms\tremaining: 1.17s\n",
      "300:\tlearn: 0.2714612\ttotal: 501ms\tremaining: 1.16s\n",
      "301:\tlearn: 0.2708325\ttotal: 502ms\tremaining: 1.16s\n",
      "302:\tlearn: 0.2704356\ttotal: 503ms\tremaining: 1.16s\n",
      "303:\tlearn: 0.2698414\ttotal: 504ms\tremaining: 1.15s\n",
      "304:\tlearn: 0.2694567\ttotal: 505ms\tremaining: 1.15s\n",
      "305:\tlearn: 0.2689811\ttotal: 507ms\tremaining: 1.15s\n",
      "306:\tlearn: 0.2681901\ttotal: 508ms\tremaining: 1.15s\n",
      "307:\tlearn: 0.2675241\ttotal: 509ms\tremaining: 1.14s\n",
      "308:\tlearn: 0.2668350\ttotal: 510ms\tremaining: 1.14s\n",
      "309:\tlearn: 0.2664744\ttotal: 511ms\tremaining: 1.14s\n",
      "310:\tlearn: 0.2662354\ttotal: 512ms\tremaining: 1.13s\n",
      "311:\tlearn: 0.2656406\ttotal: 513ms\tremaining: 1.13s\n",
      "312:\tlearn: 0.2654948\ttotal: 514ms\tremaining: 1.13s\n",
      "313:\tlearn: 0.2650478\ttotal: 516ms\tremaining: 1.13s\n",
      "314:\tlearn: 0.2644470\ttotal: 517ms\tremaining: 1.12s\n",
      "315:\tlearn: 0.2642210\ttotal: 518ms\tremaining: 1.12s\n",
      "316:\tlearn: 0.2636985\ttotal: 519ms\tremaining: 1.12s\n",
      "317:\tlearn: 0.2632943\ttotal: 520ms\tremaining: 1.11s\n",
      "318:\tlearn: 0.2627108\ttotal: 522ms\tremaining: 1.11s\n",
      "319:\tlearn: 0.2623747\ttotal: 523ms\tremaining: 1.11s\n",
      "320:\tlearn: 0.2618786\ttotal: 524ms\tremaining: 1.11s\n",
      "321:\tlearn: 0.2616825\ttotal: 525ms\tremaining: 1.1s\n",
      "322:\tlearn: 0.2611379\ttotal: 526ms\tremaining: 1.1s\n",
      "323:\tlearn: 0.2609415\ttotal: 527ms\tremaining: 1.1s\n",
      "324:\tlearn: 0.2607024\ttotal: 529ms\tremaining: 1.1s\n",
      "325:\tlearn: 0.2603256\ttotal: 530ms\tremaining: 1.1s\n",
      "326:\tlearn: 0.2601923\ttotal: 531ms\tremaining: 1.09s\n",
      "327:\tlearn: 0.2596468\ttotal: 533ms\tremaining: 1.09s\n",
      "328:\tlearn: 0.2592721\ttotal: 534ms\tremaining: 1.09s\n",
      "329:\tlearn: 0.2589806\ttotal: 535ms\tremaining: 1.09s\n",
      "330:\tlearn: 0.2586919\ttotal: 537ms\tremaining: 1.08s\n",
      "331:\tlearn: 0.2585095\ttotal: 538ms\tremaining: 1.08s\n",
      "332:\tlearn: 0.2581794\ttotal: 539ms\tremaining: 1.08s\n",
      "333:\tlearn: 0.2579254\ttotal: 541ms\tremaining: 1.08s\n",
      "334:\tlearn: 0.2575710\ttotal: 543ms\tremaining: 1.08s\n",
      "335:\tlearn: 0.2570872\ttotal: 544ms\tremaining: 1.07s\n",
      "336:\tlearn: 0.2567829\ttotal: 545ms\tremaining: 1.07s\n",
      "337:\tlearn: 0.2565852\ttotal: 546ms\tremaining: 1.07s\n",
      "338:\tlearn: 0.2562784\ttotal: 547ms\tremaining: 1.07s\n",
      "339:\tlearn: 0.2555472\ttotal: 548ms\tremaining: 1.06s\n",
      "340:\tlearn: 0.2551827\ttotal: 550ms\tremaining: 1.06s\n",
      "341:\tlearn: 0.2548594\ttotal: 551ms\tremaining: 1.06s\n",
      "342:\tlearn: 0.2547432\ttotal: 552ms\tremaining: 1.06s\n",
      "343:\tlearn: 0.2544524\ttotal: 554ms\tremaining: 1.05s\n",
      "344:\tlearn: 0.2540102\ttotal: 555ms\tremaining: 1.05s\n",
      "345:\tlearn: 0.2536095\ttotal: 556ms\tremaining: 1.05s\n",
      "346:\tlearn: 0.2532690\ttotal: 557ms\tremaining: 1.05s\n",
      "347:\tlearn: 0.2527271\ttotal: 558ms\tremaining: 1.05s\n",
      "348:\tlearn: 0.2524443\ttotal: 559ms\tremaining: 1.04s\n",
      "349:\tlearn: 0.2520423\ttotal: 561ms\tremaining: 1.04s\n",
      "350:\tlearn: 0.2518922\ttotal: 561ms\tremaining: 1.04s\n",
      "351:\tlearn: 0.2515505\ttotal: 563ms\tremaining: 1.03s\n",
      "352:\tlearn: 0.2512037\ttotal: 564ms\tremaining: 1.03s\n",
      "353:\tlearn: 0.2507959\ttotal: 565ms\tremaining: 1.03s\n",
      "354:\tlearn: 0.2504394\ttotal: 566ms\tremaining: 1.03s\n",
      "355:\tlearn: 0.2499817\ttotal: 568ms\tremaining: 1.03s\n",
      "356:\tlearn: 0.2494356\ttotal: 569ms\tremaining: 1.02s\n",
      "357:\tlearn: 0.2492918\ttotal: 570ms\tremaining: 1.02s\n",
      "358:\tlearn: 0.2488840\ttotal: 571ms\tremaining: 1.02s\n",
      "359:\tlearn: 0.2486881\ttotal: 572ms\tremaining: 1.02s\n",
      "360:\tlearn: 0.2483059\ttotal: 573ms\tremaining: 1.01s\n",
      "361:\tlearn: 0.2482218\ttotal: 574ms\tremaining: 1.01s\n",
      "362:\tlearn: 0.2478123\ttotal: 575ms\tremaining: 1.01s\n",
      "363:\tlearn: 0.2473256\ttotal: 576ms\tremaining: 1.01s\n",
      "364:\tlearn: 0.2470438\ttotal: 577ms\tremaining: 1s\n",
      "365:\tlearn: 0.2466704\ttotal: 578ms\tremaining: 1s\n",
      "366:\tlearn: 0.2463434\ttotal: 580ms\tremaining: 1000ms\n",
      "367:\tlearn: 0.2461520\ttotal: 581ms\tremaining: 997ms\n",
      "368:\tlearn: 0.2457837\ttotal: 582ms\tremaining: 995ms\n",
      "369:\tlearn: 0.2451780\ttotal: 583ms\tremaining: 993ms\n",
      "370:\tlearn: 0.2446931\ttotal: 584ms\tremaining: 991ms\n",
      "371:\tlearn: 0.2442330\ttotal: 585ms\tremaining: 988ms\n",
      "372:\tlearn: 0.2439138\ttotal: 587ms\tremaining: 986ms\n",
      "373:\tlearn: 0.2437027\ttotal: 588ms\tremaining: 984ms\n",
      "374:\tlearn: 0.2435073\ttotal: 589ms\tremaining: 981ms\n",
      "375:\tlearn: 0.2430099\ttotal: 590ms\tremaining: 979ms\n",
      "376:\tlearn: 0.2427000\ttotal: 591ms\tremaining: 977ms\n",
      "377:\tlearn: 0.2424359\ttotal: 592ms\tremaining: 974ms\n",
      "378:\tlearn: 0.2422029\ttotal: 593ms\tremaining: 972ms\n",
      "379:\tlearn: 0.2419595\ttotal: 594ms\tremaining: 970ms\n",
      "380:\tlearn: 0.2416680\ttotal: 596ms\tremaining: 968ms\n",
      "381:\tlearn: 0.2413502\ttotal: 597ms\tremaining: 966ms\n",
      "382:\tlearn: 0.2411751\ttotal: 598ms\tremaining: 964ms\n",
      "383:\tlearn: 0.2408732\ttotal: 599ms\tremaining: 962ms\n",
      "384:\tlearn: 0.2405099\ttotal: 601ms\tremaining: 959ms\n",
      "385:\tlearn: 0.2401845\ttotal: 602ms\tremaining: 957ms\n",
      "386:\tlearn: 0.2397779\ttotal: 603ms\tremaining: 955ms\n",
      "387:\tlearn: 0.2392486\ttotal: 604ms\tremaining: 953ms\n",
      "388:\tlearn: 0.2389147\ttotal: 605ms\tremaining: 951ms\n",
      "389:\tlearn: 0.2386720\ttotal: 607ms\tremaining: 949ms\n",
      "390:\tlearn: 0.2381600\ttotal: 608ms\tremaining: 946ms\n",
      "391:\tlearn: 0.2377591\ttotal: 609ms\tremaining: 944ms\n",
      "392:\tlearn: 0.2373945\ttotal: 610ms\tremaining: 942ms\n",
      "393:\tlearn: 0.2372373\ttotal: 611ms\tremaining: 940ms\n",
      "394:\tlearn: 0.2369809\ttotal: 612ms\tremaining: 938ms\n",
      "395:\tlearn: 0.2366088\ttotal: 614ms\tremaining: 936ms\n",
      "396:\tlearn: 0.2361347\ttotal: 615ms\tremaining: 934ms\n",
      "397:\tlearn: 0.2358914\ttotal: 616ms\tremaining: 931ms\n",
      "398:\tlearn: 0.2357323\ttotal: 617ms\tremaining: 929ms\n",
      "399:\tlearn: 0.2354519\ttotal: 618ms\tremaining: 927ms\n",
      "400:\tlearn: 0.2351727\ttotal: 619ms\tremaining: 925ms\n",
      "401:\tlearn: 0.2349442\ttotal: 620ms\tremaining: 923ms\n",
      "402:\tlearn: 0.2346173\ttotal: 622ms\tremaining: 921ms\n",
      "403:\tlearn: 0.2343392\ttotal: 623ms\tremaining: 919ms\n",
      "404:\tlearn: 0.2341442\ttotal: 624ms\tremaining: 917ms\n",
      "405:\tlearn: 0.2337270\ttotal: 625ms\tremaining: 915ms\n",
      "406:\tlearn: 0.2335077\ttotal: 626ms\tremaining: 913ms\n",
      "407:\tlearn: 0.2333177\ttotal: 628ms\tremaining: 911ms\n",
      "408:\tlearn: 0.2328344\ttotal: 629ms\tremaining: 908ms\n",
      "409:\tlearn: 0.2324927\ttotal: 630ms\tremaining: 906ms\n",
      "410:\tlearn: 0.2323033\ttotal: 631ms\tremaining: 904ms\n",
      "411:\tlearn: 0.2322484\ttotal: 632ms\tremaining: 901ms\n",
      "412:\tlearn: 0.2318626\ttotal: 633ms\tremaining: 899ms\n",
      "413:\tlearn: 0.2314705\ttotal: 634ms\tremaining: 897ms\n",
      "414:\tlearn: 0.2310647\ttotal: 635ms\tremaining: 895ms\n",
      "415:\tlearn: 0.2308429\ttotal: 636ms\tremaining: 893ms\n",
      "416:\tlearn: 0.2304804\ttotal: 637ms\tremaining: 891ms\n",
      "417:\tlearn: 0.2303679\ttotal: 638ms\tremaining: 889ms\n",
      "418:\tlearn: 0.2301277\ttotal: 639ms\tremaining: 886ms\n",
      "419:\tlearn: 0.2297478\ttotal: 641ms\tremaining: 885ms\n",
      "420:\tlearn: 0.2294054\ttotal: 642ms\tremaining: 883ms\n",
      "421:\tlearn: 0.2290501\ttotal: 643ms\tremaining: 881ms\n",
      "422:\tlearn: 0.2286330\ttotal: 644ms\tremaining: 879ms\n",
      "423:\tlearn: 0.2282842\ttotal: 645ms\tremaining: 877ms\n",
      "424:\tlearn: 0.2280026\ttotal: 646ms\tremaining: 875ms\n",
      "425:\tlearn: 0.2277187\ttotal: 647ms\tremaining: 872ms\n",
      "426:\tlearn: 0.2272626\ttotal: 649ms\tremaining: 870ms\n",
      "427:\tlearn: 0.2268660\ttotal: 650ms\tremaining: 868ms\n",
      "428:\tlearn: 0.2268011\ttotal: 651ms\tremaining: 866ms\n",
      "429:\tlearn: 0.2264639\ttotal: 652ms\tremaining: 864ms\n",
      "430:\tlearn: 0.2261649\ttotal: 653ms\tremaining: 862ms\n",
      "431:\tlearn: 0.2260507\ttotal: 654ms\tremaining: 860ms\n",
      "432:\tlearn: 0.2257137\ttotal: 655ms\tremaining: 858ms\n",
      "433:\tlearn: 0.2254013\ttotal: 656ms\tremaining: 856ms\n",
      "434:\tlearn: 0.2251431\ttotal: 657ms\tremaining: 854ms\n",
      "435:\tlearn: 0.2248590\ttotal: 659ms\tremaining: 852ms\n",
      "436:\tlearn: 0.2243958\ttotal: 660ms\tremaining: 850ms\n",
      "437:\tlearn: 0.2237726\ttotal: 661ms\tremaining: 848ms\n",
      "438:\tlearn: 0.2235589\ttotal: 662ms\tremaining: 846ms\n",
      "439:\tlearn: 0.2232774\ttotal: 663ms\tremaining: 844ms\n",
      "440:\tlearn: 0.2230460\ttotal: 664ms\tremaining: 842ms\n",
      "441:\tlearn: 0.2228711\ttotal: 665ms\tremaining: 840ms\n",
      "442:\tlearn: 0.2226561\ttotal: 667ms\tremaining: 838ms\n",
      "443:\tlearn: 0.2222680\ttotal: 668ms\tremaining: 836ms\n",
      "444:\tlearn: 0.2220096\ttotal: 669ms\tremaining: 834ms\n",
      "445:\tlearn: 0.2218784\ttotal: 670ms\tremaining: 833ms\n",
      "446:\tlearn: 0.2214979\ttotal: 671ms\tremaining: 831ms\n",
      "447:\tlearn: 0.2212058\ttotal: 673ms\tremaining: 829ms\n",
      "448:\tlearn: 0.2211630\ttotal: 673ms\tremaining: 826ms\n",
      "449:\tlearn: 0.2207615\ttotal: 675ms\tremaining: 824ms\n",
      "450:\tlearn: 0.2204364\ttotal: 676ms\tremaining: 823ms\n",
      "451:\tlearn: 0.2200797\ttotal: 677ms\tremaining: 821ms\n",
      "452:\tlearn: 0.2199513\ttotal: 678ms\tremaining: 819ms\n",
      "453:\tlearn: 0.2196918\ttotal: 679ms\tremaining: 817ms\n",
      "454:\tlearn: 0.2192345\ttotal: 680ms\tremaining: 815ms\n",
      "455:\tlearn: 0.2188272\ttotal: 681ms\tremaining: 813ms\n",
      "456:\tlearn: 0.2183856\ttotal: 683ms\tremaining: 811ms\n",
      "457:\tlearn: 0.2181481\ttotal: 684ms\tremaining: 810ms\n",
      "458:\tlearn: 0.2176503\ttotal: 685ms\tremaining: 808ms\n",
      "459:\tlearn: 0.2172322\ttotal: 686ms\tremaining: 806ms\n",
      "460:\tlearn: 0.2169192\ttotal: 688ms\tremaining: 804ms\n",
      "461:\tlearn: 0.2165669\ttotal: 689ms\tremaining: 802ms\n",
      "462:\tlearn: 0.2159648\ttotal: 690ms\tremaining: 800ms\n",
      "463:\tlearn: 0.2155404\ttotal: 691ms\tremaining: 798ms\n",
      "464:\tlearn: 0.2152311\ttotal: 692ms\tremaining: 797ms\n",
      "465:\tlearn: 0.2148799\ttotal: 694ms\tremaining: 795ms\n",
      "466:\tlearn: 0.2142413\ttotal: 695ms\tremaining: 793ms\n",
      "467:\tlearn: 0.2140604\ttotal: 697ms\tremaining: 792ms\n"
     ]
    },
    {
     "name": "stdout",
     "output_type": "stream",
     "text": [
      "468:\tlearn: 0.2138611\ttotal: 699ms\tremaining: 792ms\n",
      "469:\tlearn: 0.2134903\ttotal: 701ms\tremaining: 791ms\n",
      "470:\tlearn: 0.2131248\ttotal: 705ms\tremaining: 792ms\n",
      "471:\tlearn: 0.2127839\ttotal: 706ms\tremaining: 790ms\n",
      "472:\tlearn: 0.2125777\ttotal: 708ms\tremaining: 789ms\n",
      "473:\tlearn: 0.2121185\ttotal: 710ms\tremaining: 787ms\n",
      "474:\tlearn: 0.2118157\ttotal: 711ms\tremaining: 786ms\n",
      "475:\tlearn: 0.2115355\ttotal: 713ms\tremaining: 785ms\n",
      "476:\tlearn: 0.2112415\ttotal: 715ms\tremaining: 784ms\n",
      "477:\tlearn: 0.2110445\ttotal: 716ms\tremaining: 782ms\n",
      "478:\tlearn: 0.2107257\ttotal: 718ms\tremaining: 781ms\n",
      "479:\tlearn: 0.2102987\ttotal: 719ms\tremaining: 779ms\n",
      "480:\tlearn: 0.2100097\ttotal: 721ms\tremaining: 778ms\n",
      "481:\tlearn: 0.2097431\ttotal: 722ms\tremaining: 776ms\n",
      "482:\tlearn: 0.2095055\ttotal: 724ms\tremaining: 774ms\n",
      "483:\tlearn: 0.2092367\ttotal: 725ms\tremaining: 773ms\n",
      "484:\tlearn: 0.2089753\ttotal: 726ms\tremaining: 771ms\n",
      "485:\tlearn: 0.2087812\ttotal: 727ms\tremaining: 769ms\n",
      "486:\tlearn: 0.2086212\ttotal: 728ms\tremaining: 767ms\n",
      "487:\tlearn: 0.2082845\ttotal: 730ms\tremaining: 765ms\n",
      "488:\tlearn: 0.2080051\ttotal: 731ms\tremaining: 764ms\n",
      "489:\tlearn: 0.2076435\ttotal: 732ms\tremaining: 762ms\n",
      "490:\tlearn: 0.2073907\ttotal: 734ms\tremaining: 761ms\n",
      "491:\tlearn: 0.2070651\ttotal: 735ms\tremaining: 759ms\n",
      "492:\tlearn: 0.2067836\ttotal: 736ms\tremaining: 757ms\n",
      "493:\tlearn: 0.2066659\ttotal: 737ms\tremaining: 755ms\n",
      "494:\tlearn: 0.2065015\ttotal: 738ms\tremaining: 753ms\n",
      "495:\tlearn: 0.2062845\ttotal: 739ms\tremaining: 751ms\n",
      "496:\tlearn: 0.2060629\ttotal: 741ms\tremaining: 750ms\n",
      "497:\tlearn: 0.2057901\ttotal: 742ms\tremaining: 748ms\n",
      "498:\tlearn: 0.2057295\ttotal: 743ms\tremaining: 746ms\n",
      "499:\tlearn: 0.2054706\ttotal: 744ms\tremaining: 744ms\n",
      "500:\tlearn: 0.2052139\ttotal: 745ms\tremaining: 742ms\n",
      "501:\tlearn: 0.2048406\ttotal: 746ms\tremaining: 740ms\n",
      "502:\tlearn: 0.2046359\ttotal: 748ms\tremaining: 739ms\n",
      "503:\tlearn: 0.2043372\ttotal: 749ms\tremaining: 737ms\n",
      "504:\tlearn: 0.2040753\ttotal: 750ms\tremaining: 735ms\n",
      "505:\tlearn: 0.2038740\ttotal: 751ms\tremaining: 734ms\n",
      "506:\tlearn: 0.2037116\ttotal: 753ms\tremaining: 732ms\n",
      "507:\tlearn: 0.2032930\ttotal: 754ms\tremaining: 730ms\n",
      "508:\tlearn: 0.2030216\ttotal: 755ms\tremaining: 728ms\n",
      "509:\tlearn: 0.2026755\ttotal: 756ms\tremaining: 727ms\n",
      "510:\tlearn: 0.2025243\ttotal: 758ms\tremaining: 725ms\n",
      "511:\tlearn: 0.2020407\ttotal: 759ms\tremaining: 723ms\n",
      "512:\tlearn: 0.2017011\ttotal: 760ms\tremaining: 721ms\n",
      "513:\tlearn: 0.2015350\ttotal: 761ms\tremaining: 719ms\n",
      "514:\tlearn: 0.2012754\ttotal: 762ms\tremaining: 718ms\n",
      "515:\tlearn: 0.2011803\ttotal: 764ms\tremaining: 716ms\n",
      "516:\tlearn: 0.2011105\ttotal: 765ms\tremaining: 714ms\n",
      "517:\tlearn: 0.2007152\ttotal: 766ms\tremaining: 713ms\n",
      "518:\tlearn: 0.2004287\ttotal: 767ms\tremaining: 711ms\n",
      "519:\tlearn: 0.2001170\ttotal: 769ms\tremaining: 709ms\n",
      "520:\tlearn: 0.1998337\ttotal: 770ms\tremaining: 708ms\n",
      "521:\tlearn: 0.1996464\ttotal: 771ms\tremaining: 706ms\n",
      "522:\tlearn: 0.1994972\ttotal: 773ms\tremaining: 705ms\n",
      "523:\tlearn: 0.1993085\ttotal: 774ms\tremaining: 703ms\n",
      "524:\tlearn: 0.1990479\ttotal: 775ms\tremaining: 701ms\n",
      "525:\tlearn: 0.1987076\ttotal: 777ms\tremaining: 700ms\n",
      "526:\tlearn: 0.1984527\ttotal: 778ms\tremaining: 698ms\n",
      "527:\tlearn: 0.1980192\ttotal: 779ms\tremaining: 697ms\n",
      "528:\tlearn: 0.1977322\ttotal: 781ms\tremaining: 695ms\n",
      "529:\tlearn: 0.1974930\ttotal: 782ms\tremaining: 694ms\n",
      "530:\tlearn: 0.1972106\ttotal: 784ms\tremaining: 692ms\n",
      "531:\tlearn: 0.1968999\ttotal: 785ms\tremaining: 691ms\n",
      "532:\tlearn: 0.1967075\ttotal: 786ms\tremaining: 689ms\n",
      "533:\tlearn: 0.1965259\ttotal: 788ms\tremaining: 688ms\n",
      "534:\tlearn: 0.1961818\ttotal: 789ms\tremaining: 686ms\n",
      "535:\tlearn: 0.1960321\ttotal: 791ms\tremaining: 685ms\n",
      "536:\tlearn: 0.1957050\ttotal: 792ms\tremaining: 683ms\n",
      "537:\tlearn: 0.1955940\ttotal: 793ms\tremaining: 681ms\n",
      "538:\tlearn: 0.1952805\ttotal: 795ms\tremaining: 680ms\n",
      "539:\tlearn: 0.1947658\ttotal: 796ms\tremaining: 678ms\n",
      "540:\tlearn: 0.1944663\ttotal: 798ms\tremaining: 677ms\n",
      "541:\tlearn: 0.1941192\ttotal: 799ms\tremaining: 675ms\n",
      "542:\tlearn: 0.1938620\ttotal: 800ms\tremaining: 674ms\n",
      "543:\tlearn: 0.1935809\ttotal: 802ms\tremaining: 672ms\n",
      "544:\tlearn: 0.1934504\ttotal: 803ms\tremaining: 671ms\n",
      "545:\tlearn: 0.1933231\ttotal: 805ms\tremaining: 669ms\n",
      "546:\tlearn: 0.1931615\ttotal: 806ms\tremaining: 668ms\n",
      "547:\tlearn: 0.1928891\ttotal: 807ms\tremaining: 666ms\n",
      "548:\tlearn: 0.1924870\ttotal: 809ms\tremaining: 664ms\n",
      "549:\tlearn: 0.1922961\ttotal: 810ms\tremaining: 663ms\n",
      "550:\tlearn: 0.1919858\ttotal: 811ms\tremaining: 661ms\n",
      "551:\tlearn: 0.1917602\ttotal: 812ms\tremaining: 659ms\n",
      "552:\tlearn: 0.1917532\ttotal: 813ms\tremaining: 657ms\n",
      "553:\tlearn: 0.1916364\ttotal: 814ms\tremaining: 655ms\n",
      "554:\tlearn: 0.1914936\ttotal: 815ms\tremaining: 654ms\n",
      "555:\tlearn: 0.1912763\ttotal: 816ms\tremaining: 652ms\n",
      "556:\tlearn: 0.1909586\ttotal: 818ms\tremaining: 650ms\n",
      "557:\tlearn: 0.1906142\ttotal: 819ms\tremaining: 649ms\n",
      "558:\tlearn: 0.1902603\ttotal: 820ms\tremaining: 647ms\n",
      "559:\tlearn: 0.1901556\ttotal: 821ms\tremaining: 645ms\n",
      "560:\tlearn: 0.1897755\ttotal: 823ms\tremaining: 644ms\n",
      "561:\tlearn: 0.1895903\ttotal: 824ms\tremaining: 642ms\n",
      "562:\tlearn: 0.1892362\ttotal: 825ms\tremaining: 640ms\n",
      "563:\tlearn: 0.1888801\ttotal: 826ms\tremaining: 639ms\n",
      "564:\tlearn: 0.1885341\ttotal: 827ms\tremaining: 637ms\n",
      "565:\tlearn: 0.1884118\ttotal: 828ms\tremaining: 635ms\n",
      "566:\tlearn: 0.1881845\ttotal: 829ms\tremaining: 633ms\n",
      "567:\tlearn: 0.1877737\ttotal: 831ms\tremaining: 632ms\n",
      "568:\tlearn: 0.1874604\ttotal: 832ms\tremaining: 630ms\n",
      "569:\tlearn: 0.1871716\ttotal: 833ms\tremaining: 628ms\n",
      "570:\tlearn: 0.1869931\ttotal: 834ms\tremaining: 627ms\n",
      "571:\tlearn: 0.1867380\ttotal: 835ms\tremaining: 625ms\n",
      "572:\tlearn: 0.1864378\ttotal: 837ms\tremaining: 623ms\n",
      "573:\tlearn: 0.1861870\ttotal: 838ms\tremaining: 622ms\n",
      "574:\tlearn: 0.1859462\ttotal: 839ms\tremaining: 620ms\n",
      "575:\tlearn: 0.1857945\ttotal: 840ms\tremaining: 618ms\n",
      "576:\tlearn: 0.1855647\ttotal: 841ms\tremaining: 617ms\n",
      "577:\tlearn: 0.1854704\ttotal: 842ms\tremaining: 615ms\n",
      "578:\tlearn: 0.1852844\ttotal: 843ms\tremaining: 613ms\n",
      "579:\tlearn: 0.1850652\ttotal: 844ms\tremaining: 611ms\n",
      "580:\tlearn: 0.1847536\ttotal: 845ms\tremaining: 610ms\n",
      "581:\tlearn: 0.1846065\ttotal: 846ms\tremaining: 608ms\n",
      "582:\tlearn: 0.1843085\ttotal: 848ms\tremaining: 606ms\n",
      "583:\tlearn: 0.1842466\ttotal: 849ms\tremaining: 604ms\n",
      "584:\tlearn: 0.1840268\ttotal: 850ms\tremaining: 603ms\n",
      "585:\tlearn: 0.1837991\ttotal: 851ms\tremaining: 601ms\n",
      "586:\tlearn: 0.1836515\ttotal: 852ms\tremaining: 599ms\n",
      "587:\tlearn: 0.1833285\ttotal: 853ms\tremaining: 598ms\n",
      "588:\tlearn: 0.1831084\ttotal: 854ms\tremaining: 596ms\n",
      "589:\tlearn: 0.1828673\ttotal: 855ms\tremaining: 594ms\n",
      "590:\tlearn: 0.1827278\ttotal: 856ms\tremaining: 592ms\n",
      "591:\tlearn: 0.1826677\ttotal: 857ms\tremaining: 591ms\n",
      "592:\tlearn: 0.1826284\ttotal: 858ms\tremaining: 589ms\n",
      "593:\tlearn: 0.1824035\ttotal: 859ms\tremaining: 587ms\n",
      "594:\tlearn: 0.1823042\ttotal: 861ms\tremaining: 586ms\n",
      "595:\tlearn: 0.1820895\ttotal: 862ms\tremaining: 584ms\n",
      "596:\tlearn: 0.1817847\ttotal: 863ms\tremaining: 583ms\n",
      "597:\tlearn: 0.1815948\ttotal: 864ms\tremaining: 581ms\n",
      "598:\tlearn: 0.1814446\ttotal: 866ms\tremaining: 580ms\n",
      "599:\tlearn: 0.1812700\ttotal: 867ms\tremaining: 578ms\n",
      "600:\tlearn: 0.1809442\ttotal: 869ms\tremaining: 577ms\n",
      "601:\tlearn: 0.1808452\ttotal: 870ms\tremaining: 575ms\n",
      "602:\tlearn: 0.1806935\ttotal: 871ms\tremaining: 574ms\n",
      "603:\tlearn: 0.1804922\ttotal: 872ms\tremaining: 572ms\n",
      "604:\tlearn: 0.1802359\ttotal: 873ms\tremaining: 570ms\n",
      "605:\tlearn: 0.1799623\ttotal: 875ms\tremaining: 569ms\n",
      "606:\tlearn: 0.1796778\ttotal: 876ms\tremaining: 567ms\n",
      "607:\tlearn: 0.1795945\ttotal: 876ms\tremaining: 565ms\n",
      "608:\tlearn: 0.1793995\ttotal: 878ms\tremaining: 563ms\n",
      "609:\tlearn: 0.1792462\ttotal: 879ms\tremaining: 562ms\n",
      "610:\tlearn: 0.1791439\ttotal: 880ms\tremaining: 560ms\n",
      "611:\tlearn: 0.1790020\ttotal: 881ms\tremaining: 559ms\n",
      "612:\tlearn: 0.1788833\ttotal: 882ms\tremaining: 557ms\n",
      "613:\tlearn: 0.1786175\ttotal: 883ms\tremaining: 555ms\n",
      "614:\tlearn: 0.1784771\ttotal: 884ms\tremaining: 554ms\n",
      "615:\tlearn: 0.1782168\ttotal: 885ms\tremaining: 552ms\n",
      "616:\tlearn: 0.1779398\ttotal: 886ms\tremaining: 550ms\n",
      "617:\tlearn: 0.1777176\ttotal: 887ms\tremaining: 548ms\n",
      "618:\tlearn: 0.1777019\ttotal: 888ms\tremaining: 546ms\n",
      "619:\tlearn: 0.1775832\ttotal: 889ms\tremaining: 545ms\n",
      "620:\tlearn: 0.1773602\ttotal: 890ms\tremaining: 543ms\n",
      "621:\tlearn: 0.1770126\ttotal: 891ms\tremaining: 541ms\n",
      "622:\tlearn: 0.1768146\ttotal: 892ms\tremaining: 539ms\n",
      "623:\tlearn: 0.1765484\ttotal: 892ms\tremaining: 538ms\n",
      "624:\tlearn: 0.1764064\ttotal: 893ms\tremaining: 536ms\n",
      "625:\tlearn: 0.1762210\ttotal: 894ms\tremaining: 534ms\n",
      "626:\tlearn: 0.1760655\ttotal: 895ms\tremaining: 533ms\n",
      "627:\tlearn: 0.1757243\ttotal: 896ms\tremaining: 531ms\n",
      "628:\tlearn: 0.1755800\ttotal: 897ms\tremaining: 529ms\n",
      "629:\tlearn: 0.1754952\ttotal: 898ms\tremaining: 528ms\n",
      "630:\tlearn: 0.1752127\ttotal: 899ms\tremaining: 526ms\n",
      "631:\tlearn: 0.1749553\ttotal: 902ms\tremaining: 525ms\n",
      "632:\tlearn: 0.1748264\ttotal: 903ms\tremaining: 523ms\n",
      "633:\tlearn: 0.1745016\ttotal: 904ms\tremaining: 522ms\n",
      "634:\tlearn: 0.1742191\ttotal: 905ms\tremaining: 520ms\n",
      "635:\tlearn: 0.1740541\ttotal: 906ms\tremaining: 518ms\n",
      "636:\tlearn: 0.1737204\ttotal: 907ms\tremaining: 517ms\n",
      "637:\tlearn: 0.1733947\ttotal: 908ms\tremaining: 515ms\n",
      "638:\tlearn: 0.1731724\ttotal: 909ms\tremaining: 513ms\n",
      "639:\tlearn: 0.1730008\ttotal: 910ms\tremaining: 512ms\n",
      "640:\tlearn: 0.1728214\ttotal: 911ms\tremaining: 510ms\n",
      "641:\tlearn: 0.1726675\ttotal: 912ms\tremaining: 508ms\n",
      "642:\tlearn: 0.1725210\ttotal: 913ms\tremaining: 507ms\n",
      "643:\tlearn: 0.1723234\ttotal: 914ms\tremaining: 505ms\n",
      "644:\tlearn: 0.1722174\ttotal: 915ms\tremaining: 503ms\n",
      "645:\tlearn: 0.1720558\ttotal: 916ms\tremaining: 502ms\n",
      "646:\tlearn: 0.1718790\ttotal: 917ms\tremaining: 500ms\n",
      "647:\tlearn: 0.1717897\ttotal: 917ms\tremaining: 498ms\n",
      "648:\tlearn: 0.1715477\ttotal: 918ms\tremaining: 497ms\n",
      "649:\tlearn: 0.1713854\ttotal: 919ms\tremaining: 495ms\n",
      "650:\tlearn: 0.1712464\ttotal: 920ms\tremaining: 493ms\n",
      "651:\tlearn: 0.1711503\ttotal: 921ms\tremaining: 492ms\n",
      "652:\tlearn: 0.1709501\ttotal: 922ms\tremaining: 490ms\n",
      "653:\tlearn: 0.1707606\ttotal: 923ms\tremaining: 489ms\n",
      "654:\tlearn: 0.1706024\ttotal: 924ms\tremaining: 487ms\n",
      "655:\tlearn: 0.1703535\ttotal: 926ms\tremaining: 485ms\n",
      "656:\tlearn: 0.1701084\ttotal: 927ms\tremaining: 484ms\n",
      "657:\tlearn: 0.1696922\ttotal: 928ms\tremaining: 482ms\n",
      "658:\tlearn: 0.1696814\ttotal: 928ms\tremaining: 480ms\n",
      "659:\tlearn: 0.1694438\ttotal: 930ms\tremaining: 479ms\n",
      "660:\tlearn: 0.1691647\ttotal: 931ms\tremaining: 477ms\n",
      "661:\tlearn: 0.1688066\ttotal: 932ms\tremaining: 476ms\n",
      "662:\tlearn: 0.1687588\ttotal: 932ms\tremaining: 474ms\n",
      "663:\tlearn: 0.1684670\ttotal: 933ms\tremaining: 472ms\n",
      "664:\tlearn: 0.1682092\ttotal: 934ms\tremaining: 471ms\n",
      "665:\tlearn: 0.1680999\ttotal: 935ms\tremaining: 469ms\n",
      "666:\tlearn: 0.1679051\ttotal: 936ms\tremaining: 467ms\n",
      "667:\tlearn: 0.1677307\ttotal: 937ms\tremaining: 466ms\n",
      "668:\tlearn: 0.1675469\ttotal: 938ms\tremaining: 464ms\n",
      "669:\tlearn: 0.1672596\ttotal: 939ms\tremaining: 463ms\n",
      "670:\tlearn: 0.1671462\ttotal: 940ms\tremaining: 461ms\n",
      "671:\tlearn: 0.1668496\ttotal: 941ms\tremaining: 460ms\n",
      "672:\tlearn: 0.1665862\ttotal: 942ms\tremaining: 458ms\n",
      "673:\tlearn: 0.1664675\ttotal: 943ms\tremaining: 456ms\n",
      "674:\tlearn: 0.1663941\ttotal: 944ms\tremaining: 455ms\n",
      "675:\tlearn: 0.1661633\ttotal: 945ms\tremaining: 453ms\n",
      "676:\tlearn: 0.1660919\ttotal: 946ms\tremaining: 452ms\n",
      "677:\tlearn: 0.1659412\ttotal: 947ms\tremaining: 450ms\n",
      "678:\tlearn: 0.1657634\ttotal: 948ms\tremaining: 448ms\n",
      "679:\tlearn: 0.1654843\ttotal: 949ms\tremaining: 447ms\n",
      "680:\tlearn: 0.1651315\ttotal: 950ms\tremaining: 445ms\n",
      "681:\tlearn: 0.1649431\ttotal: 951ms\tremaining: 444ms\n",
      "682:\tlearn: 0.1647775\ttotal: 952ms\tremaining: 442ms\n",
      "683:\tlearn: 0.1646586\ttotal: 953ms\tremaining: 440ms\n",
      "684:\tlearn: 0.1643555\ttotal: 954ms\tremaining: 439ms\n",
      "685:\tlearn: 0.1641330\ttotal: 956ms\tremaining: 437ms\n",
      "686:\tlearn: 0.1638581\ttotal: 957ms\tremaining: 436ms\n",
      "687:\tlearn: 0.1637588\ttotal: 958ms\tremaining: 434ms\n",
      "688:\tlearn: 0.1636081\ttotal: 959ms\tremaining: 433ms\n",
      "689:\tlearn: 0.1635875\ttotal: 959ms\tremaining: 431ms\n",
      "690:\tlearn: 0.1634073\ttotal: 960ms\tremaining: 429ms\n",
      "691:\tlearn: 0.1632106\ttotal: 961ms\tremaining: 428ms\n",
      "692:\tlearn: 0.1630698\ttotal: 962ms\tremaining: 426ms\n",
      "693:\tlearn: 0.1628697\ttotal: 963ms\tremaining: 425ms\n",
      "694:\tlearn: 0.1627720\ttotal: 964ms\tremaining: 423ms\n",
      "695:\tlearn: 0.1626288\ttotal: 965ms\tremaining: 421ms\n",
      "696:\tlearn: 0.1625253\ttotal: 966ms\tremaining: 420ms\n",
      "697:\tlearn: 0.1623085\ttotal: 967ms\tremaining: 418ms\n",
      "698:\tlearn: 0.1622179\ttotal: 968ms\tremaining: 417ms\n",
      "699:\tlearn: 0.1621115\ttotal: 969ms\tremaining: 415ms\n",
      "700:\tlearn: 0.1620885\ttotal: 969ms\tremaining: 414ms\n",
      "701:\tlearn: 0.1618901\ttotal: 971ms\tremaining: 412ms\n",
      "702:\tlearn: 0.1617800\ttotal: 971ms\tremaining: 410ms\n",
      "703:\tlearn: 0.1616803\ttotal: 972ms\tremaining: 409ms\n",
      "704:\tlearn: 0.1613607\ttotal: 973ms\tremaining: 407ms\n",
      "705:\tlearn: 0.1612345\ttotal: 974ms\tremaining: 406ms\n",
      "706:\tlearn: 0.1610419\ttotal: 975ms\tremaining: 404ms\n",
      "707:\tlearn: 0.1609592\ttotal: 976ms\tremaining: 403ms\n",
      "708:\tlearn: 0.1607587\ttotal: 977ms\tremaining: 401ms\n",
      "709:\tlearn: 0.1603592\ttotal: 978ms\tremaining: 400ms\n",
      "710:\tlearn: 0.1600395\ttotal: 979ms\tremaining: 398ms\n",
      "711:\tlearn: 0.1599013\ttotal: 980ms\tremaining: 396ms\n",
      "712:\tlearn: 0.1596103\ttotal: 981ms\tremaining: 395ms\n",
      "713:\tlearn: 0.1594630\ttotal: 982ms\tremaining: 393ms\n",
      "714:\tlearn: 0.1593028\ttotal: 983ms\tremaining: 392ms\n",
      "715:\tlearn: 0.1591611\ttotal: 984ms\tremaining: 390ms\n",
      "716:\tlearn: 0.1589493\ttotal: 985ms\tremaining: 389ms\n",
      "717:\tlearn: 0.1587297\ttotal: 986ms\tremaining: 387ms\n",
      "718:\tlearn: 0.1586545\ttotal: 987ms\tremaining: 386ms\n",
      "719:\tlearn: 0.1585750\ttotal: 988ms\tremaining: 384ms\n",
      "720:\tlearn: 0.1585089\ttotal: 989ms\tremaining: 383ms\n",
      "721:\tlearn: 0.1583345\ttotal: 990ms\tremaining: 381ms\n",
      "722:\tlearn: 0.1582543\ttotal: 991ms\tremaining: 380ms\n",
      "723:\tlearn: 0.1580915\ttotal: 992ms\tremaining: 378ms\n",
      "724:\tlearn: 0.1578353\ttotal: 993ms\tremaining: 377ms\n",
      "725:\tlearn: 0.1577109\ttotal: 994ms\tremaining: 375ms\n",
      "726:\tlearn: 0.1574321\ttotal: 995ms\tremaining: 374ms\n",
      "727:\tlearn: 0.1573110\ttotal: 996ms\tremaining: 372ms\n",
      "728:\tlearn: 0.1570243\ttotal: 997ms\tremaining: 370ms\n",
      "729:\tlearn: 0.1568070\ttotal: 998ms\tremaining: 369ms\n",
      "730:\tlearn: 0.1566966\ttotal: 999ms\tremaining: 368ms\n",
      "731:\tlearn: 0.1565118\ttotal: 1000ms\tremaining: 366ms\n",
      "732:\tlearn: 0.1563884\ttotal: 1s\tremaining: 364ms\n",
      "733:\tlearn: 0.1562481\ttotal: 1s\tremaining: 363ms\n",
      "734:\tlearn: 0.1561369\ttotal: 1s\tremaining: 361ms\n",
      "735:\tlearn: 0.1560491\ttotal: 1s\tremaining: 360ms\n",
      "736:\tlearn: 0.1558116\ttotal: 1s\tremaining: 358ms\n",
      "737:\tlearn: 0.1555193\ttotal: 1s\tremaining: 357ms\n",
      "738:\tlearn: 0.1554536\ttotal: 1.01s\tremaining: 355ms\n",
      "739:\tlearn: 0.1552728\ttotal: 1.01s\tremaining: 354ms\n",
      "740:\tlearn: 0.1550987\ttotal: 1.01s\tremaining: 352ms\n",
      "741:\tlearn: 0.1546935\ttotal: 1.01s\tremaining: 351ms\n",
      "742:\tlearn: 0.1544834\ttotal: 1.01s\tremaining: 349ms\n",
      "743:\tlearn: 0.1543726\ttotal: 1.01s\tremaining: 348ms\n",
      "744:\tlearn: 0.1542065\ttotal: 1.01s\tremaining: 347ms\n",
      "745:\tlearn: 0.1539100\ttotal: 1.01s\tremaining: 345ms\n",
      "746:\tlearn: 0.1537151\ttotal: 1.01s\tremaining: 344ms\n",
      "747:\tlearn: 0.1535807\ttotal: 1.01s\tremaining: 342ms\n",
      "748:\tlearn: 0.1535160\ttotal: 1.02s\tremaining: 341ms\n",
      "749:\tlearn: 0.1533041\ttotal: 1.02s\tremaining: 339ms\n",
      "750:\tlearn: 0.1531436\ttotal: 1.02s\tremaining: 338ms\n",
      "751:\tlearn: 0.1528739\ttotal: 1.02s\tremaining: 336ms\n",
      "752:\tlearn: 0.1526920\ttotal: 1.02s\tremaining: 335ms\n",
      "753:\tlearn: 0.1525603\ttotal: 1.02s\tremaining: 333ms\n",
      "754:\tlearn: 0.1522915\ttotal: 1.02s\tremaining: 332ms\n",
      "755:\tlearn: 0.1521069\ttotal: 1.02s\tremaining: 330ms\n",
      "756:\tlearn: 0.1520240\ttotal: 1.02s\tremaining: 329ms\n",
      "757:\tlearn: 0.1519225\ttotal: 1.02s\tremaining: 327ms\n",
      "758:\tlearn: 0.1517834\ttotal: 1.02s\tremaining: 326ms\n",
      "759:\tlearn: 0.1514614\ttotal: 1.03s\tremaining: 324ms\n",
      "760:\tlearn: 0.1513743\ttotal: 1.03s\tremaining: 323ms\n",
      "761:\tlearn: 0.1511910\ttotal: 1.03s\tremaining: 321ms\n",
      "762:\tlearn: 0.1508997\ttotal: 1.03s\tremaining: 320ms\n",
      "763:\tlearn: 0.1506996\ttotal: 1.03s\tremaining: 318ms\n",
      "764:\tlearn: 0.1506519\ttotal: 1.03s\tremaining: 317ms\n",
      "765:\tlearn: 0.1504012\ttotal: 1.03s\tremaining: 315ms\n",
      "766:\tlearn: 0.1502084\ttotal: 1.03s\tremaining: 314ms\n",
      "767:\tlearn: 0.1500247\ttotal: 1.03s\tremaining: 312ms\n",
      "768:\tlearn: 0.1497199\ttotal: 1.03s\tremaining: 311ms\n",
      "769:\tlearn: 0.1495356\ttotal: 1.04s\tremaining: 310ms\n",
      "770:\tlearn: 0.1494485\ttotal: 1.04s\tremaining: 308ms\n",
      "771:\tlearn: 0.1491310\ttotal: 1.04s\tremaining: 307ms\n",
      "772:\tlearn: 0.1490066\ttotal: 1.04s\tremaining: 305ms\n"
     ]
    },
    {
     "name": "stdout",
     "output_type": "stream",
     "text": [
      "773:\tlearn: 0.1487345\ttotal: 1.04s\tremaining: 304ms\n",
      "774:\tlearn: 0.1485635\ttotal: 1.04s\tremaining: 303ms\n",
      "775:\tlearn: 0.1481291\ttotal: 1.04s\tremaining: 301ms\n",
      "776:\tlearn: 0.1478385\ttotal: 1.04s\tremaining: 300ms\n",
      "777:\tlearn: 0.1476333\ttotal: 1.04s\tremaining: 298ms\n",
      "778:\tlearn: 0.1475312\ttotal: 1.05s\tremaining: 297ms\n",
      "779:\tlearn: 0.1474268\ttotal: 1.05s\tremaining: 296ms\n",
      "780:\tlearn: 0.1472994\ttotal: 1.05s\tremaining: 294ms\n",
      "781:\tlearn: 0.1470374\ttotal: 1.05s\tremaining: 293ms\n",
      "782:\tlearn: 0.1470252\ttotal: 1.05s\tremaining: 291ms\n",
      "783:\tlearn: 0.1468700\ttotal: 1.05s\tremaining: 290ms\n",
      "784:\tlearn: 0.1466906\ttotal: 1.05s\tremaining: 289ms\n",
      "785:\tlearn: 0.1466378\ttotal: 1.05s\tremaining: 287ms\n",
      "786:\tlearn: 0.1465725\ttotal: 1.06s\tremaining: 286ms\n",
      "787:\tlearn: 0.1463527\ttotal: 1.06s\tremaining: 284ms\n",
      "788:\tlearn: 0.1462282\ttotal: 1.06s\tremaining: 283ms\n",
      "789:\tlearn: 0.1460485\ttotal: 1.06s\tremaining: 282ms\n",
      "790:\tlearn: 0.1458912\ttotal: 1.06s\tremaining: 280ms\n",
      "791:\tlearn: 0.1456356\ttotal: 1.06s\tremaining: 279ms\n",
      "792:\tlearn: 0.1454705\ttotal: 1.06s\tremaining: 277ms\n",
      "793:\tlearn: 0.1452234\ttotal: 1.06s\tremaining: 276ms\n",
      "794:\tlearn: 0.1451703\ttotal: 1.06s\tremaining: 274ms\n",
      "795:\tlearn: 0.1449397\ttotal: 1.06s\tremaining: 273ms\n",
      "796:\tlearn: 0.1447924\ttotal: 1.07s\tremaining: 272ms\n",
      "797:\tlearn: 0.1447367\ttotal: 1.07s\tremaining: 270ms\n",
      "798:\tlearn: 0.1446806\ttotal: 1.07s\tremaining: 269ms\n",
      "799:\tlearn: 0.1445290\ttotal: 1.07s\tremaining: 267ms\n",
      "800:\tlearn: 0.1443673\ttotal: 1.07s\tremaining: 266ms\n",
      "801:\tlearn: 0.1441222\ttotal: 1.07s\tremaining: 264ms\n",
      "802:\tlearn: 0.1438888\ttotal: 1.07s\tremaining: 263ms\n",
      "803:\tlearn: 0.1438014\ttotal: 1.07s\tremaining: 262ms\n",
      "804:\tlearn: 0.1435803\ttotal: 1.07s\tremaining: 260ms\n",
      "805:\tlearn: 0.1434118\ttotal: 1.07s\tremaining: 259ms\n",
      "806:\tlearn: 0.1432159\ttotal: 1.08s\tremaining: 257ms\n",
      "807:\tlearn: 0.1431584\ttotal: 1.08s\tremaining: 256ms\n",
      "808:\tlearn: 0.1428580\ttotal: 1.08s\tremaining: 255ms\n",
      "809:\tlearn: 0.1426221\ttotal: 1.08s\tremaining: 253ms\n",
      "810:\tlearn: 0.1424530\ttotal: 1.08s\tremaining: 252ms\n",
      "811:\tlearn: 0.1422457\ttotal: 1.08s\tremaining: 250ms\n",
      "812:\tlearn: 0.1422326\ttotal: 1.08s\tremaining: 249ms\n",
      "813:\tlearn: 0.1420144\ttotal: 1.08s\tremaining: 248ms\n",
      "814:\tlearn: 0.1417655\ttotal: 1.08s\tremaining: 246ms\n",
      "815:\tlearn: 0.1416940\ttotal: 1.08s\tremaining: 245ms\n",
      "816:\tlearn: 0.1415775\ttotal: 1.09s\tremaining: 243ms\n",
      "817:\tlearn: 0.1413184\ttotal: 1.09s\tremaining: 242ms\n",
      "818:\tlearn: 0.1411399\ttotal: 1.09s\tremaining: 240ms\n",
      "819:\tlearn: 0.1408328\ttotal: 1.09s\tremaining: 239ms\n",
      "820:\tlearn: 0.1407104\ttotal: 1.09s\tremaining: 238ms\n",
      "821:\tlearn: 0.1406662\ttotal: 1.09s\tremaining: 236ms\n",
      "822:\tlearn: 0.1404839\ttotal: 1.09s\tremaining: 235ms\n",
      "823:\tlearn: 0.1402916\ttotal: 1.09s\tremaining: 233ms\n",
      "824:\tlearn: 0.1401803\ttotal: 1.09s\tremaining: 232ms\n",
      "825:\tlearn: 0.1399407\ttotal: 1.09s\tremaining: 231ms\n",
      "826:\tlearn: 0.1398582\ttotal: 1.1s\tremaining: 229ms\n",
      "827:\tlearn: 0.1397029\ttotal: 1.1s\tremaining: 228ms\n",
      "828:\tlearn: 0.1394939\ttotal: 1.1s\tremaining: 226ms\n",
      "829:\tlearn: 0.1393226\ttotal: 1.1s\tremaining: 225ms\n",
      "830:\tlearn: 0.1390397\ttotal: 1.1s\tremaining: 224ms\n",
      "831:\tlearn: 0.1387865\ttotal: 1.1s\tremaining: 222ms\n",
      "832:\tlearn: 0.1384746\ttotal: 1.1s\tremaining: 221ms\n",
      "833:\tlearn: 0.1384192\ttotal: 1.1s\tremaining: 219ms\n",
      "834:\tlearn: 0.1382441\ttotal: 1.1s\tremaining: 218ms\n",
      "835:\tlearn: 0.1381056\ttotal: 1.1s\tremaining: 217ms\n",
      "836:\tlearn: 0.1380191\ttotal: 1.1s\tremaining: 215ms\n",
      "837:\tlearn: 0.1378611\ttotal: 1.11s\tremaining: 214ms\n",
      "838:\tlearn: 0.1378137\ttotal: 1.11s\tremaining: 213ms\n",
      "839:\tlearn: 0.1376954\ttotal: 1.11s\tremaining: 211ms\n",
      "840:\tlearn: 0.1375353\ttotal: 1.11s\tremaining: 210ms\n",
      "841:\tlearn: 0.1373086\ttotal: 1.11s\tremaining: 208ms\n",
      "842:\tlearn: 0.1370848\ttotal: 1.11s\tremaining: 207ms\n",
      "843:\tlearn: 0.1368763\ttotal: 1.11s\tremaining: 206ms\n",
      "844:\tlearn: 0.1367493\ttotal: 1.11s\tremaining: 204ms\n",
      "845:\tlearn: 0.1366512\ttotal: 1.11s\tremaining: 203ms\n",
      "846:\tlearn: 0.1364858\ttotal: 1.11s\tremaining: 201ms\n",
      "847:\tlearn: 0.1364250\ttotal: 1.12s\tremaining: 200ms\n",
      "848:\tlearn: 0.1363125\ttotal: 1.12s\tremaining: 199ms\n",
      "849:\tlearn: 0.1361235\ttotal: 1.12s\tremaining: 197ms\n",
      "850:\tlearn: 0.1359323\ttotal: 1.12s\tremaining: 196ms\n",
      "851:\tlearn: 0.1356607\ttotal: 1.12s\tremaining: 195ms\n",
      "852:\tlearn: 0.1354987\ttotal: 1.12s\tremaining: 193ms\n",
      "853:\tlearn: 0.1353354\ttotal: 1.12s\tremaining: 192ms\n",
      "854:\tlearn: 0.1350952\ttotal: 1.12s\tremaining: 191ms\n",
      "855:\tlearn: 0.1349162\ttotal: 1.12s\tremaining: 189ms\n",
      "856:\tlearn: 0.1347169\ttotal: 1.13s\tremaining: 188ms\n",
      "857:\tlearn: 0.1344887\ttotal: 1.13s\tremaining: 186ms\n",
      "858:\tlearn: 0.1344281\ttotal: 1.13s\tremaining: 185ms\n",
      "859:\tlearn: 0.1342642\ttotal: 1.13s\tremaining: 184ms\n",
      "860:\tlearn: 0.1340828\ttotal: 1.13s\tremaining: 182ms\n",
      "861:\tlearn: 0.1339099\ttotal: 1.13s\tremaining: 181ms\n",
      "862:\tlearn: 0.1338063\ttotal: 1.13s\tremaining: 180ms\n",
      "863:\tlearn: 0.1336427\ttotal: 1.13s\tremaining: 178ms\n",
      "864:\tlearn: 0.1336013\ttotal: 1.13s\tremaining: 177ms\n",
      "865:\tlearn: 0.1334773\ttotal: 1.13s\tremaining: 175ms\n",
      "866:\tlearn: 0.1333624\ttotal: 1.13s\tremaining: 174ms\n",
      "867:\tlearn: 0.1332900\ttotal: 1.14s\tremaining: 173ms\n",
      "868:\tlearn: 0.1332162\ttotal: 1.14s\tremaining: 171ms\n",
      "869:\tlearn: 0.1330444\ttotal: 1.14s\tremaining: 170ms\n",
      "870:\tlearn: 0.1328360\ttotal: 1.14s\tremaining: 169ms\n",
      "871:\tlearn: 0.1327422\ttotal: 1.14s\tremaining: 167ms\n",
      "872:\tlearn: 0.1326831\ttotal: 1.14s\tremaining: 166ms\n",
      "873:\tlearn: 0.1325231\ttotal: 1.14s\tremaining: 165ms\n",
      "874:\tlearn: 0.1323796\ttotal: 1.14s\tremaining: 163ms\n",
      "875:\tlearn: 0.1322073\ttotal: 1.14s\tremaining: 162ms\n",
      "876:\tlearn: 0.1320100\ttotal: 1.14s\tremaining: 160ms\n",
      "877:\tlearn: 0.1319234\ttotal: 1.15s\tremaining: 159ms\n",
      "878:\tlearn: 0.1319069\ttotal: 1.15s\tremaining: 158ms\n",
      "879:\tlearn: 0.1317681\ttotal: 1.15s\tremaining: 156ms\n",
      "880:\tlearn: 0.1315726\ttotal: 1.15s\tremaining: 155ms\n",
      "881:\tlearn: 0.1314577\ttotal: 1.15s\tremaining: 154ms\n",
      "882:\tlearn: 0.1313612\ttotal: 1.15s\tremaining: 152ms\n",
      "883:\tlearn: 0.1312375\ttotal: 1.15s\tremaining: 151ms\n",
      "884:\tlearn: 0.1310443\ttotal: 1.15s\tremaining: 150ms\n",
      "885:\tlearn: 0.1310006\ttotal: 1.15s\tremaining: 148ms\n",
      "886:\tlearn: 0.1309119\ttotal: 1.15s\tremaining: 147ms\n",
      "887:\tlearn: 0.1308296\ttotal: 1.15s\tremaining: 146ms\n",
      "888:\tlearn: 0.1306051\ttotal: 1.16s\tremaining: 144ms\n",
      "889:\tlearn: 0.1304374\ttotal: 1.16s\tremaining: 143ms\n",
      "890:\tlearn: 0.1302279\ttotal: 1.16s\tremaining: 142ms\n",
      "891:\tlearn: 0.1300704\ttotal: 1.16s\tremaining: 140ms\n",
      "892:\tlearn: 0.1299145\ttotal: 1.16s\tremaining: 139ms\n",
      "893:\tlearn: 0.1297985\ttotal: 1.16s\tremaining: 138ms\n",
      "894:\tlearn: 0.1297315\ttotal: 1.16s\tremaining: 136ms\n",
      "895:\tlearn: 0.1295654\ttotal: 1.16s\tremaining: 135ms\n",
      "896:\tlearn: 0.1293816\ttotal: 1.16s\tremaining: 134ms\n",
      "897:\tlearn: 0.1291394\ttotal: 1.17s\tremaining: 132ms\n",
      "898:\tlearn: 0.1290664\ttotal: 1.17s\tremaining: 131ms\n",
      "899:\tlearn: 0.1289915\ttotal: 1.17s\tremaining: 130ms\n",
      "900:\tlearn: 0.1289084\ttotal: 1.17s\tremaining: 128ms\n",
      "901:\tlearn: 0.1286140\ttotal: 1.17s\tremaining: 127ms\n",
      "902:\tlearn: 0.1284763\ttotal: 1.17s\tremaining: 126ms\n",
      "903:\tlearn: 0.1284147\ttotal: 1.17s\tremaining: 124ms\n",
      "904:\tlearn: 0.1282358\ttotal: 1.17s\tremaining: 123ms\n",
      "905:\tlearn: 0.1279417\ttotal: 1.17s\tremaining: 122ms\n",
      "906:\tlearn: 0.1277719\ttotal: 1.17s\tremaining: 120ms\n",
      "907:\tlearn: 0.1276370\ttotal: 1.18s\tremaining: 119ms\n",
      "908:\tlearn: 0.1274753\ttotal: 1.18s\tremaining: 118ms\n",
      "909:\tlearn: 0.1273620\ttotal: 1.18s\tremaining: 116ms\n",
      "910:\tlearn: 0.1272763\ttotal: 1.18s\tremaining: 115ms\n",
      "911:\tlearn: 0.1270635\ttotal: 1.18s\tremaining: 114ms\n",
      "912:\tlearn: 0.1268576\ttotal: 1.18s\tremaining: 112ms\n",
      "913:\tlearn: 0.1266430\ttotal: 1.18s\tremaining: 111ms\n",
      "914:\tlearn: 0.1264313\ttotal: 1.18s\tremaining: 110ms\n",
      "915:\tlearn: 0.1261897\ttotal: 1.18s\tremaining: 108ms\n",
      "916:\tlearn: 0.1259838\ttotal: 1.18s\tremaining: 107ms\n",
      "917:\tlearn: 0.1258358\ttotal: 1.18s\tremaining: 106ms\n",
      "918:\tlearn: 0.1256659\ttotal: 1.19s\tremaining: 105ms\n",
      "919:\tlearn: 0.1255040\ttotal: 1.19s\tremaining: 103ms\n",
      "920:\tlearn: 0.1253136\ttotal: 1.19s\tremaining: 102ms\n",
      "921:\tlearn: 0.1251573\ttotal: 1.19s\tremaining: 101ms\n",
      "922:\tlearn: 0.1250089\ttotal: 1.19s\tremaining: 99.3ms\n",
      "923:\tlearn: 0.1248256\ttotal: 1.19s\tremaining: 98ms\n",
      "924:\tlearn: 0.1247364\ttotal: 1.19s\tremaining: 96.6ms\n",
      "925:\tlearn: 0.1245993\ttotal: 1.19s\tremaining: 95.3ms\n",
      "926:\tlearn: 0.1244288\ttotal: 1.19s\tremaining: 94ms\n",
      "927:\tlearn: 0.1244145\ttotal: 1.19s\tremaining: 92.7ms\n",
      "928:\tlearn: 0.1242921\ttotal: 1.2s\tremaining: 91.4ms\n",
      "929:\tlearn: 0.1241651\ttotal: 1.2s\tremaining: 90.1ms\n",
      "930:\tlearn: 0.1239980\ttotal: 1.2s\tremaining: 88.8ms\n",
      "931:\tlearn: 0.1239315\ttotal: 1.2s\tremaining: 87.5ms\n",
      "932:\tlearn: 0.1237523\ttotal: 1.2s\tremaining: 86.2ms\n",
      "933:\tlearn: 0.1236920\ttotal: 1.2s\tremaining: 84.8ms\n",
      "934:\tlearn: 0.1236402\ttotal: 1.2s\tremaining: 83.5ms\n",
      "935:\tlearn: 0.1234015\ttotal: 1.2s\tremaining: 82.2ms\n",
      "936:\tlearn: 0.1232449\ttotal: 1.2s\tremaining: 80.9ms\n"
     ]
    },
    {
     "name": "stdout",
     "output_type": "stream",
     "text": [
      "937:\tlearn: 0.1230796\ttotal: 1.21s\tremaining: 79.7ms\n",
      "938:\tlearn: 0.1229189\ttotal: 1.21s\tremaining: 78.4ms\n",
      "939:\tlearn: 0.1227457\ttotal: 1.21s\tremaining: 77.1ms\n",
      "940:\tlearn: 0.1226113\ttotal: 1.21s\tremaining: 75.8ms\n",
      "941:\tlearn: 0.1223985\ttotal: 1.21s\tremaining: 74.5ms\n",
      "942:\tlearn: 0.1221927\ttotal: 1.21s\tremaining: 73.2ms\n",
      "943:\tlearn: 0.1221245\ttotal: 1.21s\tremaining: 71.9ms\n",
      "944:\tlearn: 0.1219860\ttotal: 1.21s\tremaining: 70.6ms\n",
      "945:\tlearn: 0.1218115\ttotal: 1.21s\tremaining: 69.3ms\n",
      "946:\tlearn: 0.1216739\ttotal: 1.22s\tremaining: 68.1ms\n",
      "947:\tlearn: 0.1215265\ttotal: 1.22s\tremaining: 66.8ms\n",
      "948:\tlearn: 0.1213390\ttotal: 1.22s\tremaining: 65.5ms\n",
      "949:\tlearn: 0.1210161\ttotal: 1.22s\tremaining: 64.2ms\n",
      "950:\tlearn: 0.1208457\ttotal: 1.22s\tremaining: 62.9ms\n",
      "951:\tlearn: 0.1207746\ttotal: 1.22s\tremaining: 61.6ms\n",
      "952:\tlearn: 0.1206178\ttotal: 1.22s\tremaining: 60.3ms\n",
      "953:\tlearn: 0.1205071\ttotal: 1.22s\tremaining: 59ms\n",
      "954:\tlearn: 0.1203504\ttotal: 1.23s\tremaining: 57.7ms\n",
      "955:\tlearn: 0.1202290\ttotal: 1.23s\tremaining: 56.5ms\n",
      "956:\tlearn: 0.1201710\ttotal: 1.23s\tremaining: 55.2ms\n",
      "957:\tlearn: 0.1200092\ttotal: 1.23s\tremaining: 53.9ms\n",
      "958:\tlearn: 0.1198486\ttotal: 1.23s\tremaining: 52.6ms\n",
      "959:\tlearn: 0.1197122\ttotal: 1.23s\tremaining: 51.3ms\n",
      "960:\tlearn: 0.1194231\ttotal: 1.23s\tremaining: 50ms\n",
      "961:\tlearn: 0.1192874\ttotal: 1.23s\tremaining: 48.7ms\n",
      "962:\tlearn: 0.1192256\ttotal: 1.23s\tremaining: 47.4ms\n",
      "963:\tlearn: 0.1191171\ttotal: 1.23s\tremaining: 46.1ms\n",
      "964:\tlearn: 0.1189448\ttotal: 1.24s\tremaining: 44.8ms\n",
      "965:\tlearn: 0.1187852\ttotal: 1.24s\tremaining: 43.5ms\n",
      "966:\tlearn: 0.1185749\ttotal: 1.24s\tremaining: 42.2ms\n",
      "967:\tlearn: 0.1184006\ttotal: 1.24s\tremaining: 40.9ms\n",
      "968:\tlearn: 0.1181591\ttotal: 1.24s\tremaining: 39.6ms\n",
      "969:\tlearn: 0.1179896\ttotal: 1.24s\tremaining: 38.4ms\n",
      "970:\tlearn: 0.1178002\ttotal: 1.24s\tremaining: 37.1ms\n",
      "971:\tlearn: 0.1177001\ttotal: 1.24s\tremaining: 35.8ms\n",
      "972:\tlearn: 0.1175520\ttotal: 1.24s\tremaining: 34.5ms\n",
      "973:\tlearn: 0.1173330\ttotal: 1.24s\tremaining: 33.2ms\n",
      "974:\tlearn: 0.1172562\ttotal: 1.25s\tremaining: 31.9ms\n",
      "975:\tlearn: 0.1170960\ttotal: 1.25s\tremaining: 30.7ms\n",
      "976:\tlearn: 0.1170499\ttotal: 1.25s\tremaining: 29.4ms\n",
      "977:\tlearn: 0.1169639\ttotal: 1.25s\tremaining: 28.1ms\n",
      "978:\tlearn: 0.1168682\ttotal: 1.25s\tremaining: 26.8ms\n",
      "979:\tlearn: 0.1167016\ttotal: 1.25s\tremaining: 25.5ms\n",
      "980:\tlearn: 0.1166206\ttotal: 1.25s\tremaining: 24.2ms\n",
      "981:\tlearn: 0.1165217\ttotal: 1.25s\tremaining: 23ms\n",
      "982:\tlearn: 0.1163188\ttotal: 1.25s\tremaining: 21.7ms\n",
      "983:\tlearn: 0.1160624\ttotal: 1.25s\tremaining: 20.4ms\n",
      "984:\tlearn: 0.1159621\ttotal: 1.25s\tremaining: 19.1ms\n",
      "985:\tlearn: 0.1157966\ttotal: 1.26s\tremaining: 17.8ms\n",
      "986:\tlearn: 0.1156244\ttotal: 1.26s\tremaining: 16.6ms\n",
      "987:\tlearn: 0.1154335\ttotal: 1.26s\tremaining: 15.3ms\n",
      "988:\tlearn: 0.1153223\ttotal: 1.26s\tremaining: 14ms\n",
      "989:\tlearn: 0.1152025\ttotal: 1.26s\tremaining: 12.7ms\n",
      "990:\tlearn: 0.1150845\ttotal: 1.26s\tremaining: 11.5ms\n",
      "991:\tlearn: 0.1149112\ttotal: 1.26s\tremaining: 10.2ms\n",
      "992:\tlearn: 0.1147457\ttotal: 1.26s\tremaining: 8.91ms\n",
      "993:\tlearn: 0.1144893\ttotal: 1.26s\tremaining: 7.63ms\n",
      "994:\tlearn: 0.1144009\ttotal: 1.26s\tremaining: 6.36ms\n",
      "995:\tlearn: 0.1141958\ttotal: 1.27s\tremaining: 5.09ms\n",
      "996:\tlearn: 0.1140342\ttotal: 1.27s\tremaining: 3.81ms\n",
      "997:\tlearn: 0.1138858\ttotal: 1.27s\tremaining: 2.54ms\n",
      "998:\tlearn: 0.1137550\ttotal: 1.27s\tremaining: 1.27ms\n",
      "999:\tlearn: 0.1136378\ttotal: 1.27s\tremaining: 0us\n"
     ]
    },
    {
     "data": {
      "text/plain": [
       "<catboost.core.CatBoostClassifier at 0x13492c27280>"
      ]
     },
     "execution_count": 92,
     "metadata": {},
     "output_type": "execute_result"
    }
   ],
   "source": [
    "cat.fit(x_train,y_train)"
   ]
  },
  {
   "cell_type": "code",
   "execution_count": 93,
   "id": "cfc4904d",
   "metadata": {},
   "outputs": [],
   "source": [
    "y_pred_cat=cat.predict(x_test)"
   ]
  },
  {
   "cell_type": "code",
   "execution_count": 94,
   "id": "a084f2c2",
   "metadata": {},
   "outputs": [
    {
     "data": {
      "text/plain": [
       "array([0, 1, 1, 1, 1, 1, 1, 1, 0, 0, 1, 0, 1, 0, 1, 1, 1, 0, 0, 0, 1, 0,\n",
       "       1, 1, 1, 1, 1, 1, 0, 1, 0, 0, 0, 0, 1, 0, 1, 1, 1, 1, 1, 1, 1, 1,\n",
       "       1, 0, 1, 1, 0, 0, 0, 0, 1, 1, 0, 0, 0, 1, 0, 0, 0], dtype=int64)"
      ]
     },
     "execution_count": 94,
     "metadata": {},
     "output_type": "execute_result"
    }
   ],
   "source": [
    "y_pred_cat"
   ]
  },
  {
   "cell_type": "code",
   "execution_count": 95,
   "id": "5f51d773",
   "metadata": {},
   "outputs": [
    {
     "data": {
      "text/plain": [
       "0.8524590163934426"
      ]
     },
     "execution_count": 95,
     "metadata": {},
     "output_type": "execute_result"
    }
   ],
   "source": [
    "accuracy_score(y_pred_cat,y_test)"
   ]
  },
  {
   "cell_type": "code",
   "execution_count": 96,
   "id": "c69375ef",
   "metadata": {},
   "outputs": [
    {
     "data": {
      "text/plain": [
       "array([[22,  4],\n",
       "       [ 5, 30]], dtype=int64)"
      ]
     },
     "execution_count": 96,
     "metadata": {},
     "output_type": "execute_result"
    }
   ],
   "source": [
    "confusion_matrix(y_pred_cat,y_test)"
   ]
  },
  {
   "cell_type": "markdown",
   "id": "1c9fa2a4",
   "metadata": {},
   "source": [
    "# Extreme Gradient Boosting(XGBOOST)"
   ]
  },
  {
   "cell_type": "code",
   "execution_count": 97,
   "id": "fd94f912",
   "metadata": {},
   "outputs": [],
   "source": [
    "from xgboost import XGBClassifier"
   ]
  },
  {
   "cell_type": "code",
   "execution_count": 98,
   "id": "13b8d6ba",
   "metadata": {},
   "outputs": [],
   "source": [
    "xgb=XGBClassifier()"
   ]
  },
  {
   "cell_type": "code",
   "execution_count": 99,
   "id": "e96f46c5",
   "metadata": {},
   "outputs": [
    {
     "data": {
      "text/html": [
       "<style>#sk-container-id-5 {color: black;background-color: white;}#sk-container-id-5 pre{padding: 0;}#sk-container-id-5 div.sk-toggleable {background-color: white;}#sk-container-id-5 label.sk-toggleable__label {cursor: pointer;display: block;width: 100%;margin-bottom: 0;padding: 0.3em;box-sizing: border-box;text-align: center;}#sk-container-id-5 label.sk-toggleable__label-arrow:before {content: \"▸\";float: left;margin-right: 0.25em;color: #696969;}#sk-container-id-5 label.sk-toggleable__label-arrow:hover:before {color: black;}#sk-container-id-5 div.sk-estimator:hover label.sk-toggleable__label-arrow:before {color: black;}#sk-container-id-5 div.sk-toggleable__content {max-height: 0;max-width: 0;overflow: hidden;text-align: left;background-color: #f0f8ff;}#sk-container-id-5 div.sk-toggleable__content pre {margin: 0.2em;color: black;border-radius: 0.25em;background-color: #f0f8ff;}#sk-container-id-5 input.sk-toggleable__control:checked~div.sk-toggleable__content {max-height: 200px;max-width: 100%;overflow: auto;}#sk-container-id-5 input.sk-toggleable__control:checked~label.sk-toggleable__label-arrow:before {content: \"▾\";}#sk-container-id-5 div.sk-estimator input.sk-toggleable__control:checked~label.sk-toggleable__label {background-color: #d4ebff;}#sk-container-id-5 div.sk-label input.sk-toggleable__control:checked~label.sk-toggleable__label {background-color: #d4ebff;}#sk-container-id-5 input.sk-hidden--visually {border: 0;clip: rect(1px 1px 1px 1px);clip: rect(1px, 1px, 1px, 1px);height: 1px;margin: -1px;overflow: hidden;padding: 0;position: absolute;width: 1px;}#sk-container-id-5 div.sk-estimator {font-family: monospace;background-color: #f0f8ff;border: 1px dotted black;border-radius: 0.25em;box-sizing: border-box;margin-bottom: 0.5em;}#sk-container-id-5 div.sk-estimator:hover {background-color: #d4ebff;}#sk-container-id-5 div.sk-parallel-item::after {content: \"\";width: 100%;border-bottom: 1px solid gray;flex-grow: 1;}#sk-container-id-5 div.sk-label:hover label.sk-toggleable__label {background-color: #d4ebff;}#sk-container-id-5 div.sk-serial::before {content: \"\";position: absolute;border-left: 1px solid gray;box-sizing: border-box;top: 0;bottom: 0;left: 50%;z-index: 0;}#sk-container-id-5 div.sk-serial {display: flex;flex-direction: column;align-items: center;background-color: white;padding-right: 0.2em;padding-left: 0.2em;position: relative;}#sk-container-id-5 div.sk-item {position: relative;z-index: 1;}#sk-container-id-5 div.sk-parallel {display: flex;align-items: stretch;justify-content: center;background-color: white;position: relative;}#sk-container-id-5 div.sk-item::before, #sk-container-id-5 div.sk-parallel-item::before {content: \"\";position: absolute;border-left: 1px solid gray;box-sizing: border-box;top: 0;bottom: 0;left: 50%;z-index: -1;}#sk-container-id-5 div.sk-parallel-item {display: flex;flex-direction: column;z-index: 1;position: relative;background-color: white;}#sk-container-id-5 div.sk-parallel-item:first-child::after {align-self: flex-end;width: 50%;}#sk-container-id-5 div.sk-parallel-item:last-child::after {align-self: flex-start;width: 50%;}#sk-container-id-5 div.sk-parallel-item:only-child::after {width: 0;}#sk-container-id-5 div.sk-dashed-wrapped {border: 1px dashed gray;margin: 0 0.4em 0.5em 0.4em;box-sizing: border-box;padding-bottom: 0.4em;background-color: white;}#sk-container-id-5 div.sk-label label {font-family: monospace;font-weight: bold;display: inline-block;line-height: 1.2em;}#sk-container-id-5 div.sk-label-container {text-align: center;}#sk-container-id-5 div.sk-container {/* jupyter's `normalize.less` sets `[hidden] { display: none; }` but bootstrap.min.css set `[hidden] { display: none !important; }` so we also need the `!important` here to be able to override the default hidden behavior on the sphinx rendered scikit-learn.org. See: https://github.com/scikit-learn/scikit-learn/issues/21755 */display: inline-block !important;position: relative;}#sk-container-id-5 div.sk-text-repr-fallback {display: none;}</style><div id=\"sk-container-id-5\" class=\"sk-top-container\"><div class=\"sk-text-repr-fallback\"><pre>XGBClassifier(base_score=0.5, booster=&#x27;gbtree&#x27;, callbacks=None,\n",
       "              colsample_bylevel=1, colsample_bynode=1, colsample_bytree=1,\n",
       "              early_stopping_rounds=None, enable_categorical=False,\n",
       "              eval_metric=None, gamma=0, gpu_id=-1, grow_policy=&#x27;depthwise&#x27;,\n",
       "              importance_type=None, interaction_constraints=&#x27;&#x27;,\n",
       "              learning_rate=0.300000012, max_bin=256, max_cat_to_onehot=4,\n",
       "              max_delta_step=0, max_depth=6, max_leaves=0, min_child_weight=1,\n",
       "              missing=nan, monotone_constraints=&#x27;()&#x27;, n_estimators=100,\n",
       "              n_jobs=0, num_parallel_tree=1, predictor=&#x27;auto&#x27;, random_state=0,\n",
       "              reg_alpha=0, reg_lambda=1, ...)</pre><b>In a Jupyter environment, please rerun this cell to show the HTML representation or trust the notebook. <br />On GitHub, the HTML representation is unable to render, please try loading this page with nbviewer.org.</b></div><div class=\"sk-container\" hidden><div class=\"sk-item\"><div class=\"sk-estimator sk-toggleable\"><input class=\"sk-toggleable__control sk-hidden--visually\" id=\"sk-estimator-id-5\" type=\"checkbox\" checked><label for=\"sk-estimator-id-5\" class=\"sk-toggleable__label sk-toggleable__label-arrow\">XGBClassifier</label><div class=\"sk-toggleable__content\"><pre>XGBClassifier(base_score=0.5, booster=&#x27;gbtree&#x27;, callbacks=None,\n",
       "              colsample_bylevel=1, colsample_bynode=1, colsample_bytree=1,\n",
       "              early_stopping_rounds=None, enable_categorical=False,\n",
       "              eval_metric=None, gamma=0, gpu_id=-1, grow_policy=&#x27;depthwise&#x27;,\n",
       "              importance_type=None, interaction_constraints=&#x27;&#x27;,\n",
       "              learning_rate=0.300000012, max_bin=256, max_cat_to_onehot=4,\n",
       "              max_delta_step=0, max_depth=6, max_leaves=0, min_child_weight=1,\n",
       "              missing=nan, monotone_constraints=&#x27;()&#x27;, n_estimators=100,\n",
       "              n_jobs=0, num_parallel_tree=1, predictor=&#x27;auto&#x27;, random_state=0,\n",
       "              reg_alpha=0, reg_lambda=1, ...)</pre></div></div></div></div></div>"
      ],
      "text/plain": [
       "XGBClassifier(base_score=0.5, booster='gbtree', callbacks=None,\n",
       "              colsample_bylevel=1, colsample_bynode=1, colsample_bytree=1,\n",
       "              early_stopping_rounds=None, enable_categorical=False,\n",
       "              eval_metric=None, gamma=0, gpu_id=-1, grow_policy='depthwise',\n",
       "              importance_type=None, interaction_constraints='',\n",
       "              learning_rate=0.300000012, max_bin=256, max_cat_to_onehot=4,\n",
       "              max_delta_step=0, max_depth=6, max_leaves=0, min_child_weight=1,\n",
       "              missing=nan, monotone_constraints='()', n_estimators=100,\n",
       "              n_jobs=0, num_parallel_tree=1, predictor='auto', random_state=0,\n",
       "              reg_alpha=0, reg_lambda=1, ...)"
      ]
     },
     "execution_count": 99,
     "metadata": {},
     "output_type": "execute_result"
    }
   ],
   "source": [
    "xgb.fit(x_train,y_train)"
   ]
  },
  {
   "cell_type": "code",
   "execution_count": 100,
   "id": "9caef4a3",
   "metadata": {},
   "outputs": [],
   "source": [
    "y_pred_xgb=xgb.predict(x_test)"
   ]
  },
  {
   "cell_type": "code",
   "execution_count": 101,
   "id": "d9ecb4a4",
   "metadata": {},
   "outputs": [
    {
     "data": {
      "text/plain": [
       "array([0, 0, 1, 1, 1, 1, 1, 1, 0, 0, 1, 0, 1, 0, 1, 1, 1, 0, 0, 0, 1, 0,\n",
       "       1, 1, 1, 1, 1, 1, 0, 1, 0, 0, 0, 0, 1, 0, 1, 1, 1, 1, 1, 1, 1, 1,\n",
       "       1, 0, 1, 1, 0, 0, 0, 0, 1, 1, 0, 0, 0, 1, 0, 0, 0])"
      ]
     },
     "execution_count": 101,
     "metadata": {},
     "output_type": "execute_result"
    }
   ],
   "source": [
    "y_pred_xgb"
   ]
  },
  {
   "cell_type": "code",
   "execution_count": 102,
   "id": "4197f954",
   "metadata": {},
   "outputs": [
    {
     "data": {
      "text/plain": [
       "0.8688524590163934"
      ]
     },
     "execution_count": 102,
     "metadata": {},
     "output_type": "execute_result"
    }
   ],
   "source": [
    "accuracy_score(y_pred_xgb,y_test)"
   ]
  },
  {
   "cell_type": "code",
   "execution_count": 103,
   "id": "c044a5fb",
   "metadata": {},
   "outputs": [
    {
     "data": {
      "text/plain": [
       "array([[23,  4],\n",
       "       [ 4, 30]], dtype=int64)"
      ]
     },
     "execution_count": 103,
     "metadata": {},
     "output_type": "execute_result"
    }
   ],
   "source": [
    "confusion_matrix(y_pred_xgb,y_test)"
   ]
  },
  {
   "cell_type": "markdown",
   "id": "d0766ff8",
   "metadata": {},
   "source": [
    "# Linear Discriminant Analysis"
   ]
  },
  {
   "cell_type": "code",
   "execution_count": 104,
   "id": "1ef4a167",
   "metadata": {},
   "outputs": [],
   "source": [
    "from sklearn.discriminant_analysis import LinearDiscriminantAnalysis"
   ]
  },
  {
   "cell_type": "code",
   "execution_count": 105,
   "id": "e3ab7ef7",
   "metadata": {},
   "outputs": [],
   "source": [
    "lda=LinearDiscriminantAnalysis()"
   ]
  },
  {
   "cell_type": "code",
   "execution_count": 106,
   "id": "1244b82a",
   "metadata": {},
   "outputs": [
    {
     "data": {
      "text/html": [
       "<style>#sk-container-id-6 {color: black;background-color: white;}#sk-container-id-6 pre{padding: 0;}#sk-container-id-6 div.sk-toggleable {background-color: white;}#sk-container-id-6 label.sk-toggleable__label {cursor: pointer;display: block;width: 100%;margin-bottom: 0;padding: 0.3em;box-sizing: border-box;text-align: center;}#sk-container-id-6 label.sk-toggleable__label-arrow:before {content: \"▸\";float: left;margin-right: 0.25em;color: #696969;}#sk-container-id-6 label.sk-toggleable__label-arrow:hover:before {color: black;}#sk-container-id-6 div.sk-estimator:hover label.sk-toggleable__label-arrow:before {color: black;}#sk-container-id-6 div.sk-toggleable__content {max-height: 0;max-width: 0;overflow: hidden;text-align: left;background-color: #f0f8ff;}#sk-container-id-6 div.sk-toggleable__content pre {margin: 0.2em;color: black;border-radius: 0.25em;background-color: #f0f8ff;}#sk-container-id-6 input.sk-toggleable__control:checked~div.sk-toggleable__content {max-height: 200px;max-width: 100%;overflow: auto;}#sk-container-id-6 input.sk-toggleable__control:checked~label.sk-toggleable__label-arrow:before {content: \"▾\";}#sk-container-id-6 div.sk-estimator input.sk-toggleable__control:checked~label.sk-toggleable__label {background-color: #d4ebff;}#sk-container-id-6 div.sk-label input.sk-toggleable__control:checked~label.sk-toggleable__label {background-color: #d4ebff;}#sk-container-id-6 input.sk-hidden--visually {border: 0;clip: rect(1px 1px 1px 1px);clip: rect(1px, 1px, 1px, 1px);height: 1px;margin: -1px;overflow: hidden;padding: 0;position: absolute;width: 1px;}#sk-container-id-6 div.sk-estimator {font-family: monospace;background-color: #f0f8ff;border: 1px dotted black;border-radius: 0.25em;box-sizing: border-box;margin-bottom: 0.5em;}#sk-container-id-6 div.sk-estimator:hover {background-color: #d4ebff;}#sk-container-id-6 div.sk-parallel-item::after {content: \"\";width: 100%;border-bottom: 1px solid gray;flex-grow: 1;}#sk-container-id-6 div.sk-label:hover label.sk-toggleable__label {background-color: #d4ebff;}#sk-container-id-6 div.sk-serial::before {content: \"\";position: absolute;border-left: 1px solid gray;box-sizing: border-box;top: 0;bottom: 0;left: 50%;z-index: 0;}#sk-container-id-6 div.sk-serial {display: flex;flex-direction: column;align-items: center;background-color: white;padding-right: 0.2em;padding-left: 0.2em;position: relative;}#sk-container-id-6 div.sk-item {position: relative;z-index: 1;}#sk-container-id-6 div.sk-parallel {display: flex;align-items: stretch;justify-content: center;background-color: white;position: relative;}#sk-container-id-6 div.sk-item::before, #sk-container-id-6 div.sk-parallel-item::before {content: \"\";position: absolute;border-left: 1px solid gray;box-sizing: border-box;top: 0;bottom: 0;left: 50%;z-index: -1;}#sk-container-id-6 div.sk-parallel-item {display: flex;flex-direction: column;z-index: 1;position: relative;background-color: white;}#sk-container-id-6 div.sk-parallel-item:first-child::after {align-self: flex-end;width: 50%;}#sk-container-id-6 div.sk-parallel-item:last-child::after {align-self: flex-start;width: 50%;}#sk-container-id-6 div.sk-parallel-item:only-child::after {width: 0;}#sk-container-id-6 div.sk-dashed-wrapped {border: 1px dashed gray;margin: 0 0.4em 0.5em 0.4em;box-sizing: border-box;padding-bottom: 0.4em;background-color: white;}#sk-container-id-6 div.sk-label label {font-family: monospace;font-weight: bold;display: inline-block;line-height: 1.2em;}#sk-container-id-6 div.sk-label-container {text-align: center;}#sk-container-id-6 div.sk-container {/* jupyter's `normalize.less` sets `[hidden] { display: none; }` but bootstrap.min.css set `[hidden] { display: none !important; }` so we also need the `!important` here to be able to override the default hidden behavior on the sphinx rendered scikit-learn.org. See: https://github.com/scikit-learn/scikit-learn/issues/21755 */display: inline-block !important;position: relative;}#sk-container-id-6 div.sk-text-repr-fallback {display: none;}</style><div id=\"sk-container-id-6\" class=\"sk-top-container\"><div class=\"sk-text-repr-fallback\"><pre>LinearDiscriminantAnalysis()</pre><b>In a Jupyter environment, please rerun this cell to show the HTML representation or trust the notebook. <br />On GitHub, the HTML representation is unable to render, please try loading this page with nbviewer.org.</b></div><div class=\"sk-container\" hidden><div class=\"sk-item\"><div class=\"sk-estimator sk-toggleable\"><input class=\"sk-toggleable__control sk-hidden--visually\" id=\"sk-estimator-id-6\" type=\"checkbox\" checked><label for=\"sk-estimator-id-6\" class=\"sk-toggleable__label sk-toggleable__label-arrow\">LinearDiscriminantAnalysis</label><div class=\"sk-toggleable__content\"><pre>LinearDiscriminantAnalysis()</pre></div></div></div></div></div>"
      ],
      "text/plain": [
       "LinearDiscriminantAnalysis()"
      ]
     },
     "execution_count": 106,
     "metadata": {},
     "output_type": "execute_result"
    }
   ],
   "source": [
    "lda.fit(x_train,y_train)"
   ]
  },
  {
   "cell_type": "code",
   "execution_count": 107,
   "id": "d806db5d",
   "metadata": {},
   "outputs": [],
   "source": [
    "y_pred_LDA=lda.predict(x_test)"
   ]
  },
  {
   "cell_type": "code",
   "execution_count": 108,
   "id": "9d205cc0",
   "metadata": {},
   "outputs": [
    {
     "data": {
      "text/plain": [
       "array([0, 1, 1, 1, 1, 1, 0, 1, 0, 0, 1, 0, 1, 0, 1, 1, 1, 0, 0, 0, 1, 0,\n",
       "       0, 1, 1, 1, 1, 1, 0, 1, 0, 0, 0, 0, 1, 0, 1, 1, 1, 1, 1, 1, 1, 1,\n",
       "       1, 0, 1, 1, 0, 0, 0, 0, 1, 1, 0, 0, 0, 1, 0, 0, 0], dtype=int64)"
      ]
     },
     "execution_count": 108,
     "metadata": {},
     "output_type": "execute_result"
    }
   ],
   "source": [
    "y_pred_LDA"
   ]
  },
  {
   "cell_type": "code",
   "execution_count": 109,
   "id": "5c12750e",
   "metadata": {},
   "outputs": [
    {
     "data": {
      "text/plain": [
       "0.8524590163934426"
      ]
     },
     "execution_count": 109,
     "metadata": {},
     "output_type": "execute_result"
    }
   ],
   "source": [
    "accuracy_score(y_pred_LDA,y_test)"
   ]
  },
  {
   "cell_type": "code",
   "execution_count": 110,
   "id": "1e64dbf0",
   "metadata": {},
   "outputs": [
    {
     "data": {
      "text/plain": [
       "array([[23,  5],\n",
       "       [ 4, 29]], dtype=int64)"
      ]
     },
     "execution_count": 110,
     "metadata": {},
     "output_type": "execute_result"
    }
   ],
   "source": [
    "confusion_matrix(y_pred_LDA,y_test)"
   ]
  },
  {
   "cell_type": "markdown",
   "id": "5db7e5e8",
   "metadata": {},
   "source": [
    "# K Neighbors Classifier"
   ]
  },
  {
   "cell_type": "code",
   "execution_count": 111,
   "id": "19e18e93",
   "metadata": {},
   "outputs": [],
   "source": [
    "from sklearn.neighbors import KNeighborsClassifier"
   ]
  },
  {
   "cell_type": "code",
   "execution_count": 112,
   "id": "65029fe4",
   "metadata": {},
   "outputs": [],
   "source": [
    "knn=KNeighborsClassifier()"
   ]
  },
  {
   "cell_type": "code",
   "execution_count": 113,
   "id": "8640f1f1",
   "metadata": {},
   "outputs": [
    {
     "data": {
      "text/html": [
       "<style>#sk-container-id-7 {color: black;background-color: white;}#sk-container-id-7 pre{padding: 0;}#sk-container-id-7 div.sk-toggleable {background-color: white;}#sk-container-id-7 label.sk-toggleable__label {cursor: pointer;display: block;width: 100%;margin-bottom: 0;padding: 0.3em;box-sizing: border-box;text-align: center;}#sk-container-id-7 label.sk-toggleable__label-arrow:before {content: \"▸\";float: left;margin-right: 0.25em;color: #696969;}#sk-container-id-7 label.sk-toggleable__label-arrow:hover:before {color: black;}#sk-container-id-7 div.sk-estimator:hover label.sk-toggleable__label-arrow:before {color: black;}#sk-container-id-7 div.sk-toggleable__content {max-height: 0;max-width: 0;overflow: hidden;text-align: left;background-color: #f0f8ff;}#sk-container-id-7 div.sk-toggleable__content pre {margin: 0.2em;color: black;border-radius: 0.25em;background-color: #f0f8ff;}#sk-container-id-7 input.sk-toggleable__control:checked~div.sk-toggleable__content {max-height: 200px;max-width: 100%;overflow: auto;}#sk-container-id-7 input.sk-toggleable__control:checked~label.sk-toggleable__label-arrow:before {content: \"▾\";}#sk-container-id-7 div.sk-estimator input.sk-toggleable__control:checked~label.sk-toggleable__label {background-color: #d4ebff;}#sk-container-id-7 div.sk-label input.sk-toggleable__control:checked~label.sk-toggleable__label {background-color: #d4ebff;}#sk-container-id-7 input.sk-hidden--visually {border: 0;clip: rect(1px 1px 1px 1px);clip: rect(1px, 1px, 1px, 1px);height: 1px;margin: -1px;overflow: hidden;padding: 0;position: absolute;width: 1px;}#sk-container-id-7 div.sk-estimator {font-family: monospace;background-color: #f0f8ff;border: 1px dotted black;border-radius: 0.25em;box-sizing: border-box;margin-bottom: 0.5em;}#sk-container-id-7 div.sk-estimator:hover {background-color: #d4ebff;}#sk-container-id-7 div.sk-parallel-item::after {content: \"\";width: 100%;border-bottom: 1px solid gray;flex-grow: 1;}#sk-container-id-7 div.sk-label:hover label.sk-toggleable__label {background-color: #d4ebff;}#sk-container-id-7 div.sk-serial::before {content: \"\";position: absolute;border-left: 1px solid gray;box-sizing: border-box;top: 0;bottom: 0;left: 50%;z-index: 0;}#sk-container-id-7 div.sk-serial {display: flex;flex-direction: column;align-items: center;background-color: white;padding-right: 0.2em;padding-left: 0.2em;position: relative;}#sk-container-id-7 div.sk-item {position: relative;z-index: 1;}#sk-container-id-7 div.sk-parallel {display: flex;align-items: stretch;justify-content: center;background-color: white;position: relative;}#sk-container-id-7 div.sk-item::before, #sk-container-id-7 div.sk-parallel-item::before {content: \"\";position: absolute;border-left: 1px solid gray;box-sizing: border-box;top: 0;bottom: 0;left: 50%;z-index: -1;}#sk-container-id-7 div.sk-parallel-item {display: flex;flex-direction: column;z-index: 1;position: relative;background-color: white;}#sk-container-id-7 div.sk-parallel-item:first-child::after {align-self: flex-end;width: 50%;}#sk-container-id-7 div.sk-parallel-item:last-child::after {align-self: flex-start;width: 50%;}#sk-container-id-7 div.sk-parallel-item:only-child::after {width: 0;}#sk-container-id-7 div.sk-dashed-wrapped {border: 1px dashed gray;margin: 0 0.4em 0.5em 0.4em;box-sizing: border-box;padding-bottom: 0.4em;background-color: white;}#sk-container-id-7 div.sk-label label {font-family: monospace;font-weight: bold;display: inline-block;line-height: 1.2em;}#sk-container-id-7 div.sk-label-container {text-align: center;}#sk-container-id-7 div.sk-container {/* jupyter's `normalize.less` sets `[hidden] { display: none; }` but bootstrap.min.css set `[hidden] { display: none !important; }` so we also need the `!important` here to be able to override the default hidden behavior on the sphinx rendered scikit-learn.org. See: https://github.com/scikit-learn/scikit-learn/issues/21755 */display: inline-block !important;position: relative;}#sk-container-id-7 div.sk-text-repr-fallback {display: none;}</style><div id=\"sk-container-id-7\" class=\"sk-top-container\"><div class=\"sk-text-repr-fallback\"><pre>KNeighborsClassifier()</pre><b>In a Jupyter environment, please rerun this cell to show the HTML representation or trust the notebook. <br />On GitHub, the HTML representation is unable to render, please try loading this page with nbviewer.org.</b></div><div class=\"sk-container\" hidden><div class=\"sk-item\"><div class=\"sk-estimator sk-toggleable\"><input class=\"sk-toggleable__control sk-hidden--visually\" id=\"sk-estimator-id-7\" type=\"checkbox\" checked><label for=\"sk-estimator-id-7\" class=\"sk-toggleable__label sk-toggleable__label-arrow\">KNeighborsClassifier</label><div class=\"sk-toggleable__content\"><pre>KNeighborsClassifier()</pre></div></div></div></div></div>"
      ],
      "text/plain": [
       "KNeighborsClassifier()"
      ]
     },
     "execution_count": 113,
     "metadata": {},
     "output_type": "execute_result"
    }
   ],
   "source": [
    "knn.fit(x_train,y_train)"
   ]
  },
  {
   "cell_type": "code",
   "execution_count": 114,
   "id": "34686713",
   "metadata": {},
   "outputs": [],
   "source": [
    "y_pred_knn=knn.predict(x_test)"
   ]
  },
  {
   "cell_type": "code",
   "execution_count": 115,
   "id": "73dde9bb",
   "metadata": {},
   "outputs": [
    {
     "data": {
      "text/plain": [
       "array([0, 1, 1, 1, 0, 1, 1, 1, 0, 1, 0, 0, 1, 0, 1, 1, 1, 0, 1, 0, 0, 0,\n",
       "       0, 1, 1, 1, 0, 1, 0, 1, 0, 0, 0, 1, 0, 0, 1, 1, 1, 1, 1, 1, 0, 1,\n",
       "       1, 1, 1, 1, 1, 1, 1, 0, 0, 0, 1, 0, 1, 1, 0, 1, 0], dtype=int64)"
      ]
     },
     "execution_count": 115,
     "metadata": {},
     "output_type": "execute_result"
    }
   ],
   "source": [
    "y_pred_knn"
   ]
  },
  {
   "cell_type": "code",
   "execution_count": 116,
   "id": "d9ad7624",
   "metadata": {},
   "outputs": [
    {
     "data": {
      "text/plain": [
       "0.6721311475409836"
      ]
     },
     "execution_count": 116,
     "metadata": {},
     "output_type": "execute_result"
    }
   ],
   "source": [
    "accuracy_score(y_pred_knn,y_test)"
   ]
  },
  {
   "cell_type": "code",
   "execution_count": 117,
   "id": "7557d99d",
   "metadata": {},
   "outputs": [
    {
     "name": "stdout",
     "output_type": "stream",
     "text": [
      "Accuracy Score from Logistic Regression Model is=  0.819672131147541\n",
      "Accuracy Score from Random Forest Classification Model is=  0.8688524590163934\n",
      "Accuracy Score from Decision Tree Model is=  0.819672131147541\n",
      "Accuracy Score from Ridge Classifier Model is=  0.8524590163934426\n",
      "Accuracy Score from Catboost Classifier Model is=  0.8524590163934426\n",
      "Accuracy Score from XGBoost Model is=  0.8688524590163934\n",
      "Accuracy Score from Linear Discriminant Analysis Model is=  0.8524590163934426\n",
      "Accuracy Score from K Neighbors Classifier Model is=  0.6721311475409836\n"
     ]
    }
   ],
   "source": [
    "print(\"Accuracy Score from Logistic Regression Model is= \",accuracy_score(y_pred_logistic_regression,y_test))\n",
    "print(\"Accuracy Score from Random Forest Classification Model is= \",accuracy_score(y_pred_rfc,y_test))\n",
    "print(\"Accuracy Score from Decision Tree Model is= \",accuracy_score(y_pred_decision_tree,y_test))\n",
    "print(\"Accuracy Score from Ridge Classifier Model is= \",accuracy_score(y_pred_rc,y_test))\n",
    "print(\"Accuracy Score from Catboost Classifier Model is= \",accuracy_score(y_pred_cat,y_test))\n",
    "print(\"Accuracy Score from XGBoost Model is= \",accuracy_score(y_pred_xgb,y_test))\n",
    "print(\"Accuracy Score from Linear Discriminant Analysis Model is= \",accuracy_score(y_pred_LDA,y_test))\n",
    "print(\"Accuracy Score from K Neighbors Classifier Model is= \",accuracy_score(y_pred_knn,y_test))"
   ]
  },
  {
   "cell_type": "markdown",
   "id": "4afc4ef8",
   "metadata": {},
   "source": [
    "# Random Forest Classifier and XGBoost Both are Performing Well"
   ]
  }
 ],
 "metadata": {
  "kernelspec": {
   "display_name": "Python 3 (ipykernel)",
   "language": "python",
   "name": "python3"
  },
  "language_info": {
   "codemirror_mode": {
    "name": "ipython",
    "version": 3
   },
   "file_extension": ".py",
   "mimetype": "text/x-python",
   "name": "python",
   "nbconvert_exporter": "python",
   "pygments_lexer": "ipython3",
   "version": "3.9.7"
  }
 },
 "nbformat": 4,
 "nbformat_minor": 5
}
